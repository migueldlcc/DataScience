{
 "cells": [
  {
   "cell_type": "code",
   "execution_count": 20,
   "metadata": {},
   "outputs": [],
   "source": [
    "import os"
   ]
  },
  {
   "cell_type": "code",
   "execution_count": 21,
   "metadata": {},
   "outputs": [
    {
     "name": "stdout",
     "output_type": "stream",
     "text": [
      "74\n",
      "['/Users/vree/GithubRepos/DataScience/basFiles/3hoursFromIncidentToInterpolationData copy/diagramsForModelTraining/intensiteit-snelheid-rotterdam-22-29-Maart/RWS02_0000170346_170346.png', '/Users/vree/GithubRepos/DataScience/basFiles/3hoursFromIncidentToInterpolationData copy/diagramsForModelTraining/intensiteit-snelheid-rotterdam-22-29-Maart/RWS02_0000168554_168554.png', '/Users/vree/GithubRepos/DataScience/basFiles/3hoursFromIncidentToInterpolationData copy/diagramsForModelTraining/intensiteit-snelheid-rotterdam-22-29-Maart/RWS02_0000168571_168571.png', '/Users/vree/GithubRepos/DataScience/basFiles/3hoursFromIncidentToInterpolationData copy/diagramsForModelTraining/intensiteit-snelheid-rotterdam-22-29-Maart/RWS02_0000170461_170461.png', '/Users/vree/GithubRepos/DataScience/basFiles/3hoursFromIncidentToInterpolationData copy/diagramsForModelTraining/intensiteit-snelheid-rotterdam-22-29-Maart/NLRWS_NLSIT002755585_1.png']\n"
     ]
    }
   ],
   "source": [
    "# count all the diagrams in diagramsForModelTraining and its subfolders\n",
    "all_accident_diagrams_paths = []\n",
    "count = 0\n",
    "\n",
    "# Use os.walk to traverse through the directory tree\n",
    "for root, dirs, files in os.walk(\"/Users/vree/GithubRepos/DataScience/basFiles/3hoursFromIncidentToInterpolationData copy/diagramsForModelTraining\"):\n",
    "    for file in files:\n",
    "        if file.endswith(\".png\"):\n",
    "            # Construct the full path to the file, including subdirectories\n",
    "            full_path = os.path.join(root, file)\n",
    "            all_accident_diagrams_paths.append(full_path)\n",
    "            count += 1\n",
    "\n",
    "print(count)\n",
    "print(all_accident_diagrams_paths[:5])\n",
    "\n",
    "\n"
   ]
  },
  {
   "cell_type": "code",
   "execution_count": null,
   "metadata": {},
   "outputs": [],
   "source": []
  }
 ],
 "metadata": {
  "kernelspec": {
   "display_name": "base",
   "language": "python",
   "name": "python3"
  },
  "language_info": {
   "codemirror_mode": {
    "name": "ipython",
    "version": 3
   },
   "file_extension": ".py",
   "mimetype": "text/x-python",
   "name": "python",
   "nbconvert_exporter": "python",
   "pygments_lexer": "ipython3",
   "version": "3.11.7"
  }
 },
 "nbformat": 4,
 "nbformat_minor": 2
}
