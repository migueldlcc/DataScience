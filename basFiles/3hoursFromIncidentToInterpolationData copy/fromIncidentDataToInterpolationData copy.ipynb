{
 "cells": [
  {
   "cell_type": "markdown",
   "metadata": {},
   "source": [
    "This code creates interpolation data for incidents between the specified\n",
    "start_date and end_date, and saves it as csv file in the folder:\n",
    "/fromIncidentToInterpolationData/incidentInterpolationData"
   ]
  },
  {
   "cell_type": "code",
   "execution_count": 1,
   "metadata": {},
   "outputs": [],
   "source": [
    "\n",
    "import matplotlib.pyplot as plt\n",
    "import pandas as pd\n",
    "import json\n",
    "from sqlalchemy import create_engine"
   ]
  },
  {
   "cell_type": "markdown",
   "metadata": {},
   "source": [
    "Presets, agreed upon for all diagrams"
   ]
  },
  {
   "cell_type": "code",
   "execution_count": 2,
   "metadata": {},
   "outputs": [],
   "source": [
    "x_incident = 3000\n",
    "t_incident = 60\n",
    "time_recording_before_incident = 60\n",
    "time_recording_after_incident = 180\n",
    "\n",
    "mimimal_number_of_cameras = 6\n",
    "\n",
    "\n",
    "# filter dates between 15th of March 2020 and 21th of March 2020\n",
    "start_date = '2020-03-22'\n",
    "end_date = '2020-03-29'\n",
    "\n",
    "# the filename for the speedflow data \n",
    "file_name = f\"/Users/vree/Documents/UTwente/Masters UTwente/Data Science/DM Project/Speed-flow/Maart/intensiteit-snelheid-rotterdam-22-29-Maart/intensiteit-snelheid-rotterdam-22-29-Maart.csv\"\n",
    "\n",
    "file_name_for_saving = file_name.split(\"/\")[-1].split(\".\")[0]\n"
   ]
  },
  {
   "cell_type": "markdown",
   "metadata": {},
   "source": [
    "presets for current run"
   ]
  },
  {
   "cell_type": "code",
   "execution_count": null,
   "metadata": {},
   "outputs": [],
   "source": []
  },
  {
   "cell_type": "code",
   "execution_count": 3,
   "metadata": {},
   "outputs": [
    {
     "name": "stdout",
     "output_type": "stream",
     "text": [
      "(266, 9)\n"
     ]
    },
    {
     "data": {
      "text/html": [
       "<div>\n",
       "<style scoped>\n",
       "    .dataframe tbody tr th:only-of-type {\n",
       "        vertical-align: middle;\n",
       "    }\n",
       "\n",
       "    .dataframe tbody tr th {\n",
       "        vertical-align: top;\n",
       "    }\n",
       "\n",
       "    .dataframe thead th {\n",
       "        text-align: right;\n",
       "    }\n",
       "</style>\n",
       "<table border=\"1\" class=\"dataframe\">\n",
       "  <thead>\n",
       "    <tr style=\"text-align: right;\">\n",
       "      <th></th>\n",
       "      <th>id</th>\n",
       "      <th>starttijd</th>\n",
       "      <th>type</th>\n",
       "      <th>gedetailleerd_type</th>\n",
       "      <th>primaire_locatie_lengtegraad</th>\n",
       "      <th>primaire_locatie_breedtegraad</th>\n",
       "      <th>segment</th>\n",
       "      <th>before</th>\n",
       "      <th>after</th>\n",
       "    </tr>\n",
       "  </thead>\n",
       "  <tbody>\n",
       "    <tr>\n",
       "      <th>0</th>\n",
       "      <td>RWS02_0000157188_157188</td>\n",
       "      <td>2020-03-01 08:38:28</td>\n",
       "      <td>vehicle_obstruction</td>\n",
       "      <td>emergencyVehicle</td>\n",
       "      <td>4.366420</td>\n",
       "      <td>51.920952</td>\n",
       "      <td>north</td>\n",
       "      <td>{'RWS01_MONIBAS_0041hrl0706ra': 0.022954588858...</td>\n",
       "      <td>{'GEO0K_K_RWSTI357132': 0.16579609461072695}</td>\n",
       "    </tr>\n",
       "    <tr>\n",
       "      <th>1</th>\n",
       "      <td>RWS02_0000157197_157197</td>\n",
       "      <td>2020-03-01 10:00:57</td>\n",
       "      <td>vehicle_obstruction</td>\n",
       "      <td>emergencyVehicle</td>\n",
       "      <td>4.432840</td>\n",
       "      <td>51.928864</td>\n",
       "      <td>west-east</td>\n",
       "      <td>{'RWS01_MONIBAS_0201hrr0284ra': 0.094239550154...</td>\n",
       "      <td>{'RWS01_MONIBAS_0201hrr0285ra': 0.065785586736...</td>\n",
       "    </tr>\n",
       "    <tr>\n",
       "      <th>2</th>\n",
       "      <td>RWS02_0000157269_157269</td>\n",
       "      <td>2020-03-01 13:21:58</td>\n",
       "      <td>vehicle_obstruction</td>\n",
       "      <td>emergencyVehicle</td>\n",
       "      <td>4.456025</td>\n",
       "      <td>51.864422</td>\n",
       "      <td>east-west</td>\n",
       "      <td>{'RWS01_MONIBAS_0150vwy0557ra': 0.249505010285...</td>\n",
       "      <td>{'RWS01_MONIBAS_0150vwy0553ra': 0.229508095798...</td>\n",
       "    </tr>\n",
       "    <tr>\n",
       "      <th>3</th>\n",
       "      <td>RWS03_816372_1</td>\n",
       "      <td>2020-03-01 15:19:57</td>\n",
       "      <td>vehicle_obstruction</td>\n",
       "      <td>brokenDownVehicle</td>\n",
       "      <td>4.538568</td>\n",
       "      <td>51.909523</td>\n",
       "      <td>south</td>\n",
       "      <td>{'RWS01_MONIBAS_0160vwx0193ra': 0.896763594374...</td>\n",
       "      <td>{'RWS01_MONIBAS_0160vwx0202ra': 0.001663796286...</td>\n",
       "    </tr>\n",
       "    <tr>\n",
       "      <th>4</th>\n",
       "      <td>RWS02_0000157393_157393</td>\n",
       "      <td>2020-03-01 23:03:29</td>\n",
       "      <td>vehicle_obstruction</td>\n",
       "      <td>emergencyVehicle</td>\n",
       "      <td>4.439620</td>\n",
       "      <td>51.868599</td>\n",
       "      <td>east-west</td>\n",
       "      <td>{'RWS01_MONIBAS_0150vwy0544ra': 0.166980200322...</td>\n",
       "      <td>{'RWS01_MONIBAS_0150vwy0540ra': 0.210197772623...</td>\n",
       "    </tr>\n",
       "  </tbody>\n",
       "</table>\n",
       "</div>"
      ],
      "text/plain": [
       "                        id           starttijd                 type  \\\n",
       "0  RWS02_0000157188_157188 2020-03-01 08:38:28  vehicle_obstruction   \n",
       "1  RWS02_0000157197_157197 2020-03-01 10:00:57  vehicle_obstruction   \n",
       "2  RWS02_0000157269_157269 2020-03-01 13:21:58  vehicle_obstruction   \n",
       "3           RWS03_816372_1 2020-03-01 15:19:57  vehicle_obstruction   \n",
       "4  RWS02_0000157393_157393 2020-03-01 23:03:29  vehicle_obstruction   \n",
       "\n",
       "  gedetailleerd_type  primaire_locatie_lengtegraad  \\\n",
       "0   emergencyVehicle                      4.366420   \n",
       "1   emergencyVehicle                      4.432840   \n",
       "2   emergencyVehicle                      4.456025   \n",
       "3  brokenDownVehicle                      4.538568   \n",
       "4   emergencyVehicle                      4.439620   \n",
       "\n",
       "   primaire_locatie_breedtegraad    segment  \\\n",
       "0                      51.920952      north   \n",
       "1                      51.928864  west-east   \n",
       "2                      51.864422  east-west   \n",
       "3                      51.909523      south   \n",
       "4                      51.868599  east-west   \n",
       "\n",
       "                                              before  \\\n",
       "0  {'RWS01_MONIBAS_0041hrl0706ra': 0.022954588858...   \n",
       "1  {'RWS01_MONIBAS_0201hrr0284ra': 0.094239550154...   \n",
       "2  {'RWS01_MONIBAS_0150vwy0557ra': 0.249505010285...   \n",
       "3  {'RWS01_MONIBAS_0160vwx0193ra': 0.896763594374...   \n",
       "4  {'RWS01_MONIBAS_0150vwy0544ra': 0.166980200322...   \n",
       "\n",
       "                                               after  \n",
       "0       {'GEO0K_K_RWSTI357132': 0.16579609461072695}  \n",
       "1  {'RWS01_MONIBAS_0201hrr0285ra': 0.065785586736...  \n",
       "2  {'RWS01_MONIBAS_0150vwy0553ra': 0.229508095798...  \n",
       "3  {'RWS01_MONIBAS_0160vwx0202ra': 0.001663796286...  \n",
       "4  {'RWS01_MONIBAS_0150vwy0540ra': 0.210197772623...  "
      ]
     },
     "execution_count": 3,
     "metadata": {},
     "output_type": "execute_result"
    }
   ],
   "source": [
    "driver='postgresql'\n",
    "username='dab_ds23241a_223'\n",
    "dbname=username # it is the same as the username\n",
    "password='Bh6KFgcWazMMCPvZ'\n",
    "server='bronto.ewi.utwente.nl'\n",
    "port='5432'\n",
    "\n",
    "# Create an engine instance\n",
    "alchemy_engine = create_engine(f'{driver}://{username}:{password}@{server}:{port}/{dbname}')\n",
    "\n",
    "# Connect to PostgreSQL server\n",
    "db_connection = alchemy_engine.connect()\n",
    "\n",
    "# Read the data into a_df\n",
    "a_df = pd.read_sql(f\"select * from \\\"project\\\".\\\"Incidents_With_Cameras\\\"\", db_connection)\n",
    "\n",
    "# Check if 'before' and 'after' columns are already dictionaries\n",
    "if a_df['before'].apply(type).eq(dict).all() and a_df['after'].apply(type).eq(dict).all():\n",
    "    print('Columns are already dictionaries.')\n",
    "else:\n",
    "    # Convert the 'before' and 'after' columns from JSON strings back to dictionaries if they are not already\n",
    "    a_df['before'] = a_df['before'].apply(lambda x: json.loads(x) if isinstance(x, str) else x)\n",
    "    a_df['after'] = a_df['after'].apply(lambda x: json.loads(x) if isinstance(x, str) else x)\n",
    "# Close the database connection\n",
    "db_connection.close()\n",
    "print(a_df.shape)\n",
    "a_df.head()\n"
   ]
  },
  {
   "cell_type": "markdown",
   "metadata": {},
   "source": [
    "Filter between the preset dates"
   ]
  },
  {
   "cell_type": "code",
   "execution_count": 4,
   "metadata": {},
   "outputs": [
    {
     "name": "stdout",
     "output_type": "stream",
     "text": [
      "(26, 9)\n"
     ]
    }
   ],
   "source": [
    "# filter between preset dates: start_date and end_date\n",
    "a_df = a_df[(a_df['starttijd'] >= start_date) & (a_df['starttijd'] <= end_date)]\n",
    "print(a_df.shape)"
   ]
  },
  {
   "cell_type": "code",
   "execution_count": 5,
   "metadata": {},
   "outputs": [],
   "source": [
    "# returns cameras and their true x for an incident\n",
    "#  so a list of camera ids and their x values\n",
    "def create_x_variable_for_incident_cameras(row):\n",
    "    locations_before = row['before']\n",
    "    locations_after = row['after']\n",
    "    \n",
    "    # create dataframe with distance before, where the row entry is a json with a key\n",
    "    # for camera id and the value is the distance\n",
    "    before_cameras_data = []\n",
    "    \n",
    "    before_cameras_data = [{'camera_id': key, 'x': x_incident - (value * 1000)} for key, value in locations_before.items()]\n",
    "    \n",
    "    before_cameras_x = pd.DataFrame(before_cameras_data)\n",
    "    \n",
    "    # create dataframe with distance after, where the row entry is a json with a key\n",
    "    # for camera id and the value is the distance\n",
    "    after_cameras_data = []\n",
    "    \n",
    "    after_cameras_data = [{'camera_id': key, 'x': x_incident + (value * 1000)} for key, value in locations_after.items()]\n",
    "        \n",
    "    after_cameras_x = pd.DataFrame(after_cameras_data)\n",
    "    df = pd.concat([before_cameras_x, after_cameras_x])\n",
    "    print(df.head(3))\n",
    "    return df\n",
    "\n",
    "\n",
    " \n",
    "    \n",
    "    \n",
    "    \n",
    "    \n",
    "    "
   ]
  },
  {
   "cell_type": "code",
   "execution_count": 6,
   "metadata": {},
   "outputs": [],
   "source": [
    "# times must be delivered as pd.datetime\n",
    "def speed_flow_data_for_incident(camera_ids, start_time, end_time):\n",
    "    # read speed flow data in chunks of 10000 and filter on camera id and time\n",
    "    # only keep start_meetperiode, id_meetlocatie, gem_snelheid\n",
    "    \n",
    "    \n",
    "    chunksize = 10000\n",
    "    chunks = []\n",
    "    for chunk in pd.read_csv(file_name, chunksize=chunksize):\n",
    "        chunk = chunk[(chunk['id_meetlocatie'].isin(camera_ids)) & (pd.to_datetime(chunk['start_meetperiode']) >= start_time) & (pd.to_datetime(chunk['start_meetperiode']) <= end_time)]\n",
    "        chunk = chunk[['start_meetperiode', 'id_meetlocatie', 'gem_snelheid']]\n",
    "        chunks.append(chunk)\n",
    "    return pd.concat(chunks)\n"
   ]
  },
  {
   "cell_type": "markdown",
   "metadata": {},
   "source": [
    "Creating the incident interpolation data"
   ]
  },
  {
   "cell_type": "code",
   "execution_count": 7,
   "metadata": {},
   "outputs": [],
   "source": [
    "# incident_row = a_df.iloc[0]\n",
    "\n",
    "# cameras_x_df = create_x_variable_for_incident_cameras(incident_row)\n",
    "    \n",
    "# camera_ids = cameras_x_df['camera_id'].tolist()\n",
    "\n",
    "# incident_time = pd.to_datetime(incident_row['starttijd'])\n",
    "# start_time_for_diagram = incident_time - pd.Timedelta(minutes=time_recording_before_incident)\n",
    "# end_time_for_diagram = incident_time + pd.Timedelta(minutes=time_recording_after_incident)\n",
    "# # returns df with start_meetperiode, id_meetlocatie, gem_snelheid\n",
    "# speedflow_data = speed_flow_data_for_incident(camera_ids, start_time_for_diagram, end_time_for_diagram)\n",
    "\n",
    "# # let the start_meetperiode be the time in minutes since the incident\n",
    "# speedflow_data['start_meetperiode'] = (pd.to_datetime(speedflow_data['start_meetperiode']) - incident_time).dt.total_seconds() / 60.0\n",
    "\n",
    "# merged_data = pd.merge(cameras_x_df, speedflow_data, left_on='camera_id', right_on='id_meetlocatie')\n",
    "\n",
    "# # rename columns: x->x, gem_snelheid->v, start_meetperiode->t\n",
    "# merged_data = merged_data.rename(columns={'x': 'x', 'gem_snelheid': 'v', 'start_meetperiode': 't'})\n"
   ]
  },
  {
   "cell_type": "code",
   "execution_count": 8,
   "metadata": {},
   "outputs": [],
   "source": [
    "# aggregate duplicates where x and t are the same, and take the average of v\n",
    "def aggregate_data(data):\n",
    "    return data.groupby(['x', 't']).agg({'v': 'mean'}).reset_index()\n",
    "\n"
   ]
  },
  {
   "cell_type": "code",
   "execution_count": 9,
   "metadata": {},
   "outputs": [],
   "source": [
    "# merged_data.head()"
   ]
  },
  {
   "cell_type": "code",
   "execution_count": 10,
   "metadata": {},
   "outputs": [],
   "source": [
    "# retrieving a list of cameras and their x values\n",
    "def create_interpolation_data_for_incident(incident_row):\n",
    "    \n",
    "\n",
    "    cameras_x_df = create_x_variable_for_incident_cameras(incident_row)\n",
    "    \n",
    "        \n",
    "    camera_ids = cameras_x_df['camera_id'].tolist()\n",
    "\n",
    "    incident_time = pd.to_datetime(incident_row['starttijd'])\n",
    "    start_time_for_diagram = incident_time - pd.Timedelta(minutes=time_recording_before_incident)\n",
    "    end_time_for_diagram = incident_time + pd.Timedelta(minutes=time_recording_after_incident)\n",
    "    # returns df with start_meetperiode, id_meetlocatie, gem_snelheid\n",
    "    speedflow_data = speed_flow_data_for_incident(camera_ids, start_time_for_diagram, end_time_for_diagram)\n",
    "\n",
    "    print(\"speed flow data for incident was: \", speedflow_data.head())\n",
    "\n",
    "    # let the start_meetperiode be the time in minutes since the incident\n",
    "    speedflow_data['start_meetperiode'] = ((pd.to_datetime(speedflow_data['start_meetperiode']) - incident_time).dt.total_seconds() / 60.0)+t_incident\n",
    "\n",
    "    merged_data = pd.merge(cameras_x_df, speedflow_data, left_on='camera_id', right_on='id_meetlocatie')\n",
    "\n",
    "    # rename columns: x->x, gem_snelheid->v, start_meetperiode->t\n",
    "    merged_data = merged_data.rename(columns={'x': 'x', 'gem_snelheid': 'v', 'start_meetperiode': 't'})\n",
    "    \n",
    "    return merged_data\n",
    "\n",
    "\n",
    "\n",
    "\n",
    "\n",
    "\n",
    "    \n",
    "        \n",
    "    \n",
    "    \n",
    "\n",
    "\n"
   ]
  },
  {
   "cell_type": "code",
   "execution_count": 11,
   "metadata": {},
   "outputs": [],
   "source": [
    "import os"
   ]
  },
  {
   "cell_type": "code",
   "execution_count": 12,
   "metadata": {},
   "outputs": [
    {
     "name": "stdout",
     "output_type": "stream",
     "text": [
      "                     camera_id            x\n",
      "0  RWS01_MONIBAS_0150vwy0628ra  2953.267858\n",
      "1  RWS01_MONIBAS_0150vwy0633ra  2475.127253\n",
      "0  RWS01_MONIBAS_0150vwy0626ra  3138.649010\n"
     ]
    },
    {
     "name": "stderr",
     "output_type": "stream",
     "text": [
      "/var/folders/c0/2gmfm5qd4tl9nzl882r0xr040000gn/T/ipykernel_53263/252438380.py:10: UserWarning: Could not infer format, so each element will be parsed individually, falling back to `dateutil`. To ensure parsing is consistent and as-expected, please specify a format.\n",
      "  chunk = chunk[(chunk['id_meetlocatie'].isin(camera_ids)) & (pd.to_datetime(chunk['start_meetperiode']) >= start_time) & (pd.to_datetime(chunk['start_meetperiode']) <= end_time)]\n",
      "/var/folders/c0/2gmfm5qd4tl9nzl882r0xr040000gn/T/ipykernel_53263/252438380.py:10: UserWarning: Could not infer format, so each element will be parsed individually, falling back to `dateutil`. To ensure parsing is consistent and as-expected, please specify a format.\n",
      "  chunk = chunk[(chunk['id_meetlocatie'].isin(camera_ids)) & (pd.to_datetime(chunk['start_meetperiode']) >= start_time) & (pd.to_datetime(chunk['start_meetperiode']) <= end_time)]\n",
      "/var/folders/c0/2gmfm5qd4tl9nzl882r0xr040000gn/T/ipykernel_53263/252438380.py:10: UserWarning: Could not infer format, so each element will be parsed individually, falling back to `dateutil`. To ensure parsing is consistent and as-expected, please specify a format.\n",
      "  chunk = chunk[(chunk['id_meetlocatie'].isin(camera_ids)) & (pd.to_datetime(chunk['start_meetperiode']) >= start_time) & (pd.to_datetime(chunk['start_meetperiode']) <= end_time)]\n",
      "/var/folders/c0/2gmfm5qd4tl9nzl882r0xr040000gn/T/ipykernel_53263/252438380.py:10: UserWarning: Could not infer format, so each element will be parsed individually, falling back to `dateutil`. To ensure parsing is consistent and as-expected, please specify a format.\n",
      "  chunk = chunk[(chunk['id_meetlocatie'].isin(camera_ids)) & (pd.to_datetime(chunk['start_meetperiode']) >= start_time) & (pd.to_datetime(chunk['start_meetperiode']) <= end_time)]\n",
      "/var/folders/c0/2gmfm5qd4tl9nzl882r0xr040000gn/T/ipykernel_53263/252438380.py:10: UserWarning: Could not infer format, so each element will be parsed individually, falling back to `dateutil`. To ensure parsing is consistent and as-expected, please specify a format.\n",
      "  chunk = chunk[(chunk['id_meetlocatie'].isin(camera_ids)) & (pd.to_datetime(chunk['start_meetperiode']) >= start_time) & (pd.to_datetime(chunk['start_meetperiode']) <= end_time)]\n",
      "/var/folders/c0/2gmfm5qd4tl9nzl882r0xr040000gn/T/ipykernel_53263/252438380.py:10: UserWarning: Could not infer format, so each element will be parsed individually, falling back to `dateutil`. To ensure parsing is consistent and as-expected, please specify a format.\n",
      "  chunk = chunk[(chunk['id_meetlocatie'].isin(camera_ids)) & (pd.to_datetime(chunk['start_meetperiode']) >= start_time) & (pd.to_datetime(chunk['start_meetperiode']) <= end_time)]\n"
     ]
    },
    {
     "name": "stdout",
     "output_type": "stream",
     "text": [
      "speed flow data for incident was:              start_meetperiode               id_meetlocatie  gem_snelheid\n",
      "47959221  2020-03-26 23:19:00  RWS01_MONIBAS_0150vwn0579ra          -1.0\n",
      "47959222  2020-03-26 23:19:00  RWS01_MONIBAS_0150vwn0579ra          -1.0\n",
      "47959223  2020-03-26 23:19:00  RWS01_MONIBAS_0150vwn0579ra          99.0\n",
      "47959224  2020-03-26 23:20:00  RWS01_MONIBAS_0150vwn0579ra         111.0\n",
      "47959225  2020-03-26 23:20:00  RWS01_MONIBAS_0150vwn0579ra          -1.0\n",
      "number of rows incident data:  3120\n",
      "number of rows after removing negatives;  2291\n",
      "created csv for incident:  RWS02_0000170467_170467\n",
      "                           camera_id            x\n",
      "0  RWS01_MONICA_10D0040B545B68200005  2957.573929\n",
      "1  RWS01_MONICA_10D0040B5C2468200005  2814.305573\n",
      "2        RWS01_MONIBAS_0040vwn0728ra  2672.146902\n"
     ]
    },
    {
     "name": "stderr",
     "output_type": "stream",
     "text": [
      "/var/folders/c0/2gmfm5qd4tl9nzl882r0xr040000gn/T/ipykernel_53263/252438380.py:10: UserWarning: Could not infer format, so each element will be parsed individually, falling back to `dateutil`. To ensure parsing is consistent and as-expected, please specify a format.\n",
      "  chunk = chunk[(chunk['id_meetlocatie'].isin(camera_ids)) & (pd.to_datetime(chunk['start_meetperiode']) >= start_time) & (pd.to_datetime(chunk['start_meetperiode']) <= end_time)]\n",
      "/var/folders/c0/2gmfm5qd4tl9nzl882r0xr040000gn/T/ipykernel_53263/252438380.py:10: UserWarning: Could not infer format, so each element will be parsed individually, falling back to `dateutil`. To ensure parsing is consistent and as-expected, please specify a format.\n",
      "  chunk = chunk[(chunk['id_meetlocatie'].isin(camera_ids)) & (pd.to_datetime(chunk['start_meetperiode']) >= start_time) & (pd.to_datetime(chunk['start_meetperiode']) <= end_time)]\n",
      "/var/folders/c0/2gmfm5qd4tl9nzl882r0xr040000gn/T/ipykernel_53263/252438380.py:10: UserWarning: Could not infer format, so each element will be parsed individually, falling back to `dateutil`. To ensure parsing is consistent and as-expected, please specify a format.\n",
      "  chunk = chunk[(chunk['id_meetlocatie'].isin(camera_ids)) & (pd.to_datetime(chunk['start_meetperiode']) >= start_time) & (pd.to_datetime(chunk['start_meetperiode']) <= end_time)]\n",
      "/var/folders/c0/2gmfm5qd4tl9nzl882r0xr040000gn/T/ipykernel_53263/252438380.py:10: UserWarning: Could not infer format, so each element will be parsed individually, falling back to `dateutil`. To ensure parsing is consistent and as-expected, please specify a format.\n",
      "  chunk = chunk[(chunk['id_meetlocatie'].isin(camera_ids)) & (pd.to_datetime(chunk['start_meetperiode']) >= start_time) & (pd.to_datetime(chunk['start_meetperiode']) <= end_time)]\n",
      "/var/folders/c0/2gmfm5qd4tl9nzl882r0xr040000gn/T/ipykernel_53263/252438380.py:10: UserWarning: Could not infer format, so each element will be parsed individually, falling back to `dateutil`. To ensure parsing is consistent and as-expected, please specify a format.\n",
      "  chunk = chunk[(chunk['id_meetlocatie'].isin(camera_ids)) & (pd.to_datetime(chunk['start_meetperiode']) >= start_time) & (pd.to_datetime(chunk['start_meetperiode']) <= end_time)]\n",
      "/var/folders/c0/2gmfm5qd4tl9nzl882r0xr040000gn/T/ipykernel_53263/252438380.py:10: UserWarning: Could not infer format, so each element will be parsed individually, falling back to `dateutil`. To ensure parsing is consistent and as-expected, please specify a format.\n",
      "  chunk = chunk[(chunk['id_meetlocatie'].isin(camera_ids)) & (pd.to_datetime(chunk['start_meetperiode']) >= start_time) & (pd.to_datetime(chunk['start_meetperiode']) <= end_time)]\n"
     ]
    },
    {
     "name": "stdout",
     "output_type": "stream",
     "text": [
      "speed flow data for incident was:             start_meetperiode       id_meetlocatie  gem_snelheid\n",
      "4342770  2020-03-22 15:59:00  GEO0K_K_RWSTI357132           0.0\n",
      "4342771  2020-03-22 15:59:00  GEO0K_K_RWSTI357132         103.0\n",
      "4342772  2020-03-22 15:59:00  GEO0K_K_RWSTI357132           0.0\n",
      "4342773  2020-03-22 15:59:00  GEO0K_K_RWSTI357132           0.0\n",
      "4342774  2020-03-22 15:59:00  GEO0K_K_RWSTI357132           0.0\n",
      "number of rows incident data:  4559\n",
      "number of rows after removing negatives;  4154\n",
      "created csv for incident:  RWS02_0000168554_168554\n",
      "                     camera_id            x\n",
      "0  RWS01_MONIBAS_0201hrr0363ra  2715.314100\n",
      "1  RWS01_MONIBAS_0201hrr0360ra  2416.477414\n",
      "2  RWS01_MONIBAS_0201hrr0354ra  1820.302745\n"
     ]
    },
    {
     "name": "stderr",
     "output_type": "stream",
     "text": [
      "/var/folders/c0/2gmfm5qd4tl9nzl882r0xr040000gn/T/ipykernel_53263/252438380.py:10: UserWarning: Could not infer format, so each element will be parsed individually, falling back to `dateutil`. To ensure parsing is consistent and as-expected, please specify a format.\n",
      "  chunk = chunk[(chunk['id_meetlocatie'].isin(camera_ids)) & (pd.to_datetime(chunk['start_meetperiode']) >= start_time) & (pd.to_datetime(chunk['start_meetperiode']) <= end_time)]\n",
      "/var/folders/c0/2gmfm5qd4tl9nzl882r0xr040000gn/T/ipykernel_53263/252438380.py:10: UserWarning: Could not infer format, so each element will be parsed individually, falling back to `dateutil`. To ensure parsing is consistent and as-expected, please specify a format.\n",
      "  chunk = chunk[(chunk['id_meetlocatie'].isin(camera_ids)) & (pd.to_datetime(chunk['start_meetperiode']) >= start_time) & (pd.to_datetime(chunk['start_meetperiode']) <= end_time)]\n",
      "/var/folders/c0/2gmfm5qd4tl9nzl882r0xr040000gn/T/ipykernel_53263/252438380.py:10: UserWarning: Could not infer format, so each element will be parsed individually, falling back to `dateutil`. To ensure parsing is consistent and as-expected, please specify a format.\n",
      "  chunk = chunk[(chunk['id_meetlocatie'].isin(camera_ids)) & (pd.to_datetime(chunk['start_meetperiode']) >= start_time) & (pd.to_datetime(chunk['start_meetperiode']) <= end_time)]\n",
      "/var/folders/c0/2gmfm5qd4tl9nzl882r0xr040000gn/T/ipykernel_53263/252438380.py:10: UserWarning: Could not infer format, so each element will be parsed individually, falling back to `dateutil`. To ensure parsing is consistent and as-expected, please specify a format.\n",
      "  chunk = chunk[(chunk['id_meetlocatie'].isin(camera_ids)) & (pd.to_datetime(chunk['start_meetperiode']) >= start_time) & (pd.to_datetime(chunk['start_meetperiode']) <= end_time)]\n",
      "/var/folders/c0/2gmfm5qd4tl9nzl882r0xr040000gn/T/ipykernel_53263/252438380.py:10: UserWarning: Could not infer format, so each element will be parsed individually, falling back to `dateutil`. To ensure parsing is consistent and as-expected, please specify a format.\n",
      "  chunk = chunk[(chunk['id_meetlocatie'].isin(camera_ids)) & (pd.to_datetime(chunk['start_meetperiode']) >= start_time) & (pd.to_datetime(chunk['start_meetperiode']) <= end_time)]\n",
      "/var/folders/c0/2gmfm5qd4tl9nzl882r0xr040000gn/T/ipykernel_53263/252438380.py:10: UserWarning: Could not infer format, so each element will be parsed individually, falling back to `dateutil`. To ensure parsing is consistent and as-expected, please specify a format.\n",
      "  chunk = chunk[(chunk['id_meetlocatie'].isin(camera_ids)) & (pd.to_datetime(chunk['start_meetperiode']) >= start_time) & (pd.to_datetime(chunk['start_meetperiode']) <= end_time)]\n"
     ]
    },
    {
     "name": "stdout",
     "output_type": "stream",
     "text": [
      "speed flow data for incident was:              start_meetperiode               id_meetlocatie  gem_snelheid\n",
      "62344603  2020-03-22 17:05:00  RWS01_MONIBAS_0201hrr0346ra         113.0\n",
      "62344604  2020-03-22 17:05:00  RWS01_MONIBAS_0201hrr0346ra         103.0\n",
      "62344605  2020-03-22 17:06:00  RWS01_MONIBAS_0201hrr0346ra         113.0\n",
      "62344606  2020-03-22 17:06:00  RWS01_MONIBAS_0201hrr0346ra         100.0\n",
      "62344607  2020-03-22 17:07:00  RWS01_MONIBAS_0201hrr0346ra          -1.0\n",
      "number of rows incident data:  1680\n",
      "number of rows after removing negatives;  1677\n",
      "created csv for incident:  RWS02_0000168562_168562\n",
      "                     camera_id            x\n",
      "0  RWS01_MONIBAS_0201hrr0363ra  2716.226230\n",
      "1  RWS01_MONIBAS_0201hrr0360ra  2417.279865\n",
      "2  RWS01_MONIBAS_0201hrr0354ra  1820.893956\n"
     ]
    },
    {
     "name": "stderr",
     "output_type": "stream",
     "text": [
      "/var/folders/c0/2gmfm5qd4tl9nzl882r0xr040000gn/T/ipykernel_53263/252438380.py:10: UserWarning: Could not infer format, so each element will be parsed individually, falling back to `dateutil`. To ensure parsing is consistent and as-expected, please specify a format.\n",
      "  chunk = chunk[(chunk['id_meetlocatie'].isin(camera_ids)) & (pd.to_datetime(chunk['start_meetperiode']) >= start_time) & (pd.to_datetime(chunk['start_meetperiode']) <= end_time)]\n",
      "/var/folders/c0/2gmfm5qd4tl9nzl882r0xr040000gn/T/ipykernel_53263/252438380.py:10: UserWarning: Could not infer format, so each element will be parsed individually, falling back to `dateutil`. To ensure parsing is consistent and as-expected, please specify a format.\n",
      "  chunk = chunk[(chunk['id_meetlocatie'].isin(camera_ids)) & (pd.to_datetime(chunk['start_meetperiode']) >= start_time) & (pd.to_datetime(chunk['start_meetperiode']) <= end_time)]\n",
      "/var/folders/c0/2gmfm5qd4tl9nzl882r0xr040000gn/T/ipykernel_53263/252438380.py:10: UserWarning: Could not infer format, so each element will be parsed individually, falling back to `dateutil`. To ensure parsing is consistent and as-expected, please specify a format.\n",
      "  chunk = chunk[(chunk['id_meetlocatie'].isin(camera_ids)) & (pd.to_datetime(chunk['start_meetperiode']) >= start_time) & (pd.to_datetime(chunk['start_meetperiode']) <= end_time)]\n",
      "/var/folders/c0/2gmfm5qd4tl9nzl882r0xr040000gn/T/ipykernel_53263/252438380.py:10: UserWarning: Could not infer format, so each element will be parsed individually, falling back to `dateutil`. To ensure parsing is consistent and as-expected, please specify a format.\n",
      "  chunk = chunk[(chunk['id_meetlocatie'].isin(camera_ids)) & (pd.to_datetime(chunk['start_meetperiode']) >= start_time) & (pd.to_datetime(chunk['start_meetperiode']) <= end_time)]\n",
      "/var/folders/c0/2gmfm5qd4tl9nzl882r0xr040000gn/T/ipykernel_53263/252438380.py:10: UserWarning: Could not infer format, so each element will be parsed individually, falling back to `dateutil`. To ensure parsing is consistent and as-expected, please specify a format.\n",
      "  chunk = chunk[(chunk['id_meetlocatie'].isin(camera_ids)) & (pd.to_datetime(chunk['start_meetperiode']) >= start_time) & (pd.to_datetime(chunk['start_meetperiode']) <= end_time)]\n",
      "/var/folders/c0/2gmfm5qd4tl9nzl882r0xr040000gn/T/ipykernel_53263/252438380.py:10: UserWarning: Could not infer format, so each element will be parsed individually, falling back to `dateutil`. To ensure parsing is consistent and as-expected, please specify a format.\n",
      "  chunk = chunk[(chunk['id_meetlocatie'].isin(camera_ids)) & (pd.to_datetime(chunk['start_meetperiode']) >= start_time) & (pd.to_datetime(chunk['start_meetperiode']) <= end_time)]\n"
     ]
    },
    {
     "name": "stdout",
     "output_type": "stream",
     "text": [
      "speed flow data for incident was:              start_meetperiode               id_meetlocatie  gem_snelheid\n",
      "62344697  2020-03-22 17:52:00  RWS01_MONIBAS_0201hrr0346ra          99.0\n",
      "62344698  2020-03-22 17:52:00  RWS01_MONIBAS_0201hrr0346ra          94.0\n",
      "62344699  2020-03-22 17:53:00  RWS01_MONIBAS_0201hrr0346ra         131.0\n",
      "62344700  2020-03-22 17:53:00  RWS01_MONIBAS_0201hrr0346ra         103.0\n",
      "62344701  2020-03-22 17:54:00  RWS01_MONIBAS_0201hrr0346ra         107.0\n",
      "number of rows incident data:  1680\n",
      "number of rows after removing negatives;  1678\n",
      "created csv for incident:  RWS02_0000168571_168571\n",
      "                     camera_id            x\n",
      "0  RWS01_MONIBAS_0201hrr0264ra  2799.929366\n",
      "1  RWS01_MONIBAS_0201hrr0257ra  2119.313472\n",
      "2  RWS01_MONIBAS_0201hrr0253ra  1753.036438\n"
     ]
    },
    {
     "name": "stderr",
     "output_type": "stream",
     "text": [
      "/var/folders/c0/2gmfm5qd4tl9nzl882r0xr040000gn/T/ipykernel_53263/252438380.py:10: UserWarning: Could not infer format, so each element will be parsed individually, falling back to `dateutil`. To ensure parsing is consistent and as-expected, please specify a format.\n",
      "  chunk = chunk[(chunk['id_meetlocatie'].isin(camera_ids)) & (pd.to_datetime(chunk['start_meetperiode']) >= start_time) & (pd.to_datetime(chunk['start_meetperiode']) <= end_time)]\n",
      "/var/folders/c0/2gmfm5qd4tl9nzl882r0xr040000gn/T/ipykernel_53263/252438380.py:10: UserWarning: Could not infer format, so each element will be parsed individually, falling back to `dateutil`. To ensure parsing is consistent and as-expected, please specify a format.\n",
      "  chunk = chunk[(chunk['id_meetlocatie'].isin(camera_ids)) & (pd.to_datetime(chunk['start_meetperiode']) >= start_time) & (pd.to_datetime(chunk['start_meetperiode']) <= end_time)]\n",
      "/var/folders/c0/2gmfm5qd4tl9nzl882r0xr040000gn/T/ipykernel_53263/252438380.py:10: UserWarning: Could not infer format, so each element will be parsed individually, falling back to `dateutil`. To ensure parsing is consistent and as-expected, please specify a format.\n",
      "  chunk = chunk[(chunk['id_meetlocatie'].isin(camera_ids)) & (pd.to_datetime(chunk['start_meetperiode']) >= start_time) & (pd.to_datetime(chunk['start_meetperiode']) <= end_time)]\n",
      "/var/folders/c0/2gmfm5qd4tl9nzl882r0xr040000gn/T/ipykernel_53263/252438380.py:10: UserWarning: Could not infer format, so each element will be parsed individually, falling back to `dateutil`. To ensure parsing is consistent and as-expected, please specify a format.\n",
      "  chunk = chunk[(chunk['id_meetlocatie'].isin(camera_ids)) & (pd.to_datetime(chunk['start_meetperiode']) >= start_time) & (pd.to_datetime(chunk['start_meetperiode']) <= end_time)]\n",
      "/var/folders/c0/2gmfm5qd4tl9nzl882r0xr040000gn/T/ipykernel_53263/252438380.py:10: UserWarning: Could not infer format, so each element will be parsed individually, falling back to `dateutil`. To ensure parsing is consistent and as-expected, please specify a format.\n",
      "  chunk = chunk[(chunk['id_meetlocatie'].isin(camera_ids)) & (pd.to_datetime(chunk['start_meetperiode']) >= start_time) & (pd.to_datetime(chunk['start_meetperiode']) <= end_time)]\n",
      "/var/folders/c0/2gmfm5qd4tl9nzl882r0xr040000gn/T/ipykernel_53263/252438380.py:10: UserWarning: Could not infer format, so each element will be parsed individually, falling back to `dateutil`. To ensure parsing is consistent and as-expected, please specify a format.\n",
      "  chunk = chunk[(chunk['id_meetlocatie'].isin(camera_ids)) & (pd.to_datetime(chunk['start_meetperiode']) >= start_time) & (pd.to_datetime(chunk['start_meetperiode']) <= end_time)]\n"
     ]
    },
    {
     "name": "stdout",
     "output_type": "stream",
     "text": [
      "speed flow data for incident was:              start_meetperiode               id_meetlocatie  gem_snelheid\n",
      "58086930  2020-03-27 00:57:00  RWS01_MONIBAS_0200vwa0303ra          97.0\n",
      "58086931  2020-03-27 00:58:00  RWS01_MONIBAS_0200vwa0303ra          78.0\n",
      "58086932  2020-03-27 00:59:00  RWS01_MONIBAS_0200vwa0303ra          -1.0\n",
      "58086933  2020-03-27 01:00:00  RWS01_MONIBAS_0200vwa0303ra          -1.0\n",
      "58086934  2020-03-27 01:01:00  RWS01_MONIBAS_0200vwa0303ra          -1.0\n",
      "number of rows incident data:  5520\n",
      "number of rows after removing negatives;  4612\n",
      "created csv for incident:  RWS02_0000170485_170485\n",
      "                           camera_id            x\n",
      "0        RWS01_MONIBAS_0040vwn0739ra  2913.436268\n",
      "1  RWS01_MONICA_10D0040B980468200005  2664.792047\n",
      "2        RWS01_MONIBAS_0041hrl0744ra  2465.366032\n"
     ]
    },
    {
     "name": "stderr",
     "output_type": "stream",
     "text": [
      "/var/folders/c0/2gmfm5qd4tl9nzl882r0xr040000gn/T/ipykernel_53263/252438380.py:10: UserWarning: Could not infer format, so each element will be parsed individually, falling back to `dateutil`. To ensure parsing is consistent and as-expected, please specify a format.\n",
      "  chunk = chunk[(chunk['id_meetlocatie'].isin(camera_ids)) & (pd.to_datetime(chunk['start_meetperiode']) >= start_time) & (pd.to_datetime(chunk['start_meetperiode']) <= end_time)]\n",
      "/var/folders/c0/2gmfm5qd4tl9nzl882r0xr040000gn/T/ipykernel_53263/252438380.py:10: UserWarning: Could not infer format, so each element will be parsed individually, falling back to `dateutil`. To ensure parsing is consistent and as-expected, please specify a format.\n",
      "  chunk = chunk[(chunk['id_meetlocatie'].isin(camera_ids)) & (pd.to_datetime(chunk['start_meetperiode']) >= start_time) & (pd.to_datetime(chunk['start_meetperiode']) <= end_time)]\n",
      "/var/folders/c0/2gmfm5qd4tl9nzl882r0xr040000gn/T/ipykernel_53263/252438380.py:10: UserWarning: Could not infer format, so each element will be parsed individually, falling back to `dateutil`. To ensure parsing is consistent and as-expected, please specify a format.\n",
      "  chunk = chunk[(chunk['id_meetlocatie'].isin(camera_ids)) & (pd.to_datetime(chunk['start_meetperiode']) >= start_time) & (pd.to_datetime(chunk['start_meetperiode']) <= end_time)]\n",
      "/var/folders/c0/2gmfm5qd4tl9nzl882r0xr040000gn/T/ipykernel_53263/252438380.py:10: UserWarning: Could not infer format, so each element will be parsed individually, falling back to `dateutil`. To ensure parsing is consistent and as-expected, please specify a format.\n",
      "  chunk = chunk[(chunk['id_meetlocatie'].isin(camera_ids)) & (pd.to_datetime(chunk['start_meetperiode']) >= start_time) & (pd.to_datetime(chunk['start_meetperiode']) <= end_time)]\n",
      "/var/folders/c0/2gmfm5qd4tl9nzl882r0xr040000gn/T/ipykernel_53263/252438380.py:10: UserWarning: Could not infer format, so each element will be parsed individually, falling back to `dateutil`. To ensure parsing is consistent and as-expected, please specify a format.\n",
      "  chunk = chunk[(chunk['id_meetlocatie'].isin(camera_ids)) & (pd.to_datetime(chunk['start_meetperiode']) >= start_time) & (pd.to_datetime(chunk['start_meetperiode']) <= end_time)]\n",
      "/var/folders/c0/2gmfm5qd4tl9nzl882r0xr040000gn/T/ipykernel_53263/252438380.py:10: UserWarning: Could not infer format, so each element will be parsed individually, falling back to `dateutil`. To ensure parsing is consistent and as-expected, please specify a format.\n",
      "  chunk = chunk[(chunk['id_meetlocatie'].isin(camera_ids)) & (pd.to_datetime(chunk['start_meetperiode']) >= start_time) & (pd.to_datetime(chunk['start_meetperiode']) <= end_time)]\n"
     ]
    },
    {
     "name": "stdout",
     "output_type": "stream",
     "text": [
      "speed flow data for incident was:             start_meetperiode       id_meetlocatie  gem_snelheid\n",
      "4358520  2020-03-23 06:35:00  GEO0K_K_RWSTI357132           0.0\n",
      "4358521  2020-03-23 06:35:00  GEO0K_K_RWSTI357132          89.0\n",
      "4358522  2020-03-23 06:35:00  GEO0K_K_RWSTI357132           0.0\n",
      "4358523  2020-03-23 06:35:00  GEO0K_K_RWSTI357132           0.0\n",
      "4358524  2020-03-23 06:35:00  GEO0K_K_RWSTI357132           0.0\n",
      "number of rows incident data:  5520\n",
      "number of rows after removing negatives;  5520\n",
      "created csv for incident:  RWS02_0000168658_168658\n",
      "                     camera_id            x\n",
      "0  RWS01_MONIBAS_0201hrr0285ra  2971.282678\n",
      "1  RWS01_MONIBAS_0201hrr0284ra  2811.259048\n",
      "2  RWS01_MONIBAS_0201hrr0281ra  2498.807849\n"
     ]
    },
    {
     "name": "stderr",
     "output_type": "stream",
     "text": [
      "/var/folders/c0/2gmfm5qd4tl9nzl882r0xr040000gn/T/ipykernel_53263/252438380.py:10: UserWarning: Could not infer format, so each element will be parsed individually, falling back to `dateutil`. To ensure parsing is consistent and as-expected, please specify a format.\n",
      "  chunk = chunk[(chunk['id_meetlocatie'].isin(camera_ids)) & (pd.to_datetime(chunk['start_meetperiode']) >= start_time) & (pd.to_datetime(chunk['start_meetperiode']) <= end_time)]\n",
      "/var/folders/c0/2gmfm5qd4tl9nzl882r0xr040000gn/T/ipykernel_53263/252438380.py:10: UserWarning: Could not infer format, so each element will be parsed individually, falling back to `dateutil`. To ensure parsing is consistent and as-expected, please specify a format.\n",
      "  chunk = chunk[(chunk['id_meetlocatie'].isin(camera_ids)) & (pd.to_datetime(chunk['start_meetperiode']) >= start_time) & (pd.to_datetime(chunk['start_meetperiode']) <= end_time)]\n",
      "/var/folders/c0/2gmfm5qd4tl9nzl882r0xr040000gn/T/ipykernel_53263/252438380.py:10: UserWarning: Could not infer format, so each element will be parsed individually, falling back to `dateutil`. To ensure parsing is consistent and as-expected, please specify a format.\n",
      "  chunk = chunk[(chunk['id_meetlocatie'].isin(camera_ids)) & (pd.to_datetime(chunk['start_meetperiode']) >= start_time) & (pd.to_datetime(chunk['start_meetperiode']) <= end_time)]\n",
      "/var/folders/c0/2gmfm5qd4tl9nzl882r0xr040000gn/T/ipykernel_53263/252438380.py:10: UserWarning: Could not infer format, so each element will be parsed individually, falling back to `dateutil`. To ensure parsing is consistent and as-expected, please specify a format.\n",
      "  chunk = chunk[(chunk['id_meetlocatie'].isin(camera_ids)) & (pd.to_datetime(chunk['start_meetperiode']) >= start_time) & (pd.to_datetime(chunk['start_meetperiode']) <= end_time)]\n",
      "/var/folders/c0/2gmfm5qd4tl9nzl882r0xr040000gn/T/ipykernel_53263/252438380.py:10: UserWarning: Could not infer format, so each element will be parsed individually, falling back to `dateutil`. To ensure parsing is consistent and as-expected, please specify a format.\n",
      "  chunk = chunk[(chunk['id_meetlocatie'].isin(camera_ids)) & (pd.to_datetime(chunk['start_meetperiode']) >= start_time) & (pd.to_datetime(chunk['start_meetperiode']) <= end_time)]\n",
      "/var/folders/c0/2gmfm5qd4tl9nzl882r0xr040000gn/T/ipykernel_53263/252438380.py:10: UserWarning: Could not infer format, so each element will be parsed individually, falling back to `dateutil`. To ensure parsing is consistent and as-expected, please specify a format.\n",
      "  chunk = chunk[(chunk['id_meetlocatie'].isin(camera_ids)) & (pd.to_datetime(chunk['start_meetperiode']) >= start_time) & (pd.to_datetime(chunk['start_meetperiode']) <= end_time)]\n"
     ]
    },
    {
     "name": "stdout",
     "output_type": "stream",
     "text": [
      "speed flow data for incident was:              start_meetperiode               id_meetlocatie  gem_snelheid\n",
      "58081671  2020-03-23 09:18:00  RWS01_MONIBAS_0200vwa0303ra          75.0\n",
      "58081672  2020-03-23 09:19:00  RWS01_MONIBAS_0200vwa0303ra          84.0\n",
      "58081673  2020-03-23 09:20:00  RWS01_MONIBAS_0200vwa0303ra          77.0\n",
      "58081674  2020-03-23 09:21:00  RWS01_MONIBAS_0200vwa0303ra          77.0\n",
      "58081675  2020-03-23 09:22:00  RWS01_MONIBAS_0200vwa0303ra          71.0\n",
      "number of rows incident data:  6025\n",
      "number of rows after removing negatives;  6003\n",
      "created csv for incident:  NLRWS_NLSIT002755585_1\n",
      "                           camera_id            x\n",
      "0        RWS01_MONIBAS_0201hrr0284ra  2847.719390\n",
      "1        RWS01_MONIBAS_0201hrr0281ra  2535.561781\n",
      "2  RWS01_MONICA_10D01404545AD0070007  2224.365164\n"
     ]
    },
    {
     "name": "stderr",
     "output_type": "stream",
     "text": [
      "/var/folders/c0/2gmfm5qd4tl9nzl882r0xr040000gn/T/ipykernel_53263/252438380.py:10: UserWarning: Could not infer format, so each element will be parsed individually, falling back to `dateutil`. To ensure parsing is consistent and as-expected, please specify a format.\n",
      "  chunk = chunk[(chunk['id_meetlocatie'].isin(camera_ids)) & (pd.to_datetime(chunk['start_meetperiode']) >= start_time) & (pd.to_datetime(chunk['start_meetperiode']) <= end_time)]\n",
      "/var/folders/c0/2gmfm5qd4tl9nzl882r0xr040000gn/T/ipykernel_53263/252438380.py:10: UserWarning: Could not infer format, so each element will be parsed individually, falling back to `dateutil`. To ensure parsing is consistent and as-expected, please specify a format.\n",
      "  chunk = chunk[(chunk['id_meetlocatie'].isin(camera_ids)) & (pd.to_datetime(chunk['start_meetperiode']) >= start_time) & (pd.to_datetime(chunk['start_meetperiode']) <= end_time)]\n",
      "/var/folders/c0/2gmfm5qd4tl9nzl882r0xr040000gn/T/ipykernel_53263/252438380.py:10: UserWarning: Could not infer format, so each element will be parsed individually, falling back to `dateutil`. To ensure parsing is consistent and as-expected, please specify a format.\n",
      "  chunk = chunk[(chunk['id_meetlocatie'].isin(camera_ids)) & (pd.to_datetime(chunk['start_meetperiode']) >= start_time) & (pd.to_datetime(chunk['start_meetperiode']) <= end_time)]\n",
      "/var/folders/c0/2gmfm5qd4tl9nzl882r0xr040000gn/T/ipykernel_53263/252438380.py:10: UserWarning: Could not infer format, so each element will be parsed individually, falling back to `dateutil`. To ensure parsing is consistent and as-expected, please specify a format.\n",
      "  chunk = chunk[(chunk['id_meetlocatie'].isin(camera_ids)) & (pd.to_datetime(chunk['start_meetperiode']) >= start_time) & (pd.to_datetime(chunk['start_meetperiode']) <= end_time)]\n",
      "/var/folders/c0/2gmfm5qd4tl9nzl882r0xr040000gn/T/ipykernel_53263/252438380.py:10: UserWarning: Could not infer format, so each element will be parsed individually, falling back to `dateutil`. To ensure parsing is consistent and as-expected, please specify a format.\n",
      "  chunk = chunk[(chunk['id_meetlocatie'].isin(camera_ids)) & (pd.to_datetime(chunk['start_meetperiode']) >= start_time) & (pd.to_datetime(chunk['start_meetperiode']) <= end_time)]\n",
      "/var/folders/c0/2gmfm5qd4tl9nzl882r0xr040000gn/T/ipykernel_53263/252438380.py:10: UserWarning: Could not infer format, so each element will be parsed individually, falling back to `dateutil`. To ensure parsing is consistent and as-expected, please specify a format.\n",
      "  chunk = chunk[(chunk['id_meetlocatie'].isin(camera_ids)) & (pd.to_datetime(chunk['start_meetperiode']) >= start_time) & (pd.to_datetime(chunk['start_meetperiode']) <= end_time)]\n"
     ]
    },
    {
     "name": "stdout",
     "output_type": "stream",
     "text": [
      "speed flow data for incident was:              start_meetperiode               id_meetlocatie  gem_snelheid\n",
      "58081755  2020-03-23 10:42:00  RWS01_MONIBAS_0200vwa0303ra          76.0\n",
      "58081756  2020-03-23 10:43:00  RWS01_MONIBAS_0200vwa0303ra          76.0\n",
      "58081757  2020-03-23 10:44:00  RWS01_MONIBAS_0200vwa0303ra          76.0\n",
      "58081758  2020-03-23 10:45:00  RWS01_MONIBAS_0200vwa0303ra          75.0\n",
      "58081759  2020-03-23 10:46:00  RWS01_MONIBAS_0200vwa0303ra          79.0\n",
      "number of rows incident data:  6000\n",
      "number of rows after removing negatives;  5987\n",
      "created csv for incident:  RWS02_0000168810_168810\n",
      "                           camera_id            x\n",
      "0        RWS01_MONIBAS_0201hrr0284ra  2855.703972\n",
      "1        RWS01_MONIBAS_0201hrr0281ra  2543.582000\n",
      "2  RWS01_MONICA_10D01404545AD0070007  2232.388673\n"
     ]
    },
    {
     "name": "stderr",
     "output_type": "stream",
     "text": [
      "/var/folders/c0/2gmfm5qd4tl9nzl882r0xr040000gn/T/ipykernel_53263/252438380.py:10: UserWarning: Could not infer format, so each element will be parsed individually, falling back to `dateutil`. To ensure parsing is consistent and as-expected, please specify a format.\n",
      "  chunk = chunk[(chunk['id_meetlocatie'].isin(camera_ids)) & (pd.to_datetime(chunk['start_meetperiode']) >= start_time) & (pd.to_datetime(chunk['start_meetperiode']) <= end_time)]\n",
      "/var/folders/c0/2gmfm5qd4tl9nzl882r0xr040000gn/T/ipykernel_53263/252438380.py:10: UserWarning: Could not infer format, so each element will be parsed individually, falling back to `dateutil`. To ensure parsing is consistent and as-expected, please specify a format.\n",
      "  chunk = chunk[(chunk['id_meetlocatie'].isin(camera_ids)) & (pd.to_datetime(chunk['start_meetperiode']) >= start_time) & (pd.to_datetime(chunk['start_meetperiode']) <= end_time)]\n",
      "/var/folders/c0/2gmfm5qd4tl9nzl882r0xr040000gn/T/ipykernel_53263/252438380.py:10: UserWarning: Could not infer format, so each element will be parsed individually, falling back to `dateutil`. To ensure parsing is consistent and as-expected, please specify a format.\n",
      "  chunk = chunk[(chunk['id_meetlocatie'].isin(camera_ids)) & (pd.to_datetime(chunk['start_meetperiode']) >= start_time) & (pd.to_datetime(chunk['start_meetperiode']) <= end_time)]\n",
      "/var/folders/c0/2gmfm5qd4tl9nzl882r0xr040000gn/T/ipykernel_53263/252438380.py:10: UserWarning: Could not infer format, so each element will be parsed individually, falling back to `dateutil`. To ensure parsing is consistent and as-expected, please specify a format.\n",
      "  chunk = chunk[(chunk['id_meetlocatie'].isin(camera_ids)) & (pd.to_datetime(chunk['start_meetperiode']) >= start_time) & (pd.to_datetime(chunk['start_meetperiode']) <= end_time)]\n",
      "/var/folders/c0/2gmfm5qd4tl9nzl882r0xr040000gn/T/ipykernel_53263/252438380.py:10: UserWarning: Could not infer format, so each element will be parsed individually, falling back to `dateutil`. To ensure parsing is consistent and as-expected, please specify a format.\n",
      "  chunk = chunk[(chunk['id_meetlocatie'].isin(camera_ids)) & (pd.to_datetime(chunk['start_meetperiode']) >= start_time) & (pd.to_datetime(chunk['start_meetperiode']) <= end_time)]\n",
      "/var/folders/c0/2gmfm5qd4tl9nzl882r0xr040000gn/T/ipykernel_53263/252438380.py:10: UserWarning: Could not infer format, so each element will be parsed individually, falling back to `dateutil`. To ensure parsing is consistent and as-expected, please specify a format.\n",
      "  chunk = chunk[(chunk['id_meetlocatie'].isin(camera_ids)) & (pd.to_datetime(chunk['start_meetperiode']) >= start_time) & (pd.to_datetime(chunk['start_meetperiode']) <= end_time)]\n"
     ]
    },
    {
     "name": "stdout",
     "output_type": "stream",
     "text": [
      "speed flow data for incident was:              start_meetperiode               id_meetlocatie  gem_snelheid\n",
      "58081759  2020-03-23 10:46:00  RWS01_MONIBAS_0200vwa0303ra          79.0\n",
      "58081760  2020-03-23 10:47:00  RWS01_MONIBAS_0200vwa0303ra          82.0\n",
      "58081761  2020-03-23 10:48:00  RWS01_MONIBAS_0200vwa0303ra          77.0\n",
      "58081762  2020-03-23 10:49:00  RWS01_MONIBAS_0200vwa0303ra          77.0\n",
      "58081763  2020-03-23 10:50:00  RWS01_MONIBAS_0200vwa0303ra          67.0\n",
      "number of rows incident data:  6000\n",
      "number of rows after removing negatives;  5989\n",
      "created csv for incident:  RWS02_0000168815_168815\n",
      "                     camera_id            x\n",
      "0  RWS01_MONIBAS_0150vwn0617ra  2778.670609\n",
      "1  RWS01_MONIBAS_0151hrl0619ra  2618.905307\n",
      "2  RWS01_MONIBAS_0150vwy0626ra  1943.585251\n"
     ]
    },
    {
     "name": "stderr",
     "output_type": "stream",
     "text": [
      "/var/folders/c0/2gmfm5qd4tl9nzl882r0xr040000gn/T/ipykernel_53263/252438380.py:10: UserWarning: Could not infer format, so each element will be parsed individually, falling back to `dateutil`. To ensure parsing is consistent and as-expected, please specify a format.\n",
      "  chunk = chunk[(chunk['id_meetlocatie'].isin(camera_ids)) & (pd.to_datetime(chunk['start_meetperiode']) >= start_time) & (pd.to_datetime(chunk['start_meetperiode']) <= end_time)]\n",
      "/var/folders/c0/2gmfm5qd4tl9nzl882r0xr040000gn/T/ipykernel_53263/252438380.py:10: UserWarning: Could not infer format, so each element will be parsed individually, falling back to `dateutil`. To ensure parsing is consistent and as-expected, please specify a format.\n",
      "  chunk = chunk[(chunk['id_meetlocatie'].isin(camera_ids)) & (pd.to_datetime(chunk['start_meetperiode']) >= start_time) & (pd.to_datetime(chunk['start_meetperiode']) <= end_time)]\n",
      "/var/folders/c0/2gmfm5qd4tl9nzl882r0xr040000gn/T/ipykernel_53263/252438380.py:10: UserWarning: Could not infer format, so each element will be parsed individually, falling back to `dateutil`. To ensure parsing is consistent and as-expected, please specify a format.\n",
      "  chunk = chunk[(chunk['id_meetlocatie'].isin(camera_ids)) & (pd.to_datetime(chunk['start_meetperiode']) >= start_time) & (pd.to_datetime(chunk['start_meetperiode']) <= end_time)]\n",
      "/var/folders/c0/2gmfm5qd4tl9nzl882r0xr040000gn/T/ipykernel_53263/252438380.py:10: UserWarning: Could not infer format, so each element will be parsed individually, falling back to `dateutil`. To ensure parsing is consistent and as-expected, please specify a format.\n",
      "  chunk = chunk[(chunk['id_meetlocatie'].isin(camera_ids)) & (pd.to_datetime(chunk['start_meetperiode']) >= start_time) & (pd.to_datetime(chunk['start_meetperiode']) <= end_time)]\n",
      "/var/folders/c0/2gmfm5qd4tl9nzl882r0xr040000gn/T/ipykernel_53263/252438380.py:10: UserWarning: Could not infer format, so each element will be parsed individually, falling back to `dateutil`. To ensure parsing is consistent and as-expected, please specify a format.\n",
      "  chunk = chunk[(chunk['id_meetlocatie'].isin(camera_ids)) & (pd.to_datetime(chunk['start_meetperiode']) >= start_time) & (pd.to_datetime(chunk['start_meetperiode']) <= end_time)]\n",
      "/var/folders/c0/2gmfm5qd4tl9nzl882r0xr040000gn/T/ipykernel_53263/252438380.py:10: UserWarning: Could not infer format, so each element will be parsed individually, falling back to `dateutil`. To ensure parsing is consistent and as-expected, please specify a format.\n",
      "  chunk = chunk[(chunk['id_meetlocatie'].isin(camera_ids)) & (pd.to_datetime(chunk['start_meetperiode']) >= start_time) & (pd.to_datetime(chunk['start_meetperiode']) <= end_time)]\n"
     ]
    },
    {
     "name": "stdout",
     "output_type": "stream",
     "text": [
      "speed flow data for incident was:              start_meetperiode               id_meetlocatie  gem_snelheid\n",
      "47944248  2020-03-23 12:08:00  RWS01_MONIBAS_0150vwn0579ra          89.0\n",
      "47944249  2020-03-23 12:08:00  RWS01_MONIBAS_0150vwn0579ra         107.0\n",
      "47944250  2020-03-23 12:08:00  RWS01_MONIBAS_0150vwn0579ra          99.0\n",
      "47944251  2020-03-23 12:09:00  RWS01_MONIBAS_0150vwn0579ra          97.0\n",
      "47944252  2020-03-23 12:09:00  RWS01_MONIBAS_0150vwn0579ra         105.0\n",
      "number of rows incident data:  3840\n",
      "number of rows after removing negatives;  3840\n",
      "created csv for incident:  RWS02_0000168875_168875\n",
      "                     camera_id            x\n",
      "0  RWS01_MONIBAS_0201hrr0295ra  2974.177615\n",
      "1  RWS01_MONIBAS_0201hrr0291ra  2584.178565\n",
      "2  RWS01_MONIBAS_0201hrr0288ra  2283.341158\n"
     ]
    },
    {
     "name": "stderr",
     "output_type": "stream",
     "text": [
      "/var/folders/c0/2gmfm5qd4tl9nzl882r0xr040000gn/T/ipykernel_53263/252438380.py:10: UserWarning: Could not infer format, so each element will be parsed individually, falling back to `dateutil`. To ensure parsing is consistent and as-expected, please specify a format.\n",
      "  chunk = chunk[(chunk['id_meetlocatie'].isin(camera_ids)) & (pd.to_datetime(chunk['start_meetperiode']) >= start_time) & (pd.to_datetime(chunk['start_meetperiode']) <= end_time)]\n",
      "/var/folders/c0/2gmfm5qd4tl9nzl882r0xr040000gn/T/ipykernel_53263/252438380.py:10: UserWarning: Could not infer format, so each element will be parsed individually, falling back to `dateutil`. To ensure parsing is consistent and as-expected, please specify a format.\n",
      "  chunk = chunk[(chunk['id_meetlocatie'].isin(camera_ids)) & (pd.to_datetime(chunk['start_meetperiode']) >= start_time) & (pd.to_datetime(chunk['start_meetperiode']) <= end_time)]\n",
      "/var/folders/c0/2gmfm5qd4tl9nzl882r0xr040000gn/T/ipykernel_53263/252438380.py:10: UserWarning: Could not infer format, so each element will be parsed individually, falling back to `dateutil`. To ensure parsing is consistent and as-expected, please specify a format.\n",
      "  chunk = chunk[(chunk['id_meetlocatie'].isin(camera_ids)) & (pd.to_datetime(chunk['start_meetperiode']) >= start_time) & (pd.to_datetime(chunk['start_meetperiode']) <= end_time)]\n",
      "/var/folders/c0/2gmfm5qd4tl9nzl882r0xr040000gn/T/ipykernel_53263/252438380.py:10: UserWarning: Could not infer format, so each element will be parsed individually, falling back to `dateutil`. To ensure parsing is consistent and as-expected, please specify a format.\n",
      "  chunk = chunk[(chunk['id_meetlocatie'].isin(camera_ids)) & (pd.to_datetime(chunk['start_meetperiode']) >= start_time) & (pd.to_datetime(chunk['start_meetperiode']) <= end_time)]\n",
      "/var/folders/c0/2gmfm5qd4tl9nzl882r0xr040000gn/T/ipykernel_53263/252438380.py:10: UserWarning: Could not infer format, so each element will be parsed individually, falling back to `dateutil`. To ensure parsing is consistent and as-expected, please specify a format.\n",
      "  chunk = chunk[(chunk['id_meetlocatie'].isin(camera_ids)) & (pd.to_datetime(chunk['start_meetperiode']) >= start_time) & (pd.to_datetime(chunk['start_meetperiode']) <= end_time)]\n",
      "/var/folders/c0/2gmfm5qd4tl9nzl882r0xr040000gn/T/ipykernel_53263/252438380.py:10: UserWarning: Could not infer format, so each element will be parsed individually, falling back to `dateutil`. To ensure parsing is consistent and as-expected, please specify a format.\n",
      "  chunk = chunk[(chunk['id_meetlocatie'].isin(camera_ids)) & (pd.to_datetime(chunk['start_meetperiode']) >= start_time) & (pd.to_datetime(chunk['start_meetperiode']) <= end_time)]\n"
     ]
    },
    {
     "name": "stdout",
     "output_type": "stream",
     "text": [
      "speed flow data for incident was:              start_meetperiode               id_meetlocatie  gem_snelheid\n",
      "58082039  2020-03-23 15:26:00  RWS01_MONIBAS_0200vwa0303ra          76.0\n",
      "58082040  2020-03-23 15:27:00  RWS01_MONIBAS_0200vwa0303ra          74.0\n",
      "58082041  2020-03-23 15:28:00  RWS01_MONIBAS_0200vwa0303ra          76.0\n",
      "58082042  2020-03-23 15:29:00  RWS01_MONIBAS_0200vwa0303ra          72.0\n",
      "58082043  2020-03-23 15:30:00  RWS01_MONIBAS_0200vwa0303ra          72.0\n",
      "number of rows incident data:  5280\n",
      "number of rows after removing negatives;  5258\n",
      "created csv for incident:  RWS02_0000168987_168987\n",
      "                     camera_id            x\n",
      "0  RWS01_MONIBAS_0040vwe0763ra  2644.761810\n",
      "1  RWS01_MONIBAS_0041hrl0754ra  2628.476874\n",
      "2  RWS01_MONIBAS_0150vws0507ra  2122.064114\n"
     ]
    },
    {
     "name": "stderr",
     "output_type": "stream",
     "text": [
      "/var/folders/c0/2gmfm5qd4tl9nzl882r0xr040000gn/T/ipykernel_53263/252438380.py:10: UserWarning: Could not infer format, so each element will be parsed individually, falling back to `dateutil`. To ensure parsing is consistent and as-expected, please specify a format.\n",
      "  chunk = chunk[(chunk['id_meetlocatie'].isin(camera_ids)) & (pd.to_datetime(chunk['start_meetperiode']) >= start_time) & (pd.to_datetime(chunk['start_meetperiode']) <= end_time)]\n",
      "/var/folders/c0/2gmfm5qd4tl9nzl882r0xr040000gn/T/ipykernel_53263/252438380.py:10: UserWarning: Could not infer format, so each element will be parsed individually, falling back to `dateutil`. To ensure parsing is consistent and as-expected, please specify a format.\n",
      "  chunk = chunk[(chunk['id_meetlocatie'].isin(camera_ids)) & (pd.to_datetime(chunk['start_meetperiode']) >= start_time) & (pd.to_datetime(chunk['start_meetperiode']) <= end_time)]\n",
      "/var/folders/c0/2gmfm5qd4tl9nzl882r0xr040000gn/T/ipykernel_53263/252438380.py:10: UserWarning: Could not infer format, so each element will be parsed individually, falling back to `dateutil`. To ensure parsing is consistent and as-expected, please specify a format.\n",
      "  chunk = chunk[(chunk['id_meetlocatie'].isin(camera_ids)) & (pd.to_datetime(chunk['start_meetperiode']) >= start_time) & (pd.to_datetime(chunk['start_meetperiode']) <= end_time)]\n",
      "/var/folders/c0/2gmfm5qd4tl9nzl882r0xr040000gn/T/ipykernel_53263/252438380.py:10: UserWarning: Could not infer format, so each element will be parsed individually, falling back to `dateutil`. To ensure parsing is consistent and as-expected, please specify a format.\n",
      "  chunk = chunk[(chunk['id_meetlocatie'].isin(camera_ids)) & (pd.to_datetime(chunk['start_meetperiode']) >= start_time) & (pd.to_datetime(chunk['start_meetperiode']) <= end_time)]\n",
      "/var/folders/c0/2gmfm5qd4tl9nzl882r0xr040000gn/T/ipykernel_53263/252438380.py:10: UserWarning: Could not infer format, so each element will be parsed individually, falling back to `dateutil`. To ensure parsing is consistent and as-expected, please specify a format.\n",
      "  chunk = chunk[(chunk['id_meetlocatie'].isin(camera_ids)) & (pd.to_datetime(chunk['start_meetperiode']) >= start_time) & (pd.to_datetime(chunk['start_meetperiode']) <= end_time)]\n",
      "/var/folders/c0/2gmfm5qd4tl9nzl882r0xr040000gn/T/ipykernel_53263/252438380.py:10: UserWarning: Could not infer format, so each element will be parsed individually, falling back to `dateutil`. To ensure parsing is consistent and as-expected, please specify a format.\n",
      "  chunk = chunk[(chunk['id_meetlocatie'].isin(camera_ids)) & (pd.to_datetime(chunk['start_meetperiode']) >= start_time) & (pd.to_datetime(chunk['start_meetperiode']) <= end_time)]\n"
     ]
    },
    {
     "name": "stdout",
     "output_type": "stream",
     "text": [
      "speed flow data for incident was:             start_meetperiode       id_meetlocatie  gem_snelheid\n",
      "4384962  2020-03-24 07:05:00  GEO0K_K_RWSTI357132           0.0\n",
      "4384963  2020-03-24 07:05:00  GEO0K_K_RWSTI357132         107.0\n",
      "4384964  2020-03-24 07:05:00  GEO0K_K_RWSTI357132           0.0\n",
      "4384965  2020-03-24 07:05:00  GEO0K_K_RWSTI357132           0.0\n",
      "4384966  2020-03-24 07:05:00  GEO0K_K_RWSTI357132           0.0\n",
      "number of rows incident data:  5760\n",
      "number of rows after removing negatives;  5758\n",
      "created csv for incident:  RWS02_0000169153_169153\n",
      "                     camera_id            x\n",
      "0  RWS01_MONIBAS_0201hrr0235ra  2695.991994\n",
      "1  RWS01_MONIBAS_0201hrr0232ra  2372.549987\n",
      "0  RWS01_MONIBAS_0201hrr0239ra  3047.367265\n"
     ]
    },
    {
     "name": "stderr",
     "output_type": "stream",
     "text": [
      "/var/folders/c0/2gmfm5qd4tl9nzl882r0xr040000gn/T/ipykernel_53263/252438380.py:10: UserWarning: Could not infer format, so each element will be parsed individually, falling back to `dateutil`. To ensure parsing is consistent and as-expected, please specify a format.\n",
      "  chunk = chunk[(chunk['id_meetlocatie'].isin(camera_ids)) & (pd.to_datetime(chunk['start_meetperiode']) >= start_time) & (pd.to_datetime(chunk['start_meetperiode']) <= end_time)]\n",
      "/var/folders/c0/2gmfm5qd4tl9nzl882r0xr040000gn/T/ipykernel_53263/252438380.py:10: UserWarning: Could not infer format, so each element will be parsed individually, falling back to `dateutil`. To ensure parsing is consistent and as-expected, please specify a format.\n",
      "  chunk = chunk[(chunk['id_meetlocatie'].isin(camera_ids)) & (pd.to_datetime(chunk['start_meetperiode']) >= start_time) & (pd.to_datetime(chunk['start_meetperiode']) <= end_time)]\n",
      "/var/folders/c0/2gmfm5qd4tl9nzl882r0xr040000gn/T/ipykernel_53263/252438380.py:10: UserWarning: Could not infer format, so each element will be parsed individually, falling back to `dateutil`. To ensure parsing is consistent and as-expected, please specify a format.\n",
      "  chunk = chunk[(chunk['id_meetlocatie'].isin(camera_ids)) & (pd.to_datetime(chunk['start_meetperiode']) >= start_time) & (pd.to_datetime(chunk['start_meetperiode']) <= end_time)]\n",
      "/var/folders/c0/2gmfm5qd4tl9nzl882r0xr040000gn/T/ipykernel_53263/252438380.py:10: UserWarning: Could not infer format, so each element will be parsed individually, falling back to `dateutil`. To ensure parsing is consistent and as-expected, please specify a format.\n",
      "  chunk = chunk[(chunk['id_meetlocatie'].isin(camera_ids)) & (pd.to_datetime(chunk['start_meetperiode']) >= start_time) & (pd.to_datetime(chunk['start_meetperiode']) <= end_time)]\n",
      "/var/folders/c0/2gmfm5qd4tl9nzl882r0xr040000gn/T/ipykernel_53263/252438380.py:10: UserWarning: Could not infer format, so each element will be parsed individually, falling back to `dateutil`. To ensure parsing is consistent and as-expected, please specify a format.\n",
      "  chunk = chunk[(chunk['id_meetlocatie'].isin(camera_ids)) & (pd.to_datetime(chunk['start_meetperiode']) >= start_time) & (pd.to_datetime(chunk['start_meetperiode']) <= end_time)]\n",
      "/var/folders/c0/2gmfm5qd4tl9nzl882r0xr040000gn/T/ipykernel_53263/252438380.py:10: UserWarning: Could not infer format, so each element will be parsed individually, falling back to `dateutil`. To ensure parsing is consistent and as-expected, please specify a format.\n",
      "  chunk = chunk[(chunk['id_meetlocatie'].isin(camera_ids)) & (pd.to_datetime(chunk['start_meetperiode']) >= start_time) & (pd.to_datetime(chunk['start_meetperiode']) <= end_time)]\n"
     ]
    },
    {
     "name": "stdout",
     "output_type": "stream",
     "text": [
      "speed flow data for incident was:              start_meetperiode               id_meetlocatie  gem_snelheid\n",
      "61150257  2020-03-24 13:08:00  RWS01_MONIBAS_0201hrr0232ra         104.0\n",
      "61150258  2020-03-24 13:08:00  RWS01_MONIBAS_0201hrr0232ra          91.0\n",
      "61150259  2020-03-24 13:08:00  RWS01_MONIBAS_0201hrr0232ra          92.0\n",
      "61150260  2020-03-24 13:09:00  RWS01_MONIBAS_0201hrr0232ra         107.0\n",
      "61150261  2020-03-24 13:09:00  RWS01_MONIBAS_0201hrr0232ra          95.0\n",
      "number of rows incident data:  4800\n",
      "number of rows after removing negatives;  4797\n",
      "created csv for incident:  RWS02_0000169290_169290\n",
      "                     camera_id            x\n",
      "0  RWS01_MONIBAS_0150vwq0577ra  2646.952255\n",
      "1  RWS01_MONIBAS_0150vwn0579ra  2414.115151\n",
      "2  RWS01_MONIBAS_0150vwn0584ra  1915.111356\n"
     ]
    },
    {
     "name": "stderr",
     "output_type": "stream",
     "text": [
      "/var/folders/c0/2gmfm5qd4tl9nzl882r0xr040000gn/T/ipykernel_53263/252438380.py:10: UserWarning: Could not infer format, so each element will be parsed individually, falling back to `dateutil`. To ensure parsing is consistent and as-expected, please specify a format.\n",
      "  chunk = chunk[(chunk['id_meetlocatie'].isin(camera_ids)) & (pd.to_datetime(chunk['start_meetperiode']) >= start_time) & (pd.to_datetime(chunk['start_meetperiode']) <= end_time)]\n",
      "/var/folders/c0/2gmfm5qd4tl9nzl882r0xr040000gn/T/ipykernel_53263/252438380.py:10: UserWarning: Could not infer format, so each element will be parsed individually, falling back to `dateutil`. To ensure parsing is consistent and as-expected, please specify a format.\n",
      "  chunk = chunk[(chunk['id_meetlocatie'].isin(camera_ids)) & (pd.to_datetime(chunk['start_meetperiode']) >= start_time) & (pd.to_datetime(chunk['start_meetperiode']) <= end_time)]\n",
      "/var/folders/c0/2gmfm5qd4tl9nzl882r0xr040000gn/T/ipykernel_53263/252438380.py:10: UserWarning: Could not infer format, so each element will be parsed individually, falling back to `dateutil`. To ensure parsing is consistent and as-expected, please specify a format.\n",
      "  chunk = chunk[(chunk['id_meetlocatie'].isin(camera_ids)) & (pd.to_datetime(chunk['start_meetperiode']) >= start_time) & (pd.to_datetime(chunk['start_meetperiode']) <= end_time)]\n",
      "/var/folders/c0/2gmfm5qd4tl9nzl882r0xr040000gn/T/ipykernel_53263/252438380.py:10: UserWarning: Could not infer format, so each element will be parsed individually, falling back to `dateutil`. To ensure parsing is consistent and as-expected, please specify a format.\n",
      "  chunk = chunk[(chunk['id_meetlocatie'].isin(camera_ids)) & (pd.to_datetime(chunk['start_meetperiode']) >= start_time) & (pd.to_datetime(chunk['start_meetperiode']) <= end_time)]\n",
      "/var/folders/c0/2gmfm5qd4tl9nzl882r0xr040000gn/T/ipykernel_53263/252438380.py:10: UserWarning: Could not infer format, so each element will be parsed individually, falling back to `dateutil`. To ensure parsing is consistent and as-expected, please specify a format.\n",
      "  chunk = chunk[(chunk['id_meetlocatie'].isin(camera_ids)) & (pd.to_datetime(chunk['start_meetperiode']) >= start_time) & (pd.to_datetime(chunk['start_meetperiode']) <= end_time)]\n",
      "/var/folders/c0/2gmfm5qd4tl9nzl882r0xr040000gn/T/ipykernel_53263/252438380.py:10: UserWarning: Could not infer format, so each element will be parsed individually, falling back to `dateutil`. To ensure parsing is consistent and as-expected, please specify a format.\n",
      "  chunk = chunk[(chunk['id_meetlocatie'].isin(camera_ids)) & (pd.to_datetime(chunk['start_meetperiode']) >= start_time) & (pd.to_datetime(chunk['start_meetperiode']) <= end_time)]\n"
     ]
    },
    {
     "name": "stdout",
     "output_type": "stream",
     "text": [
      "speed flow data for incident was:              start_meetperiode               id_meetlocatie  gem_snelheid\n",
      "47950650  2020-03-24 23:42:00  RWS01_MONIBAS_0150vwn0579ra         103.0\n",
      "47950651  2020-03-24 23:42:00  RWS01_MONIBAS_0150vwn0579ra          -1.0\n",
      "47950652  2020-03-24 23:42:00  RWS01_MONIBAS_0150vwn0579ra         107.0\n",
      "47950653  2020-03-24 23:43:00  RWS01_MONIBAS_0150vwn0579ra         110.0\n",
      "47950654  2020-03-24 23:43:00  RWS01_MONIBAS_0150vwn0579ra          -1.0\n",
      "number of rows incident data:  4080\n",
      "number of rows after removing negatives;  2799\n",
      "created csv for incident:  RWS02_0000169541_169541\n",
      "                     camera_id            x\n",
      "0  RWS01_MONIBAS_0150vwy0533ra  2855.705744\n",
      "1  RWS01_MONIBAS_0150vwy0538ra  2406.839337\n",
      "2  RWS01_MONIBAS_0150vwy0540ra  2140.721424\n"
     ]
    },
    {
     "name": "stderr",
     "output_type": "stream",
     "text": [
      "/var/folders/c0/2gmfm5qd4tl9nzl882r0xr040000gn/T/ipykernel_53263/252438380.py:10: UserWarning: Could not infer format, so each element will be parsed individually, falling back to `dateutil`. To ensure parsing is consistent and as-expected, please specify a format.\n",
      "  chunk = chunk[(chunk['id_meetlocatie'].isin(camera_ids)) & (pd.to_datetime(chunk['start_meetperiode']) >= start_time) & (pd.to_datetime(chunk['start_meetperiode']) <= end_time)]\n",
      "/var/folders/c0/2gmfm5qd4tl9nzl882r0xr040000gn/T/ipykernel_53263/252438380.py:10: UserWarning: Could not infer format, so each element will be parsed individually, falling back to `dateutil`. To ensure parsing is consistent and as-expected, please specify a format.\n",
      "  chunk = chunk[(chunk['id_meetlocatie'].isin(camera_ids)) & (pd.to_datetime(chunk['start_meetperiode']) >= start_time) & (pd.to_datetime(chunk['start_meetperiode']) <= end_time)]\n",
      "/var/folders/c0/2gmfm5qd4tl9nzl882r0xr040000gn/T/ipykernel_53263/252438380.py:10: UserWarning: Could not infer format, so each element will be parsed individually, falling back to `dateutil`. To ensure parsing is consistent and as-expected, please specify a format.\n",
      "  chunk = chunk[(chunk['id_meetlocatie'].isin(camera_ids)) & (pd.to_datetime(chunk['start_meetperiode']) >= start_time) & (pd.to_datetime(chunk['start_meetperiode']) <= end_time)]\n",
      "/var/folders/c0/2gmfm5qd4tl9nzl882r0xr040000gn/T/ipykernel_53263/252438380.py:10: UserWarning: Could not infer format, so each element will be parsed individually, falling back to `dateutil`. To ensure parsing is consistent and as-expected, please specify a format.\n",
      "  chunk = chunk[(chunk['id_meetlocatie'].isin(camera_ids)) & (pd.to_datetime(chunk['start_meetperiode']) >= start_time) & (pd.to_datetime(chunk['start_meetperiode']) <= end_time)]\n",
      "/var/folders/c0/2gmfm5qd4tl9nzl882r0xr040000gn/T/ipykernel_53263/252438380.py:10: UserWarning: Could not infer format, so each element will be parsed individually, falling back to `dateutil`. To ensure parsing is consistent and as-expected, please specify a format.\n",
      "  chunk = chunk[(chunk['id_meetlocatie'].isin(camera_ids)) & (pd.to_datetime(chunk['start_meetperiode']) >= start_time) & (pd.to_datetime(chunk['start_meetperiode']) <= end_time)]\n",
      "/var/folders/c0/2gmfm5qd4tl9nzl882r0xr040000gn/T/ipykernel_53263/252438380.py:10: UserWarning: Could not infer format, so each element will be parsed individually, falling back to `dateutil`. To ensure parsing is consistent and as-expected, please specify a format.\n",
      "  chunk = chunk[(chunk['id_meetlocatie'].isin(camera_ids)) & (pd.to_datetime(chunk['start_meetperiode']) >= start_time) & (pd.to_datetime(chunk['start_meetperiode']) <= end_time)]\n"
     ]
    },
    {
     "name": "stdout",
     "output_type": "stream",
     "text": [
      "speed flow data for incident was:              start_meetperiode               id_meetlocatie  gem_snelheid\n",
      "48314822  2020-03-25 14:19:00  RWS01_MONIBAS_0150vwq0512ra         109.0\n",
      "48314823  2020-03-25 14:19:00  RWS01_MONIBAS_0150vwq0512ra          92.0\n",
      "48314824  2020-03-25 14:20:00  RWS01_MONIBAS_0150vwq0512ra         110.0\n",
      "48314825  2020-03-25 14:20:00  RWS01_MONIBAS_0150vwq0512ra          89.0\n",
      "48314826  2020-03-25 14:21:00  RWS01_MONIBAS_0150vwq0512ra         106.0\n",
      "number of rows incident data:  2640\n",
      "number of rows after removing negatives;  2637\n",
      "created csv for incident:  RWS02_0000169767_169767\n",
      "                     camera_id            x\n",
      "0  RWS01_MONIBAS_0150vwq0565ra  2854.740316\n",
      "1  RWS01_MONIBAS_0150vwq0567ra  2634.470516\n",
      "2  RWS01_MONIBAS_0150vwq0572ra  2141.690444\n"
     ]
    },
    {
     "name": "stderr",
     "output_type": "stream",
     "text": [
      "/var/folders/c0/2gmfm5qd4tl9nzl882r0xr040000gn/T/ipykernel_53263/252438380.py:10: UserWarning: Could not infer format, so each element will be parsed individually, falling back to `dateutil`. To ensure parsing is consistent and as-expected, please specify a format.\n",
      "  chunk = chunk[(chunk['id_meetlocatie'].isin(camera_ids)) & (pd.to_datetime(chunk['start_meetperiode']) >= start_time) & (pd.to_datetime(chunk['start_meetperiode']) <= end_time)]\n",
      "/var/folders/c0/2gmfm5qd4tl9nzl882r0xr040000gn/T/ipykernel_53263/252438380.py:10: UserWarning: Could not infer format, so each element will be parsed individually, falling back to `dateutil`. To ensure parsing is consistent and as-expected, please specify a format.\n",
      "  chunk = chunk[(chunk['id_meetlocatie'].isin(camera_ids)) & (pd.to_datetime(chunk['start_meetperiode']) >= start_time) & (pd.to_datetime(chunk['start_meetperiode']) <= end_time)]\n",
      "/var/folders/c0/2gmfm5qd4tl9nzl882r0xr040000gn/T/ipykernel_53263/252438380.py:10: UserWarning: Could not infer format, so each element will be parsed individually, falling back to `dateutil`. To ensure parsing is consistent and as-expected, please specify a format.\n",
      "  chunk = chunk[(chunk['id_meetlocatie'].isin(camera_ids)) & (pd.to_datetime(chunk['start_meetperiode']) >= start_time) & (pd.to_datetime(chunk['start_meetperiode']) <= end_time)]\n",
      "/var/folders/c0/2gmfm5qd4tl9nzl882r0xr040000gn/T/ipykernel_53263/252438380.py:10: UserWarning: Could not infer format, so each element will be parsed individually, falling back to `dateutil`. To ensure parsing is consistent and as-expected, please specify a format.\n",
      "  chunk = chunk[(chunk['id_meetlocatie'].isin(camera_ids)) & (pd.to_datetime(chunk['start_meetperiode']) >= start_time) & (pd.to_datetime(chunk['start_meetperiode']) <= end_time)]\n",
      "/var/folders/c0/2gmfm5qd4tl9nzl882r0xr040000gn/T/ipykernel_53263/252438380.py:10: UserWarning: Could not infer format, so each element will be parsed individually, falling back to `dateutil`. To ensure parsing is consistent and as-expected, please specify a format.\n",
      "  chunk = chunk[(chunk['id_meetlocatie'].isin(camera_ids)) & (pd.to_datetime(chunk['start_meetperiode']) >= start_time) & (pd.to_datetime(chunk['start_meetperiode']) <= end_time)]\n",
      "/var/folders/c0/2gmfm5qd4tl9nzl882r0xr040000gn/T/ipykernel_53263/252438380.py:10: UserWarning: Could not infer format, so each element will be parsed individually, falling back to `dateutil`. To ensure parsing is consistent and as-expected, please specify a format.\n",
      "  chunk = chunk[(chunk['id_meetlocatie'].isin(camera_ids)) & (pd.to_datetime(chunk['start_meetperiode']) >= start_time) & (pd.to_datetime(chunk['start_meetperiode']) <= end_time)]\n"
     ]
    },
    {
     "name": "stdout",
     "output_type": "stream",
     "text": [
      "speed flow data for incident was:              start_meetperiode               id_meetlocatie  gem_snelheid\n",
      "47957196  2020-03-26 12:04:00  RWS01_MONIBAS_0150vwn0579ra          94.0\n",
      "47957197  2020-03-26 12:04:00  RWS01_MONIBAS_0150vwn0579ra         109.0\n",
      "47957198  2020-03-26 12:04:00  RWS01_MONIBAS_0150vwn0579ra          97.0\n",
      "47957199  2020-03-26 12:05:00  RWS01_MONIBAS_0150vwn0579ra          90.0\n",
      "47957200  2020-03-26 12:05:00  RWS01_MONIBAS_0150vwn0579ra         109.0\n",
      "number of rows incident data:  4320\n",
      "number of rows after removing negatives;  4316\n",
      "created csv for incident:  RWS02_0000170208_170208\n",
      "                     camera_id            x\n",
      "0  RWS01_MONIBAS_0201hrr0328ra  2604.026436\n",
      "1  RWS01_MONIBAS_0201hrr0324ra  2280.848687\n",
      "2  RWS01_MONIBAS_0201hrr0322ra  2034.639893\n"
     ]
    },
    {
     "name": "stderr",
     "output_type": "stream",
     "text": [
      "/var/folders/c0/2gmfm5qd4tl9nzl882r0xr040000gn/T/ipykernel_53263/252438380.py:10: UserWarning: Could not infer format, so each element will be parsed individually, falling back to `dateutil`. To ensure parsing is consistent and as-expected, please specify a format.\n",
      "  chunk = chunk[(chunk['id_meetlocatie'].isin(camera_ids)) & (pd.to_datetime(chunk['start_meetperiode']) >= start_time) & (pd.to_datetime(chunk['start_meetperiode']) <= end_time)]\n",
      "/var/folders/c0/2gmfm5qd4tl9nzl882r0xr040000gn/T/ipykernel_53263/252438380.py:10: UserWarning: Could not infer format, so each element will be parsed individually, falling back to `dateutil`. To ensure parsing is consistent and as-expected, please specify a format.\n",
      "  chunk = chunk[(chunk['id_meetlocatie'].isin(camera_ids)) & (pd.to_datetime(chunk['start_meetperiode']) >= start_time) & (pd.to_datetime(chunk['start_meetperiode']) <= end_time)]\n",
      "/var/folders/c0/2gmfm5qd4tl9nzl882r0xr040000gn/T/ipykernel_53263/252438380.py:10: UserWarning: Could not infer format, so each element will be parsed individually, falling back to `dateutil`. To ensure parsing is consistent and as-expected, please specify a format.\n",
      "  chunk = chunk[(chunk['id_meetlocatie'].isin(camera_ids)) & (pd.to_datetime(chunk['start_meetperiode']) >= start_time) & (pd.to_datetime(chunk['start_meetperiode']) <= end_time)]\n",
      "/var/folders/c0/2gmfm5qd4tl9nzl882r0xr040000gn/T/ipykernel_53263/252438380.py:10: UserWarning: Could not infer format, so each element will be parsed individually, falling back to `dateutil`. To ensure parsing is consistent and as-expected, please specify a format.\n",
      "  chunk = chunk[(chunk['id_meetlocatie'].isin(camera_ids)) & (pd.to_datetime(chunk['start_meetperiode']) >= start_time) & (pd.to_datetime(chunk['start_meetperiode']) <= end_time)]\n",
      "/var/folders/c0/2gmfm5qd4tl9nzl882r0xr040000gn/T/ipykernel_53263/252438380.py:10: UserWarning: Could not infer format, so each element will be parsed individually, falling back to `dateutil`. To ensure parsing is consistent and as-expected, please specify a format.\n",
      "  chunk = chunk[(chunk['id_meetlocatie'].isin(camera_ids)) & (pd.to_datetime(chunk['start_meetperiode']) >= start_time) & (pd.to_datetime(chunk['start_meetperiode']) <= end_time)]\n",
      "/var/folders/c0/2gmfm5qd4tl9nzl882r0xr040000gn/T/ipykernel_53263/252438380.py:10: UserWarning: Could not infer format, so each element will be parsed individually, falling back to `dateutil`. To ensure parsing is consistent and as-expected, please specify a format.\n",
      "  chunk = chunk[(chunk['id_meetlocatie'].isin(camera_ids)) & (pd.to_datetime(chunk['start_meetperiode']) >= start_time) & (pd.to_datetime(chunk['start_meetperiode']) <= end_time)]\n"
     ]
    },
    {
     "name": "stdout",
     "output_type": "stream",
     "text": [
      "speed flow data for incident was:              start_meetperiode               id_meetlocatie  gem_snelheid\n",
      "61990417  2020-03-26 12:31:00  RWS01_MONIBAS_0201hrr0312ra          82.0\n",
      "61990418  2020-03-26 12:31:00  RWS01_MONIBAS_0201hrr0312ra          78.0\n",
      "61990419  2020-03-26 12:31:00  RWS01_MONIBAS_0201hrr0312ra          76.0\n",
      "61990420  2020-03-26 12:31:00  RWS01_MONIBAS_0201hrr0312ra          -1.0\n",
      "61990421  2020-03-26 12:32:00  RWS01_MONIBAS_0201hrr0312ra          79.0\n",
      "number of rows incident data:  4097\n",
      "number of rows after removing negatives;  4093\n",
      "created csv for incident:  NLRWS_NLSIT002755829_1\n",
      "                           camera_id            x\n",
      "0        RWS01_MONIBAS_0160vwx0193ra  2168.686627\n",
      "1  RWS01_MONICA_10D01002F400B8200007  1781.386579\n",
      "2        RWS01_MONIBAS_0160vwx0185ra  1466.764573\n"
     ]
    },
    {
     "name": "stderr",
     "output_type": "stream",
     "text": [
      "/var/folders/c0/2gmfm5qd4tl9nzl882r0xr040000gn/T/ipykernel_53263/252438380.py:10: UserWarning: Could not infer format, so each element will be parsed individually, falling back to `dateutil`. To ensure parsing is consistent and as-expected, please specify a format.\n",
      "  chunk = chunk[(chunk['id_meetlocatie'].isin(camera_ids)) & (pd.to_datetime(chunk['start_meetperiode']) >= start_time) & (pd.to_datetime(chunk['start_meetperiode']) <= end_time)]\n",
      "/var/folders/c0/2gmfm5qd4tl9nzl882r0xr040000gn/T/ipykernel_53263/252438380.py:10: UserWarning: Could not infer format, so each element will be parsed individually, falling back to `dateutil`. To ensure parsing is consistent and as-expected, please specify a format.\n",
      "  chunk = chunk[(chunk['id_meetlocatie'].isin(camera_ids)) & (pd.to_datetime(chunk['start_meetperiode']) >= start_time) & (pd.to_datetime(chunk['start_meetperiode']) <= end_time)]\n",
      "/var/folders/c0/2gmfm5qd4tl9nzl882r0xr040000gn/T/ipykernel_53263/252438380.py:10: UserWarning: Could not infer format, so each element will be parsed individually, falling back to `dateutil`. To ensure parsing is consistent and as-expected, please specify a format.\n",
      "  chunk = chunk[(chunk['id_meetlocatie'].isin(camera_ids)) & (pd.to_datetime(chunk['start_meetperiode']) >= start_time) & (pd.to_datetime(chunk['start_meetperiode']) <= end_time)]\n",
      "/var/folders/c0/2gmfm5qd4tl9nzl882r0xr040000gn/T/ipykernel_53263/252438380.py:10: UserWarning: Could not infer format, so each element will be parsed individually, falling back to `dateutil`. To ensure parsing is consistent and as-expected, please specify a format.\n",
      "  chunk = chunk[(chunk['id_meetlocatie'].isin(camera_ids)) & (pd.to_datetime(chunk['start_meetperiode']) >= start_time) & (pd.to_datetime(chunk['start_meetperiode']) <= end_time)]\n",
      "/var/folders/c0/2gmfm5qd4tl9nzl882r0xr040000gn/T/ipykernel_53263/252438380.py:10: UserWarning: Could not infer format, so each element will be parsed individually, falling back to `dateutil`. To ensure parsing is consistent and as-expected, please specify a format.\n",
      "  chunk = chunk[(chunk['id_meetlocatie'].isin(camera_ids)) & (pd.to_datetime(chunk['start_meetperiode']) >= start_time) & (pd.to_datetime(chunk['start_meetperiode']) <= end_time)]\n",
      "/var/folders/c0/2gmfm5qd4tl9nzl882r0xr040000gn/T/ipykernel_53263/252438380.py:10: UserWarning: Could not infer format, so each element will be parsed individually, falling back to `dateutil`. To ensure parsing is consistent and as-expected, please specify a format.\n",
      "  chunk = chunk[(chunk['id_meetlocatie'].isin(camera_ids)) & (pd.to_datetime(chunk['start_meetperiode']) >= start_time) & (pd.to_datetime(chunk['start_meetperiode']) <= end_time)]\n"
     ]
    },
    {
     "name": "stdout",
     "output_type": "stream",
     "text": [
      "speed flow data for incident was:             start_meetperiode       id_meetlocatie  gem_snelheid\n",
      "2647890  2020-03-26 15:32:00  GEO0B_R_RWSTI357698           0.0\n",
      "2647891  2020-03-26 15:32:00  GEO0B_R_RWSTI357698          82.0\n",
      "2647892  2020-03-26 15:32:00  GEO0B_R_RWSTI357698           0.0\n",
      "2647893  2020-03-26 15:32:00  GEO0B_R_RWSTI357698           0.0\n",
      "2647894  2020-03-26 15:32:00  GEO0B_R_RWSTI357698           0.0\n",
      "number of rows incident data:  2640\n",
      "number of rows after removing negatives;  2618\n",
      "created csv for incident:  RWS02_0000170346_170346\n",
      "                     camera_id            x\n",
      "0  RWS01_MONIBAS_0150vwy0628ra  2953.920473\n",
      "1  RWS01_MONIBAS_0150vwy0633ra  2475.562618\n",
      "0  RWS01_MONIBAS_0150vwy0626ra  3139.285239\n"
     ]
    },
    {
     "name": "stderr",
     "output_type": "stream",
     "text": [
      "/var/folders/c0/2gmfm5qd4tl9nzl882r0xr040000gn/T/ipykernel_53263/252438380.py:10: UserWarning: Could not infer format, so each element will be parsed individually, falling back to `dateutil`. To ensure parsing is consistent and as-expected, please specify a format.\n",
      "  chunk = chunk[(chunk['id_meetlocatie'].isin(camera_ids)) & (pd.to_datetime(chunk['start_meetperiode']) >= start_time) & (pd.to_datetime(chunk['start_meetperiode']) <= end_time)]\n",
      "/var/folders/c0/2gmfm5qd4tl9nzl882r0xr040000gn/T/ipykernel_53263/252438380.py:10: UserWarning: Could not infer format, so each element will be parsed individually, falling back to `dateutil`. To ensure parsing is consistent and as-expected, please specify a format.\n",
      "  chunk = chunk[(chunk['id_meetlocatie'].isin(camera_ids)) & (pd.to_datetime(chunk['start_meetperiode']) >= start_time) & (pd.to_datetime(chunk['start_meetperiode']) <= end_time)]\n",
      "/var/folders/c0/2gmfm5qd4tl9nzl882r0xr040000gn/T/ipykernel_53263/252438380.py:10: UserWarning: Could not infer format, so each element will be parsed individually, falling back to `dateutil`. To ensure parsing is consistent and as-expected, please specify a format.\n",
      "  chunk = chunk[(chunk['id_meetlocatie'].isin(camera_ids)) & (pd.to_datetime(chunk['start_meetperiode']) >= start_time) & (pd.to_datetime(chunk['start_meetperiode']) <= end_time)]\n",
      "/var/folders/c0/2gmfm5qd4tl9nzl882r0xr040000gn/T/ipykernel_53263/252438380.py:10: UserWarning: Could not infer format, so each element will be parsed individually, falling back to `dateutil`. To ensure parsing is consistent and as-expected, please specify a format.\n",
      "  chunk = chunk[(chunk['id_meetlocatie'].isin(camera_ids)) & (pd.to_datetime(chunk['start_meetperiode']) >= start_time) & (pd.to_datetime(chunk['start_meetperiode']) <= end_time)]\n",
      "/var/folders/c0/2gmfm5qd4tl9nzl882r0xr040000gn/T/ipykernel_53263/252438380.py:10: UserWarning: Could not infer format, so each element will be parsed individually, falling back to `dateutil`. To ensure parsing is consistent and as-expected, please specify a format.\n",
      "  chunk = chunk[(chunk['id_meetlocatie'].isin(camera_ids)) & (pd.to_datetime(chunk['start_meetperiode']) >= start_time) & (pd.to_datetime(chunk['start_meetperiode']) <= end_time)]\n",
      "/var/folders/c0/2gmfm5qd4tl9nzl882r0xr040000gn/T/ipykernel_53263/252438380.py:10: UserWarning: Could not infer format, so each element will be parsed individually, falling back to `dateutil`. To ensure parsing is consistent and as-expected, please specify a format.\n",
      "  chunk = chunk[(chunk['id_meetlocatie'].isin(camera_ids)) & (pd.to_datetime(chunk['start_meetperiode']) >= start_time) & (pd.to_datetime(chunk['start_meetperiode']) <= end_time)]\n"
     ]
    },
    {
     "name": "stdout",
     "output_type": "stream",
     "text": [
      "speed flow data for incident was:              start_meetperiode               id_meetlocatie  gem_snelheid\n",
      "47959158  2020-03-26 22:58:00  RWS01_MONIBAS_0150vwn0579ra         129.0\n",
      "47959159  2020-03-26 22:58:00  RWS01_MONIBAS_0150vwn0579ra          -1.0\n",
      "47959160  2020-03-26 22:58:00  RWS01_MONIBAS_0150vwn0579ra          -1.0\n",
      "47959161  2020-03-26 22:59:00  RWS01_MONIBAS_0150vwn0579ra         113.0\n",
      "47959162  2020-03-26 22:59:00  RWS01_MONIBAS_0150vwn0579ra          -1.0\n",
      "number of rows incident data:  3120\n",
      "number of rows after removing negatives;  2392\n",
      "created csv for incident:  RWS02_0000170461_170461\n",
      "                     camera_id            x\n",
      "0  RWS01_MONIBAS_0151hrl0619ra  2981.263463\n",
      "1  RWS01_MONIBAS_0150vwy0626ra  2321.924068\n",
      "2  RWS01_MONIBAS_0150vwy0628ra  2137.988407\n"
     ]
    },
    {
     "name": "stderr",
     "output_type": "stream",
     "text": [
      "/var/folders/c0/2gmfm5qd4tl9nzl882r0xr040000gn/T/ipykernel_53263/252438380.py:10: UserWarning: Could not infer format, so each element will be parsed individually, falling back to `dateutil`. To ensure parsing is consistent and as-expected, please specify a format.\n",
      "  chunk = chunk[(chunk['id_meetlocatie'].isin(camera_ids)) & (pd.to_datetime(chunk['start_meetperiode']) >= start_time) & (pd.to_datetime(chunk['start_meetperiode']) <= end_time)]\n",
      "/var/folders/c0/2gmfm5qd4tl9nzl882r0xr040000gn/T/ipykernel_53263/252438380.py:10: UserWarning: Could not infer format, so each element will be parsed individually, falling back to `dateutil`. To ensure parsing is consistent and as-expected, please specify a format.\n",
      "  chunk = chunk[(chunk['id_meetlocatie'].isin(camera_ids)) & (pd.to_datetime(chunk['start_meetperiode']) >= start_time) & (pd.to_datetime(chunk['start_meetperiode']) <= end_time)]\n",
      "/var/folders/c0/2gmfm5qd4tl9nzl882r0xr040000gn/T/ipykernel_53263/252438380.py:10: UserWarning: Could not infer format, so each element will be parsed individually, falling back to `dateutil`. To ensure parsing is consistent and as-expected, please specify a format.\n",
      "  chunk = chunk[(chunk['id_meetlocatie'].isin(camera_ids)) & (pd.to_datetime(chunk['start_meetperiode']) >= start_time) & (pd.to_datetime(chunk['start_meetperiode']) <= end_time)]\n",
      "/var/folders/c0/2gmfm5qd4tl9nzl882r0xr040000gn/T/ipykernel_53263/252438380.py:10: UserWarning: Could not infer format, so each element will be parsed individually, falling back to `dateutil`. To ensure parsing is consistent and as-expected, please specify a format.\n",
      "  chunk = chunk[(chunk['id_meetlocatie'].isin(camera_ids)) & (pd.to_datetime(chunk['start_meetperiode']) >= start_time) & (pd.to_datetime(chunk['start_meetperiode']) <= end_time)]\n",
      "/var/folders/c0/2gmfm5qd4tl9nzl882r0xr040000gn/T/ipykernel_53263/252438380.py:10: UserWarning: Could not infer format, so each element will be parsed individually, falling back to `dateutil`. To ensure parsing is consistent and as-expected, please specify a format.\n",
      "  chunk = chunk[(chunk['id_meetlocatie'].isin(camera_ids)) & (pd.to_datetime(chunk['start_meetperiode']) >= start_time) & (pd.to_datetime(chunk['start_meetperiode']) <= end_time)]\n",
      "/var/folders/c0/2gmfm5qd4tl9nzl882r0xr040000gn/T/ipykernel_53263/252438380.py:10: UserWarning: Could not infer format, so each element will be parsed individually, falling back to `dateutil`. To ensure parsing is consistent and as-expected, please specify a format.\n",
      "  chunk = chunk[(chunk['id_meetlocatie'].isin(camera_ids)) & (pd.to_datetime(chunk['start_meetperiode']) >= start_time) & (pd.to_datetime(chunk['start_meetperiode']) <= end_time)]\n"
     ]
    },
    {
     "name": "stdout",
     "output_type": "stream",
     "text": [
      "speed flow data for incident was:              start_meetperiode               id_meetlocatie  gem_snelheid\n",
      "47961204  2020-03-27 10:20:00  RWS01_MONIBAS_0150vwn0579ra          92.0\n",
      "47961205  2020-03-27 10:20:00  RWS01_MONIBAS_0150vwn0579ra         107.0\n",
      "47961206  2020-03-27 10:20:00  RWS01_MONIBAS_0150vwn0579ra         103.0\n",
      "47961207  2020-03-27 10:21:00  RWS01_MONIBAS_0150vwn0579ra          90.0\n",
      "47961208  2020-03-27 10:21:00  RWS01_MONIBAS_0150vwn0579ra         127.0\n",
      "number of rows incident data:  3360\n",
      "number of rows after removing negatives;  3360\n",
      "created csv for incident:  RWS02_0000170710_170710\n",
      "                     camera_id            x\n",
      "0  RWS01_MONIBAS_0150vwq0577ra  2708.571460\n",
      "1  RWS01_MONIBAS_0150vwn0579ra  2475.604393\n",
      "2  RWS01_MONIBAS_0150vwn0584ra  1976.401024\n"
     ]
    },
    {
     "name": "stderr",
     "output_type": "stream",
     "text": [
      "/var/folders/c0/2gmfm5qd4tl9nzl882r0xr040000gn/T/ipykernel_53263/252438380.py:10: UserWarning: Could not infer format, so each element will be parsed individually, falling back to `dateutil`. To ensure parsing is consistent and as-expected, please specify a format.\n",
      "  chunk = chunk[(chunk['id_meetlocatie'].isin(camera_ids)) & (pd.to_datetime(chunk['start_meetperiode']) >= start_time) & (pd.to_datetime(chunk['start_meetperiode']) <= end_time)]\n",
      "/var/folders/c0/2gmfm5qd4tl9nzl882r0xr040000gn/T/ipykernel_53263/252438380.py:10: UserWarning: Could not infer format, so each element will be parsed individually, falling back to `dateutil`. To ensure parsing is consistent and as-expected, please specify a format.\n",
      "  chunk = chunk[(chunk['id_meetlocatie'].isin(camera_ids)) & (pd.to_datetime(chunk['start_meetperiode']) >= start_time) & (pd.to_datetime(chunk['start_meetperiode']) <= end_time)]\n",
      "/var/folders/c0/2gmfm5qd4tl9nzl882r0xr040000gn/T/ipykernel_53263/252438380.py:10: UserWarning: Could not infer format, so each element will be parsed individually, falling back to `dateutil`. To ensure parsing is consistent and as-expected, please specify a format.\n",
      "  chunk = chunk[(chunk['id_meetlocatie'].isin(camera_ids)) & (pd.to_datetime(chunk['start_meetperiode']) >= start_time) & (pd.to_datetime(chunk['start_meetperiode']) <= end_time)]\n",
      "/var/folders/c0/2gmfm5qd4tl9nzl882r0xr040000gn/T/ipykernel_53263/252438380.py:10: UserWarning: Could not infer format, so each element will be parsed individually, falling back to `dateutil`. To ensure parsing is consistent and as-expected, please specify a format.\n",
      "  chunk = chunk[(chunk['id_meetlocatie'].isin(camera_ids)) & (pd.to_datetime(chunk['start_meetperiode']) >= start_time) & (pd.to_datetime(chunk['start_meetperiode']) <= end_time)]\n",
      "/var/folders/c0/2gmfm5qd4tl9nzl882r0xr040000gn/T/ipykernel_53263/252438380.py:10: UserWarning: Could not infer format, so each element will be parsed individually, falling back to `dateutil`. To ensure parsing is consistent and as-expected, please specify a format.\n",
      "  chunk = chunk[(chunk['id_meetlocatie'].isin(camera_ids)) & (pd.to_datetime(chunk['start_meetperiode']) >= start_time) & (pd.to_datetime(chunk['start_meetperiode']) <= end_time)]\n",
      "/var/folders/c0/2gmfm5qd4tl9nzl882r0xr040000gn/T/ipykernel_53263/252438380.py:10: UserWarning: Could not infer format, so each element will be parsed individually, falling back to `dateutil`. To ensure parsing is consistent and as-expected, please specify a format.\n",
      "  chunk = chunk[(chunk['id_meetlocatie'].isin(camera_ids)) & (pd.to_datetime(chunk['start_meetperiode']) >= start_time) & (pd.to_datetime(chunk['start_meetperiode']) <= end_time)]\n"
     ]
    },
    {
     "name": "stdout",
     "output_type": "stream",
     "text": [
      "speed flow data for incident was:              start_meetperiode               id_meetlocatie  gem_snelheid\n",
      "47961630  2020-03-27 12:42:00  RWS01_MONIBAS_0150vwn0579ra         101.0\n",
      "47961631  2020-03-27 12:42:00  RWS01_MONIBAS_0150vwn0579ra         111.0\n",
      "47961632  2020-03-27 12:42:00  RWS01_MONIBAS_0150vwn0579ra          96.0\n",
      "47961633  2020-03-27 12:43:00  RWS01_MONIBAS_0150vwn0579ra          92.0\n",
      "47961634  2020-03-27 12:43:00  RWS01_MONIBAS_0150vwn0579ra         114.0\n",
      "number of rows incident data:  4080\n",
      "number of rows after removing negatives;  4076\n",
      "created csv for incident:  RWS02_0000170796_170796\n",
      "                     camera_id            x\n",
      "0  RWS01_MONIBAS_0200vwa0303ra  2925.372193\n",
      "1  RWS01_MONIBAS_0201hrr0301ra  2796.492620\n",
      "2  RWS01_MONIBAS_0201hrr0298ra  2415.224149\n"
     ]
    },
    {
     "name": "stderr",
     "output_type": "stream",
     "text": [
      "/var/folders/c0/2gmfm5qd4tl9nzl882r0xr040000gn/T/ipykernel_53263/252438380.py:10: UserWarning: Could not infer format, so each element will be parsed individually, falling back to `dateutil`. To ensure parsing is consistent and as-expected, please specify a format.\n",
      "  chunk = chunk[(chunk['id_meetlocatie'].isin(camera_ids)) & (pd.to_datetime(chunk['start_meetperiode']) >= start_time) & (pd.to_datetime(chunk['start_meetperiode']) <= end_time)]\n",
      "/var/folders/c0/2gmfm5qd4tl9nzl882r0xr040000gn/T/ipykernel_53263/252438380.py:10: UserWarning: Could not infer format, so each element will be parsed individually, falling back to `dateutil`. To ensure parsing is consistent and as-expected, please specify a format.\n",
      "  chunk = chunk[(chunk['id_meetlocatie'].isin(camera_ids)) & (pd.to_datetime(chunk['start_meetperiode']) >= start_time) & (pd.to_datetime(chunk['start_meetperiode']) <= end_time)]\n",
      "/var/folders/c0/2gmfm5qd4tl9nzl882r0xr040000gn/T/ipykernel_53263/252438380.py:10: UserWarning: Could not infer format, so each element will be parsed individually, falling back to `dateutil`. To ensure parsing is consistent and as-expected, please specify a format.\n",
      "  chunk = chunk[(chunk['id_meetlocatie'].isin(camera_ids)) & (pd.to_datetime(chunk['start_meetperiode']) >= start_time) & (pd.to_datetime(chunk['start_meetperiode']) <= end_time)]\n",
      "/var/folders/c0/2gmfm5qd4tl9nzl882r0xr040000gn/T/ipykernel_53263/252438380.py:10: UserWarning: Could not infer format, so each element will be parsed individually, falling back to `dateutil`. To ensure parsing is consistent and as-expected, please specify a format.\n",
      "  chunk = chunk[(chunk['id_meetlocatie'].isin(camera_ids)) & (pd.to_datetime(chunk['start_meetperiode']) >= start_time) & (pd.to_datetime(chunk['start_meetperiode']) <= end_time)]\n",
      "/var/folders/c0/2gmfm5qd4tl9nzl882r0xr040000gn/T/ipykernel_53263/252438380.py:10: UserWarning: Could not infer format, so each element will be parsed individually, falling back to `dateutil`. To ensure parsing is consistent and as-expected, please specify a format.\n",
      "  chunk = chunk[(chunk['id_meetlocatie'].isin(camera_ids)) & (pd.to_datetime(chunk['start_meetperiode']) >= start_time) & (pd.to_datetime(chunk['start_meetperiode']) <= end_time)]\n",
      "/var/folders/c0/2gmfm5qd4tl9nzl882r0xr040000gn/T/ipykernel_53263/252438380.py:10: UserWarning: Could not infer format, so each element will be parsed individually, falling back to `dateutil`. To ensure parsing is consistent and as-expected, please specify a format.\n",
      "  chunk = chunk[(chunk['id_meetlocatie'].isin(camera_ids)) & (pd.to_datetime(chunk['start_meetperiode']) >= start_time) & (pd.to_datetime(chunk['start_meetperiode']) <= end_time)]\n"
     ]
    },
    {
     "name": "stdout",
     "output_type": "stream",
     "text": [
      "speed flow data for incident was:              start_meetperiode               id_meetlocatie  gem_snelheid\n",
      "58087771  2020-03-27 14:58:00  RWS01_MONIBAS_0200vwa0303ra          72.0\n",
      "58087772  2020-03-27 14:59:00  RWS01_MONIBAS_0200vwa0303ra          76.0\n",
      "58087773  2020-03-27 15:00:00  RWS01_MONIBAS_0200vwa0303ra          75.0\n",
      "58087774  2020-03-27 15:01:00  RWS01_MONIBAS_0200vwa0303ra          75.0\n",
      "58087775  2020-03-27 15:02:00  RWS01_MONIBAS_0200vwa0303ra          74.0\n",
      "number of rows incident data:  5280\n",
      "number of rows after removing negatives;  5268\n",
      "created csv for incident:  RWS02_0000170877_170877\n",
      "                     camera_id            x\n",
      "0  RWS01_MONIBAS_0150vws0507ra  2949.654775\n",
      "0  RWS01_MONIBAS_0041hrl0754ra  3460.292261\n",
      "1  RWS01_MONIBAS_0040vwe0763ra  3478.586786\n"
     ]
    },
    {
     "name": "stderr",
     "output_type": "stream",
     "text": [
      "/var/folders/c0/2gmfm5qd4tl9nzl882r0xr040000gn/T/ipykernel_53263/252438380.py:10: UserWarning: Could not infer format, so each element will be parsed individually, falling back to `dateutil`. To ensure parsing is consistent and as-expected, please specify a format.\n",
      "  chunk = chunk[(chunk['id_meetlocatie'].isin(camera_ids)) & (pd.to_datetime(chunk['start_meetperiode']) >= start_time) & (pd.to_datetime(chunk['start_meetperiode']) <= end_time)]\n",
      "/var/folders/c0/2gmfm5qd4tl9nzl882r0xr040000gn/T/ipykernel_53263/252438380.py:10: UserWarning: Could not infer format, so each element will be parsed individually, falling back to `dateutil`. To ensure parsing is consistent and as-expected, please specify a format.\n",
      "  chunk = chunk[(chunk['id_meetlocatie'].isin(camera_ids)) & (pd.to_datetime(chunk['start_meetperiode']) >= start_time) & (pd.to_datetime(chunk['start_meetperiode']) <= end_time)]\n",
      "/var/folders/c0/2gmfm5qd4tl9nzl882r0xr040000gn/T/ipykernel_53263/252438380.py:10: UserWarning: Could not infer format, so each element will be parsed individually, falling back to `dateutil`. To ensure parsing is consistent and as-expected, please specify a format.\n",
      "  chunk = chunk[(chunk['id_meetlocatie'].isin(camera_ids)) & (pd.to_datetime(chunk['start_meetperiode']) >= start_time) & (pd.to_datetime(chunk['start_meetperiode']) <= end_time)]\n",
      "/var/folders/c0/2gmfm5qd4tl9nzl882r0xr040000gn/T/ipykernel_53263/252438380.py:10: UserWarning: Could not infer format, so each element will be parsed individually, falling back to `dateutil`. To ensure parsing is consistent and as-expected, please specify a format.\n",
      "  chunk = chunk[(chunk['id_meetlocatie'].isin(camera_ids)) & (pd.to_datetime(chunk['start_meetperiode']) >= start_time) & (pd.to_datetime(chunk['start_meetperiode']) <= end_time)]\n",
      "/var/folders/c0/2gmfm5qd4tl9nzl882r0xr040000gn/T/ipykernel_53263/252438380.py:10: UserWarning: Could not infer format, so each element will be parsed individually, falling back to `dateutil`. To ensure parsing is consistent and as-expected, please specify a format.\n",
      "  chunk = chunk[(chunk['id_meetlocatie'].isin(camera_ids)) & (pd.to_datetime(chunk['start_meetperiode']) >= start_time) & (pd.to_datetime(chunk['start_meetperiode']) <= end_time)]\n",
      "/var/folders/c0/2gmfm5qd4tl9nzl882r0xr040000gn/T/ipykernel_53263/252438380.py:10: UserWarning: Could not infer format, so each element will be parsed individually, falling back to `dateutil`. To ensure parsing is consistent and as-expected, please specify a format.\n",
      "  chunk = chunk[(chunk['id_meetlocatie'].isin(camera_ids)) & (pd.to_datetime(chunk['start_meetperiode']) >= start_time) & (pd.to_datetime(chunk['start_meetperiode']) <= end_time)]\n"
     ]
    },
    {
     "name": "stdout",
     "output_type": "stream",
     "text": [
      "speed flow data for incident was:              start_meetperiode               id_meetlocatie  gem_snelheid\n",
      "42156688  2020-03-28 03:32:00  RWS01_MONIBAS_0040vwe0763ra          -1.0\n",
      "42156689  2020-03-28 03:32:00  RWS01_MONIBAS_0040vwe0763ra          80.0\n",
      "42156690  2020-03-28 03:33:00  RWS01_MONIBAS_0040vwe0763ra          -1.0\n",
      "42156691  2020-03-28 03:33:00  RWS01_MONIBAS_0040vwe0763ra         115.0\n",
      "42156692  2020-03-28 03:34:00  RWS01_MONIBAS_0040vwe0763ra          -1.0\n",
      "number of rows incident data:  5280\n",
      "number of rows after removing negatives;  3965\n",
      "created csv for incident:  RWS02_0000171028_171028\n",
      "                     camera_id            x\n",
      "0  RWS01_MONIBAS_0201hrr0295ra  2943.146997\n",
      "1  RWS01_MONIBAS_0201hrr0291ra  2553.508181\n",
      "2  RWS01_MONIBAS_0201hrr0288ra  2252.061218\n"
     ]
    },
    {
     "name": "stderr",
     "output_type": "stream",
     "text": [
      "/var/folders/c0/2gmfm5qd4tl9nzl882r0xr040000gn/T/ipykernel_53263/252438380.py:10: UserWarning: Could not infer format, so each element will be parsed individually, falling back to `dateutil`. To ensure parsing is consistent and as-expected, please specify a format.\n",
      "  chunk = chunk[(chunk['id_meetlocatie'].isin(camera_ids)) & (pd.to_datetime(chunk['start_meetperiode']) >= start_time) & (pd.to_datetime(chunk['start_meetperiode']) <= end_time)]\n",
      "/var/folders/c0/2gmfm5qd4tl9nzl882r0xr040000gn/T/ipykernel_53263/252438380.py:10: UserWarning: Could not infer format, so each element will be parsed individually, falling back to `dateutil`. To ensure parsing is consistent and as-expected, please specify a format.\n",
      "  chunk = chunk[(chunk['id_meetlocatie'].isin(camera_ids)) & (pd.to_datetime(chunk['start_meetperiode']) >= start_time) & (pd.to_datetime(chunk['start_meetperiode']) <= end_time)]\n",
      "/var/folders/c0/2gmfm5qd4tl9nzl882r0xr040000gn/T/ipykernel_53263/252438380.py:10: UserWarning: Could not infer format, so each element will be parsed individually, falling back to `dateutil`. To ensure parsing is consistent and as-expected, please specify a format.\n",
      "  chunk = chunk[(chunk['id_meetlocatie'].isin(camera_ids)) & (pd.to_datetime(chunk['start_meetperiode']) >= start_time) & (pd.to_datetime(chunk['start_meetperiode']) <= end_time)]\n",
      "/var/folders/c0/2gmfm5qd4tl9nzl882r0xr040000gn/T/ipykernel_53263/252438380.py:10: UserWarning: Could not infer format, so each element will be parsed individually, falling back to `dateutil`. To ensure parsing is consistent and as-expected, please specify a format.\n",
      "  chunk = chunk[(chunk['id_meetlocatie'].isin(camera_ids)) & (pd.to_datetime(chunk['start_meetperiode']) >= start_time) & (pd.to_datetime(chunk['start_meetperiode']) <= end_time)]\n",
      "/var/folders/c0/2gmfm5qd4tl9nzl882r0xr040000gn/T/ipykernel_53263/252438380.py:10: UserWarning: Could not infer format, so each element will be parsed individually, falling back to `dateutil`. To ensure parsing is consistent and as-expected, please specify a format.\n",
      "  chunk = chunk[(chunk['id_meetlocatie'].isin(camera_ids)) & (pd.to_datetime(chunk['start_meetperiode']) >= start_time) & (pd.to_datetime(chunk['start_meetperiode']) <= end_time)]\n",
      "/var/folders/c0/2gmfm5qd4tl9nzl882r0xr040000gn/T/ipykernel_53263/252438380.py:10: UserWarning: Could not infer format, so each element will be parsed individually, falling back to `dateutil`. To ensure parsing is consistent and as-expected, please specify a format.\n",
      "  chunk = chunk[(chunk['id_meetlocatie'].isin(camera_ids)) & (pd.to_datetime(chunk['start_meetperiode']) >= start_time) & (pd.to_datetime(chunk['start_meetperiode']) <= end_time)]\n"
     ]
    },
    {
     "name": "stdout",
     "output_type": "stream",
     "text": [
      "speed flow data for incident was:              start_meetperiode               id_meetlocatie  gem_snelheid\n",
      "58088789  2020-03-28 07:56:00  RWS01_MONIBAS_0200vwa0303ra          76.0\n",
      "58088790  2020-03-28 07:57:00  RWS01_MONIBAS_0200vwa0303ra          70.0\n",
      "58088791  2020-03-28 07:58:00  RWS01_MONIBAS_0200vwa0303ra          73.0\n",
      "58088792  2020-03-28 07:59:00  RWS01_MONIBAS_0200vwa0303ra          81.0\n",
      "58088793  2020-03-28 08:00:00  RWS01_MONIBAS_0200vwa0303ra          78.0\n",
      "number of rows incident data:  5280\n",
      "number of rows after removing negatives;  5216\n",
      "created csv for incident:  RWS02_0000171083_171083\n",
      "                     camera_id            x\n",
      "0  RWS01_MONIBAS_0150vwq0512ra  2882.395359\n",
      "1  RWS01_MONIBAS_0150vwy0517ra  2349.058701\n",
      "2  RWS01_MONIBAS_0150vwy0520ra  2091.960863\n"
     ]
    },
    {
     "name": "stderr",
     "output_type": "stream",
     "text": [
      "/var/folders/c0/2gmfm5qd4tl9nzl882r0xr040000gn/T/ipykernel_53263/252438380.py:10: UserWarning: Could not infer format, so each element will be parsed individually, falling back to `dateutil`. To ensure parsing is consistent and as-expected, please specify a format.\n",
      "  chunk = chunk[(chunk['id_meetlocatie'].isin(camera_ids)) & (pd.to_datetime(chunk['start_meetperiode']) >= start_time) & (pd.to_datetime(chunk['start_meetperiode']) <= end_time)]\n",
      "/var/folders/c0/2gmfm5qd4tl9nzl882r0xr040000gn/T/ipykernel_53263/252438380.py:10: UserWarning: Could not infer format, so each element will be parsed individually, falling back to `dateutil`. To ensure parsing is consistent and as-expected, please specify a format.\n",
      "  chunk = chunk[(chunk['id_meetlocatie'].isin(camera_ids)) & (pd.to_datetime(chunk['start_meetperiode']) >= start_time) & (pd.to_datetime(chunk['start_meetperiode']) <= end_time)]\n",
      "/var/folders/c0/2gmfm5qd4tl9nzl882r0xr040000gn/T/ipykernel_53263/252438380.py:10: UserWarning: Could not infer format, so each element will be parsed individually, falling back to `dateutil`. To ensure parsing is consistent and as-expected, please specify a format.\n",
      "  chunk = chunk[(chunk['id_meetlocatie'].isin(camera_ids)) & (pd.to_datetime(chunk['start_meetperiode']) >= start_time) & (pd.to_datetime(chunk['start_meetperiode']) <= end_time)]\n",
      "/var/folders/c0/2gmfm5qd4tl9nzl882r0xr040000gn/T/ipykernel_53263/252438380.py:10: UserWarning: Could not infer format, so each element will be parsed individually, falling back to `dateutil`. To ensure parsing is consistent and as-expected, please specify a format.\n",
      "  chunk = chunk[(chunk['id_meetlocatie'].isin(camera_ids)) & (pd.to_datetime(chunk['start_meetperiode']) >= start_time) & (pd.to_datetime(chunk['start_meetperiode']) <= end_time)]\n",
      "/var/folders/c0/2gmfm5qd4tl9nzl882r0xr040000gn/T/ipykernel_53263/252438380.py:10: UserWarning: Could not infer format, so each element will be parsed individually, falling back to `dateutil`. To ensure parsing is consistent and as-expected, please specify a format.\n",
      "  chunk = chunk[(chunk['id_meetlocatie'].isin(camera_ids)) & (pd.to_datetime(chunk['start_meetperiode']) >= start_time) & (pd.to_datetime(chunk['start_meetperiode']) <= end_time)]\n",
      "/var/folders/c0/2gmfm5qd4tl9nzl882r0xr040000gn/T/ipykernel_53263/252438380.py:10: UserWarning: Could not infer format, so each element will be parsed individually, falling back to `dateutil`. To ensure parsing is consistent and as-expected, please specify a format.\n",
      "  chunk = chunk[(chunk['id_meetlocatie'].isin(camera_ids)) & (pd.to_datetime(chunk['start_meetperiode']) >= start_time) & (pd.to_datetime(chunk['start_meetperiode']) <= end_time)]\n"
     ]
    },
    {
     "name": "stdout",
     "output_type": "stream",
     "text": [
      "speed flow data for incident was:              start_meetperiode               id_meetlocatie  gem_snelheid\n",
      "44351879  2020-03-28 12:31:00  RWS01_MONIBAS_0041hrl0754ra         114.0\n",
      "44351880  2020-03-28 12:31:00  RWS01_MONIBAS_0041hrl0754ra         101.0\n",
      "44351881  2020-03-28 12:31:00  RWS01_MONIBAS_0041hrl0754ra         101.0\n",
      "44351882  2020-03-28 12:31:00  RWS01_MONIBAS_0041hrl0754ra         102.0\n",
      "44351883  2020-03-28 12:31:00  RWS01_MONIBAS_0041hrl0754ra          96.0\n",
      "number of rows incident data:  1680\n",
      "number of rows after removing negatives;  1680\n",
      "created csv for incident:  RWS02_0000171155_171155\n",
      "                     camera_id            x\n",
      "0  RWS01_MONIBAS_0150vwq0572ra  2675.545657\n",
      "1  RWS01_MONIBAS_0150vwq0577ra  2222.228240\n",
      "2  RWS01_MONIBAS_0150vwn0579ra  1989.317596\n"
     ]
    },
    {
     "name": "stderr",
     "output_type": "stream",
     "text": [
      "/var/folders/c0/2gmfm5qd4tl9nzl882r0xr040000gn/T/ipykernel_53263/252438380.py:10: UserWarning: Could not infer format, so each element will be parsed individually, falling back to `dateutil`. To ensure parsing is consistent and as-expected, please specify a format.\n",
      "  chunk = chunk[(chunk['id_meetlocatie'].isin(camera_ids)) & (pd.to_datetime(chunk['start_meetperiode']) >= start_time) & (pd.to_datetime(chunk['start_meetperiode']) <= end_time)]\n",
      "/var/folders/c0/2gmfm5qd4tl9nzl882r0xr040000gn/T/ipykernel_53263/252438380.py:10: UserWarning: Could not infer format, so each element will be parsed individually, falling back to `dateutil`. To ensure parsing is consistent and as-expected, please specify a format.\n",
      "  chunk = chunk[(chunk['id_meetlocatie'].isin(camera_ids)) & (pd.to_datetime(chunk['start_meetperiode']) >= start_time) & (pd.to_datetime(chunk['start_meetperiode']) <= end_time)]\n",
      "/var/folders/c0/2gmfm5qd4tl9nzl882r0xr040000gn/T/ipykernel_53263/252438380.py:10: UserWarning: Could not infer format, so each element will be parsed individually, falling back to `dateutil`. To ensure parsing is consistent and as-expected, please specify a format.\n",
      "  chunk = chunk[(chunk['id_meetlocatie'].isin(camera_ids)) & (pd.to_datetime(chunk['start_meetperiode']) >= start_time) & (pd.to_datetime(chunk['start_meetperiode']) <= end_time)]\n",
      "/var/folders/c0/2gmfm5qd4tl9nzl882r0xr040000gn/T/ipykernel_53263/252438380.py:10: UserWarning: Could not infer format, so each element will be parsed individually, falling back to `dateutil`. To ensure parsing is consistent and as-expected, please specify a format.\n",
      "  chunk = chunk[(chunk['id_meetlocatie'].isin(camera_ids)) & (pd.to_datetime(chunk['start_meetperiode']) >= start_time) & (pd.to_datetime(chunk['start_meetperiode']) <= end_time)]\n",
      "/var/folders/c0/2gmfm5qd4tl9nzl882r0xr040000gn/T/ipykernel_53263/252438380.py:10: UserWarning: Could not infer format, so each element will be parsed individually, falling back to `dateutil`. To ensure parsing is consistent and as-expected, please specify a format.\n",
      "  chunk = chunk[(chunk['id_meetlocatie'].isin(camera_ids)) & (pd.to_datetime(chunk['start_meetperiode']) >= start_time) & (pd.to_datetime(chunk['start_meetperiode']) <= end_time)]\n",
      "/var/folders/c0/2gmfm5qd4tl9nzl882r0xr040000gn/T/ipykernel_53263/252438380.py:10: UserWarning: Could not infer format, so each element will be parsed individually, falling back to `dateutil`. To ensure parsing is consistent and as-expected, please specify a format.\n",
      "  chunk = chunk[(chunk['id_meetlocatie'].isin(camera_ids)) & (pd.to_datetime(chunk['start_meetperiode']) >= start_time) & (pd.to_datetime(chunk['start_meetperiode']) <= end_time)]\n"
     ]
    },
    {
     "name": "stdout",
     "output_type": "stream",
     "text": [
      "speed flow data for incident was:              start_meetperiode               id_meetlocatie  gem_snelheid\n",
      "47966607  2020-03-28 16:21:00  RWS01_MONIBAS_0150vwn0579ra         104.0\n",
      "47966608  2020-03-28 16:21:00  RWS01_MONIBAS_0150vwn0579ra         116.0\n",
      "47966609  2020-03-28 16:21:00  RWS01_MONIBAS_0150vwn0579ra         101.0\n",
      "47966610  2020-03-28 16:22:00  RWS01_MONIBAS_0150vwn0579ra         102.0\n",
      "47966611  2020-03-28 16:22:00  RWS01_MONIBAS_0150vwn0579ra          -1.0\n",
      "number of rows incident data:  4560\n",
      "number of rows after removing negatives;  4553\n",
      "created csv for incident:  RWS02_0000171238_171238\n"
     ]
    },
    {
     "data": {
      "text/plain": [
       "0"
      ]
     },
     "execution_count": 12,
     "metadata": {},
     "output_type": "execute_result"
    }
   ],
   "source": [
    "\n",
    "def check_number_of_cameras(incident_row):\n",
    "    locations_before = incident_row['before']\n",
    "    locations_after = incident_row['after']\n",
    "    \n",
    "    return len(locations_before) + len(locations_after) > mimimal_number_of_cameras\n",
    "\n",
    "def create_x_t_v_for_incident_row(incident_row):\n",
    "\n",
    "    incident_data = create_interpolation_data_for_incident(incident_row)\n",
    "    \n",
    "\n",
    "    # only keep the columns x, v, t\n",
    "    incident_data = incident_data[['x', 'v', 't']]\n",
    "\n",
    "    # there's multiple measurements within a minute, which lead to duplicates for x, t . \n",
    "    incident_data = aggregate_data(incident_data)\n",
    "    # show number of rows incident data\n",
    "    print('number of rows incident data: ', len(incident_data))\n",
    "\n",
    "    incident_data_remove_negatives = incident_data[incident_data['v'] >= 0]\n",
    "    # show number of rows after removing negatives\n",
    "    print('number of rows after removing negatives; ', len(incident_data_remove_negatives))\n",
    "\n",
    "    # Check if the directory exists, if not, create it\n",
    "    base_path = './incidentInterpolationData/'\n",
    "    full_path = f\"{base_path}/{file_name_for_saving}\"\n",
    "    if not os.path.exists(full_path):\n",
    "        os.makedirs(full_path)\n",
    "    # write the data to a csv file in ./incidentInterpolationData/, use the incident id as filename\n",
    "    incident_data_remove_negatives.to_csv(f'./incidentInterpolationData/{file_name_for_saving}/{incident_row[\"id\"]}.csv', index=False)\n",
    "    print(\"created csv for incident: \", incident_row[\"id\"])\n",
    "    \n",
    "    return incident_data_remove_negatives\n",
    "\n",
    "\n",
    "for i in range(0, len(a_df)):\n",
    "    incident_row = a_df.iloc[i]\n",
    "    \n",
    "    if check_number_of_cameras(incident_row):\n",
    "        create_x_t_v_for_incident_row(incident_row)\n",
    "    else:\n",
    "        print(f'incident {incident_row[\"id\"]} has too few cameras')\n",
    "\n",
    "\n",
    "# let os say that program has been finsihed\n",
    "import os\n",
    "os.system('say \"your program has finished\"')"
   ]
  }
 ],
 "metadata": {
  "kernelspec": {
   "display_name": "base",
   "language": "python",
   "name": "python3"
  },
  "language_info": {
   "codemirror_mode": {
    "name": "ipython",
    "version": 3
   },
   "file_extension": ".py",
   "mimetype": "text/x-python",
   "name": "python",
   "nbconvert_exporter": "python",
   "pygments_lexer": "ipython3",
   "version": "3.11.7"
  }
 },
 "nbformat": 4,
 "nbformat_minor": 2
}
