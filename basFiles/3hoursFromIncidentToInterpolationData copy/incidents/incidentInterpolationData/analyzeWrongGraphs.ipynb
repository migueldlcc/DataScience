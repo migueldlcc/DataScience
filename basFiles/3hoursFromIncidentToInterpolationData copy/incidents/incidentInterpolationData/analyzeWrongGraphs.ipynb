{
 "cells": [
  {
   "cell_type": "code",
   "execution_count": 31,
   "metadata": {},
   "outputs": [],
   "source": [
    "import pandas as pd"
   ]
  },
  {
   "cell_type": "code",
   "execution_count": 32,
   "metadata": {},
   "outputs": [],
   "source": [
    "wrongGraphIDs = [\"RWS03_822503_1\"]"
   ]
  },
  {
   "cell_type": "code",
   "execution_count": 33,
   "metadata": {},
   "outputs": [
    {
     "name": "stdout",
     "output_type": "stream",
     "text": [
      "[1027.91689256 1334.63475214 1716.57585441 1844.76804497 2123.81186137\n",
      " 2486.47598165 2762.46773912 3051.2018981  3400.37868758 3709.14246229\n",
      " 3962.56445928 4293.4182124  4671.12870721 4829.74855829 5317.39161141\n",
      " 5766.12571787 6158.60306114 6856.74326572 7453.67896952 7752.23198917]\n"
     ]
    }
   ],
   "source": [
    "for id in wrongGraphIDs:\n",
    "    \n",
    "    df = pd.read_csv(f\"/Users/vree/GithubRepos/DataScience/basFiles/3hoursFromIncidentToInterpolationData copy/incidentInterpolationData/{id}.csv\")\n",
    "    # print unique values for x\n",
    "    print(df['x'].unique())"
   ]
  }
 ],
 "metadata": {
  "kernelspec": {
   "display_name": "base",
   "language": "python",
   "name": "python3"
  },
  "language_info": {
   "codemirror_mode": {
    "name": "ipython",
    "version": 3
   },
   "file_extension": ".py",
   "mimetype": "text/x-python",
   "name": "python",
   "nbconvert_exporter": "python",
   "pygments_lexer": "ipython3",
   "version": "3.11.7"
  }
 },
 "nbformat": 4,
 "nbformat_minor": 2
}
