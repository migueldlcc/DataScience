{
 "cells": [
  {
   "cell_type": "markdown",
   "metadata": {},
   "source": [
    "This create one spatiotemporal diagram for one incident"
   ]
  },
  {
   "cell_type": "markdown",
   "metadata": {},
   "source": [
    "To generate the diagrams, first fill in the fromIncidentToDataInterpolationData.ipynb. \n",
    "Look for the global variables, since they might need to be adjusted based on the speed flow dataset which is being used. "
   ]
  },
  {
   "cell_type": "code",
   "execution_count": 6,
   "metadata": {},
   "outputs": [],
   "source": [
    "import numpy as np\n",
    "import matplotlib.pyplot as plt\n",
    "import pandas as pd\n",
    "import os"
   ]
  },
  {
   "cell_type": "code",
   "execution_count": 7,
   "metadata": {},
   "outputs": [],
   "source": [
    "# could later set global variables here\n",
    "minutes = 240  # 20 hours\n",
    "meters = 6000 # 10 km\n",
    "\n",
    "minute_steps = 10 \n",
    "meter_steps = 100\n",
    "\n",
    "sigma = 200 # standard was 45\n",
    "tau = 45 # standard was 45\n",
    "\n",
    "folders_to_generate = [\"/Users/vree/GithubRepos/DataScience/basFiles/3hoursFromIncidentToInterpolationData copy/noIncidents/incidentInterpolationData/intensiteit-snelheid-rotterdam-1-7-Maart\",\n",
    "                        \"/Users/vree/GithubRepos/DataScience/basFiles/3hoursFromIncidentToInterpolationData copy/noIncidents/incidentInterpolationData/intensiteit-snelheid-rotterdam-8-14-Maart\",\n",
    "                        \"/Users/vree/GithubRepos/DataScience/basFiles/3hoursFromIncidentToInterpolationData copy/noIncidents/incidentInterpolationData/intensiteit-snelheid-rotterdam-15-21-Maart\",\n",
    "                        \"/Users/vree/GithubRepos/DataScience/basFiles/3hoursFromIncidentToInterpolationData copy/noIncidents/incidentInterpolationData/intensiteit-snelheid-rotterdam-22-29-Maart\"]"
   ]
  },
  {
   "cell_type": "code",
   "execution_count": 8,
   "metadata": {},
   "outputs": [],
   "source": [
    "import os"
   ]
  },
  {
   "cell_type": "code",
   "execution_count": 9,
   "metadata": {},
   "outputs": [],
   "source": [
    "def phi_0(x, t, xi, ti, sigma, tau):\n",
    "    return np.exp(- (np.abs(x - xi) / sigma + np.abs(t - ti) / tau))\n",
    "\n",
    "def N(x, t, datapoints, sigma, tau):\n",
    "    return sum(phi_0(x, t, xi, ti, sigma, tau) for xi, ti, _ in datapoints)\n",
    "\n",
    "def V(x, t, datapoints, sigma, tau):\n",
    "    normalization_factor = N(x, t, datapoints, sigma, tau)\n",
    "    return sum(phi_0(x, t, xi, ti, sigma, tau) * vi for xi, ti, vi in datapoints) / normalization_factor\n",
    "\n",
    "# takes in datapoints, which is a list of tuples of the form (x, t, v) for each datapoint\n",
    "def spatiotemporal(datapoints):\n",
    "    \n",
    "\n",
    "    # Create a grid for the spatiotemporal map\n",
    "    spatio_map = np.zeros((int(minutes / minute_steps), int(meters / meter_steps)))\n",
    "\n",
    "    for i in range(0, minutes, minute_steps):\n",
    "        for j in range(0, meters, meter_steps):\n",
    "            spatio_map[int(i / minute_steps), int(j / meter_steps)] = V(j, i, datapoints, sigma, tau)\n",
    "\n",
    "    return spatio_map\n",
    "\n",
    "# Example synthetic data (xi, ti, vi)\n",
    "# datapoints = [(np.random.randint(0, meters), np.random.randint(0, minutes), np.random.uniform(20, 120)) for _ in range(100)]\n",
    "def create_spatio_diagram(x_t_v_data_path, incident_id, max_length = meters):\n",
    "\n",
    "    data1  =pd.read_csv(x_t_v_data_path)\n",
    "\n",
    "    # print minimum of values of the data for each column\n",
    "    print(data1.min())\n",
    "    print(data1.max())\n",
    "\n",
    "    datapoints = [(row[0], row[1], row[2]) for index, row in data1.iterrows()]\n",
    "\n",
    "    # Generate the spatiotemporal map\n",
    "    spatio_map = spatiotemporal(datapoints)\n",
    "\n",
    "    print(\"Contains NaN:\", np.isnan(spatio_map).any())\n",
    "    print(\"Contains Inf:\", np.isinf(spatio_map).any())\n",
    "\n",
    "    # Define the axes\n",
    "    y = np.linspace(0, max_length, spatio_map.shape[1])  # Location axis for the y-axis\n",
    "    x = np.linspace(0, minutes, spatio_map.shape[0])  # Time axis for the x-axis\n",
    "\n",
    "    # Create the meshgrid for plotting, now with time on the x-axis and location on the y-axis\n",
    "    T, Y = np.meshgrid(x, y)\n",
    "\n",
    "    # Visualize the spatiotemporal map with location on the y-axis and time on the x-axis\n",
    "    plt.figure(figsize=(15, 8))\n",
    "    cp = plt.contourf(T, Y, spatio_map.T, levels=np.linspace(spatio_map.min(), spatio_map.max(), 100), cmap='viridis')\n",
    "    plt.colorbar(cp, label='V (km/h)')\n",
    "\n",
    "\n",
    "\n",
    "    # Set the labels correctly\n",
    "    plt.xlabel('Time (minutes)')\n",
    "    plt.ylabel('Location (meters)')\n",
    "    plt.title('Spatiotemporal Traffic Data Visualization')\n",
    "    # set in the subtitle the settings for sigma and tau\n",
    "    plt.suptitle(f'Sigma = {sigma}, Tau = {tau}')\n",
    "    \n",
    "    sub_folder = x_t_v_data_path.split(\"/\")[-2]\n",
    "    # safe figure to ./spatiodiagrams folder, with random name\n",
    "    # if folder does not exist create it\n",
    "    base_path = '/Users/vree/GithubRepos/DataScience/basFiles/3hoursFromIncidentToInterpolationData copy/noIncidents/diagramsForModelTraining/' + sub_folder\n",
    "    if not os.path.exists(base_path):\n",
    "        os.makedirs(base_path)\n",
    "    \n",
    "    \n",
    "    plt.savefig('/Users/vree/GithubRepos/DataScience/basFiles/3hoursFromIncidentToInterpolationData copy/noIncidents/diagramsForModelTraining/' + sub_folder + \"/\" + incident_id + '.png')\n",
    "\n",
    "\n",
    "\n",
    "\n",
    "\n"
   ]
  },
  {
   "cell_type": "code",
   "execution_count": 10,
   "metadata": {},
   "outputs": [
    {
     "name": "stdout",
     "output_type": "stream",
     "text": [
      "no_incident_camera_baseRWS01_MONIBAS_0201hrr0319ra_2020-03-02 05:33:42.csv\n",
      "minimum x for incident no_incident_camera_baseRWS01_MONIBAS_0201hrr0319ra_2020-03-02 05:33:42.csv is 431.0565900799224\n",
      "maximum x for incident no_incident_camera_baseRWS01_MONIBAS_0201hrr0319ra_2020-03-02 05:33:42.csv is 6311.120786673314\n",
      "x    431.05659\n",
      "t      0.30000\n",
      "v      7.00000\n",
      "dtype: float64\n",
      "x    6311.120787\n",
      "t     239.300000\n",
      "v     125.000000\n",
      "dtype: float64\n"
     ]
    },
    {
     "name": "stderr",
     "output_type": "stream",
     "text": [
      "/var/folders/c0/2gmfm5qd4tl9nzl882r0xr040000gn/T/ipykernel_74463/4187144941.py:18: FutureWarning: The behavior of DataFrame concatenation with empty or all-NA entries is deprecated. In a future version, this will no longer exclude empty or all-NA columns when determining the result dtypes. To retain the old behavior, exclude the relevant entries before the concat operation.\n",
      "  min_max_df = pd.concat([min_max_df, pd.DataFrame({\n",
      "/var/folders/c0/2gmfm5qd4tl9nzl882r0xr040000gn/T/ipykernel_74463/1568644145.py:33: FutureWarning: Series.__getitem__ treating keys as positions is deprecated. In a future version, integer keys will always be treated as labels (consistent with DataFrame behavior). To access a value by position, use `ser.iloc[pos]`\n",
      "  datapoints = [(row[0], row[1], row[2]) for index, row in data1.iterrows()]\n"
     ]
    },
    {
     "name": "stdout",
     "output_type": "stream",
     "text": [
      "Contains NaN: False\n",
      "Contains Inf: False\n",
      "finished\n",
      "no_incident_camera_baseRWS01_MONIBAS_0160vwx0193ra_2020-03-06 02:20:49.csv\n",
      "minimum x for incident no_incident_camera_baseRWS01_MONIBAS_0160vwx0193ra_2020-03-06 02:20:49.csv is 407.44839244929426\n",
      "maximum x for incident no_incident_camera_baseRWS01_MONIBAS_0160vwx0193ra_2020-03-06 02:20:49.csv is 4067.66509401913\n",
      "x    407.448392\n",
      "t      0.183333\n",
      "v      0.000000\n",
      "dtype: float64\n",
      "x    4067.665094\n",
      "t     239.183333\n",
      "v     141.000000\n",
      "dtype: float64\n"
     ]
    },
    {
     "name": "stderr",
     "output_type": "stream",
     "text": [
      "/var/folders/c0/2gmfm5qd4tl9nzl882r0xr040000gn/T/ipykernel_74463/1568644145.py:33: FutureWarning: Series.__getitem__ treating keys as positions is deprecated. In a future version, integer keys will always be treated as labels (consistent with DataFrame behavior). To access a value by position, use `ser.iloc[pos]`\n",
      "  datapoints = [(row[0], row[1], row[2]) for index, row in data1.iterrows()]\n"
     ]
    },
    {
     "name": "stdout",
     "output_type": "stream",
     "text": [
      "Contains NaN: False\n",
      "Contains Inf: False\n",
      "finished\n",
      "no_incident_camera_baseRWS01_MONIBAS_0160vwx0193ra_2020-03-05 02:22:51.csv\n",
      "minimum x for incident no_incident_camera_baseRWS01_MONIBAS_0160vwx0193ra_2020-03-05 02:22:51.csv is 407.44839244929426\n",
      "maximum x for incident no_incident_camera_baseRWS01_MONIBAS_0160vwx0193ra_2020-03-05 02:22:51.csv is 4479.8323923520575\n",
      "x    407.448392\n",
      "t      0.150000\n",
      "v      0.000000\n",
      "dtype: float64\n",
      "x    4479.832392\n",
      "t     239.150000\n",
      "v     134.000000\n",
      "dtype: float64\n"
     ]
    },
    {
     "name": "stderr",
     "output_type": "stream",
     "text": [
      "/var/folders/c0/2gmfm5qd4tl9nzl882r0xr040000gn/T/ipykernel_74463/1568644145.py:33: FutureWarning: Series.__getitem__ treating keys as positions is deprecated. In a future version, integer keys will always be treated as labels (consistent with DataFrame behavior). To access a value by position, use `ser.iloc[pos]`\n",
      "  datapoints = [(row[0], row[1], row[2]) for index, row in data1.iterrows()]\n"
     ]
    },
    {
     "name": "stdout",
     "output_type": "stream",
     "text": [
      "Contains NaN: False\n",
      "Contains Inf: False\n",
      "finished\n",
      "no_incident_camera_baseRWS01_MONIBAS_0150vws0507ra_2020-03-02 04:46:32.csv\n",
      "minimum x for incident no_incident_camera_baseRWS01_MONIBAS_0150vws0507ra_2020-03-02 04:46:32.csv is 55.52589440530437\n",
      "maximum x for incident no_incident_camera_baseRWS01_MONIBAS_0150vws0507ra_2020-03-02 04:46:32.csv is 5993.323397221873\n",
      "x    55.525894\n",
      "t     0.466667\n",
      "v     3.000000\n",
      "dtype: float64\n",
      "x    5993.323397\n",
      "t     239.466667\n",
      "v     153.000000\n",
      "dtype: float64\n"
     ]
    },
    {
     "name": "stderr",
     "output_type": "stream",
     "text": [
      "/var/folders/c0/2gmfm5qd4tl9nzl882r0xr040000gn/T/ipykernel_74463/1568644145.py:33: FutureWarning: Series.__getitem__ treating keys as positions is deprecated. In a future version, integer keys will always be treated as labels (consistent with DataFrame behavior). To access a value by position, use `ser.iloc[pos]`\n",
      "  datapoints = [(row[0], row[1], row[2]) for index, row in data1.iterrows()]\n"
     ]
    },
    {
     "name": "stdout",
     "output_type": "stream",
     "text": [
      "Contains NaN: False\n",
      "Contains Inf: False\n",
      "finished\n",
      "no_incident_camera_baseRWS01_MONIBAS_0160vwx0193ra_2020-03-01 00:31:50.csv\n",
      "minimum x for incident no_incident_camera_baseRWS01_MONIBAS_0160vwx0193ra_2020-03-01 00:31:50.csv is 407.44839244929426\n",
      "maximum x for incident no_incident_camera_baseRWS01_MONIBAS_0160vwx0193ra_2020-03-01 00:31:50.csv is 4479.8323923520575\n",
      "x    407.448392\n",
      "t     28.166667\n",
      "v      0.000000\n",
      "dtype: float64\n",
      "x    4479.832392\n",
      "t     239.166667\n",
      "v     158.000000\n",
      "dtype: float64\n"
     ]
    },
    {
     "name": "stderr",
     "output_type": "stream",
     "text": [
      "/var/folders/c0/2gmfm5qd4tl9nzl882r0xr040000gn/T/ipykernel_74463/1568644145.py:33: FutureWarning: Series.__getitem__ treating keys as positions is deprecated. In a future version, integer keys will always be treated as labels (consistent with DataFrame behavior). To access a value by position, use `ser.iloc[pos]`\n",
      "  datapoints = [(row[0], row[1], row[2]) for index, row in data1.iterrows()]\n"
     ]
    },
    {
     "name": "stdout",
     "output_type": "stream",
     "text": [
      "Contains NaN: False\n",
      "Contains Inf: False\n",
      "finished\n",
      "no_incident_camera_baseRWS01_MONIBAS_0201hrr0319ra_2020-03-03 19:59:11.csv\n",
      "minimum x for incident no_incident_camera_baseRWS01_MONIBAS_0201hrr0319ra_2020-03-03 19:59:11.csv is 431.0565900799224\n",
      "maximum x for incident no_incident_camera_baseRWS01_MONIBAS_0201hrr0319ra_2020-03-03 19:59:11.csv is 6311.120786673314\n",
      "x    431.056590\n",
      "t      0.816667\n",
      "v     36.000000\n",
      "dtype: float64\n",
      "x    6311.120787\n",
      "t     239.816667\n",
      "v     128.666667\n",
      "dtype: float64\n"
     ]
    },
    {
     "name": "stderr",
     "output_type": "stream",
     "text": [
      "/var/folders/c0/2gmfm5qd4tl9nzl882r0xr040000gn/T/ipykernel_74463/1568644145.py:33: FutureWarning: Series.__getitem__ treating keys as positions is deprecated. In a future version, integer keys will always be treated as labels (consistent with DataFrame behavior). To access a value by position, use `ser.iloc[pos]`\n",
      "  datapoints = [(row[0], row[1], row[2]) for index, row in data1.iterrows()]\n"
     ]
    },
    {
     "name": "stdout",
     "output_type": "stream",
     "text": [
      "Contains NaN: False\n",
      "Contains Inf: False\n",
      "finished\n",
      "no_incident_camera_baseRWS01_MONIBAS_0160vwx0193ra_2020-03-03 18:55:27.csv\n",
      "minimum x for incident no_incident_camera_baseRWS01_MONIBAS_0160vwx0193ra_2020-03-03 18:55:27.csv is 407.44839244929426\n",
      "maximum x for incident no_incident_camera_baseRWS01_MONIBAS_0160vwx0193ra_2020-03-03 18:55:27.csv is 4479.8323923520575\n",
      "x    407.448392\n",
      "t      0.550000\n",
      "v      0.000000\n",
      "dtype: float64\n",
      "x    4479.832392\n",
      "t     239.550000\n",
      "v     170.000000\n",
      "dtype: float64\n"
     ]
    },
    {
     "name": "stderr",
     "output_type": "stream",
     "text": [
      "/var/folders/c0/2gmfm5qd4tl9nzl882r0xr040000gn/T/ipykernel_74463/1568644145.py:33: FutureWarning: Series.__getitem__ treating keys as positions is deprecated. In a future version, integer keys will always be treated as labels (consistent with DataFrame behavior). To access a value by position, use `ser.iloc[pos]`\n",
      "  datapoints = [(row[0], row[1], row[2]) for index, row in data1.iterrows()]\n"
     ]
    },
    {
     "name": "stdout",
     "output_type": "stream",
     "text": [
      "Contains NaN: False\n",
      "Contains Inf: False\n",
      "finished\n",
      "no_incident_camera_baseRWS01_MONIBAS_0160vwx0193ra_2020-03-02 05:29:33.csv\n",
      "minimum x for incident no_incident_camera_baseRWS01_MONIBAS_0160vwx0193ra_2020-03-02 05:29:33.csv is 407.44839244929426\n",
      "maximum x for incident no_incident_camera_baseRWS01_MONIBAS_0160vwx0193ra_2020-03-02 05:29:33.csv is 4479.8323923520575\n",
      "x    407.448392\n",
      "t      0.450000\n",
      "v      0.000000\n",
      "dtype: float64\n",
      "x    4479.832392\n",
      "t     239.450000\n",
      "v     143.000000\n",
      "dtype: float64\n"
     ]
    },
    {
     "name": "stderr",
     "output_type": "stream",
     "text": [
      "/var/folders/c0/2gmfm5qd4tl9nzl882r0xr040000gn/T/ipykernel_74463/1568644145.py:33: FutureWarning: Series.__getitem__ treating keys as positions is deprecated. In a future version, integer keys will always be treated as labels (consistent with DataFrame behavior). To access a value by position, use `ser.iloc[pos]`\n",
      "  datapoints = [(row[0], row[1], row[2]) for index, row in data1.iterrows()]\n"
     ]
    },
    {
     "name": "stdout",
     "output_type": "stream",
     "text": [
      "Contains NaN: False\n",
      "Contains Inf: False\n",
      "finished\n",
      "no_incident_camera_baseRWS01_MONICA_10D01002F400B8200007_2020-03-05 16:23:04.csv\n",
      "minimum x for incident no_incident_camera_baseRWS01_MONICA_10D01002F400B8200007_2020-03-05 16:23:04.csv is 1298.6502411816257\n",
      "maximum x for incident no_incident_camera_baseRWS01_MONICA_10D01002F400B8200007_2020-03-05 16:23:04.csv is 6358.708547755443\n",
      "x    1298.650241\n",
      "t       0.933333\n",
      "v       0.000000\n",
      "dtype: float64\n",
      "x    6358.708548\n",
      "t     239.933333\n",
      "v     110.000000\n",
      "dtype: float64\n"
     ]
    },
    {
     "name": "stderr",
     "output_type": "stream",
     "text": [
      "/var/folders/c0/2gmfm5qd4tl9nzl882r0xr040000gn/T/ipykernel_74463/1568644145.py:33: FutureWarning: Series.__getitem__ treating keys as positions is deprecated. In a future version, integer keys will always be treated as labels (consistent with DataFrame behavior). To access a value by position, use `ser.iloc[pos]`\n",
      "  datapoints = [(row[0], row[1], row[2]) for index, row in data1.iterrows()]\n"
     ]
    },
    {
     "name": "stdout",
     "output_type": "stream",
     "text": [
      "Contains NaN: False\n",
      "Contains Inf: False\n",
      "finished\n",
      "no_incident_camera_baseRWS01_MONIBAS_0150vws0507ra_2020-03-05 03:02:51.csv\n",
      "minimum x for incident no_incident_camera_baseRWS01_MONIBAS_0150vws0507ra_2020-03-05 03:02:51.csv is 725.0619709119824\n",
      "maximum x for incident no_incident_camera_baseRWS01_MONIBAS_0150vws0507ra_2020-03-05 03:02:51.csv is 5458.955875199852\n",
      "x    725.061971\n",
      "t      0.150000\n",
      "v     14.200000\n",
      "dtype: float64\n",
      "x    5458.955875\n",
      "t     239.150000\n",
      "v     187.000000\n",
      "dtype: float64\n"
     ]
    },
    {
     "name": "stderr",
     "output_type": "stream",
     "text": [
      "/var/folders/c0/2gmfm5qd4tl9nzl882r0xr040000gn/T/ipykernel_74463/1568644145.py:33: FutureWarning: Series.__getitem__ treating keys as positions is deprecated. In a future version, integer keys will always be treated as labels (consistent with DataFrame behavior). To access a value by position, use `ser.iloc[pos]`\n",
      "  datapoints = [(row[0], row[1], row[2]) for index, row in data1.iterrows()]\n"
     ]
    },
    {
     "name": "stdout",
     "output_type": "stream",
     "text": [
      "Contains NaN: False\n",
      "Contains Inf: False\n",
      "finished\n",
      "no_incident_camera_baseRWS01_MONIBAS_0201hrr0343ra_2020-03-06 04:47:45.csv\n",
      "minimum x for incident no_incident_camera_baseRWS01_MONIBAS_0201hrr0343ra_2020-03-06 04:47:45.csv is 443.2394970173473\n",
      "maximum x for incident no_incident_camera_baseRWS01_MONIBAS_0201hrr0343ra_2020-03-06 04:47:45.csv is 6304.468399547873\n",
      "x    443.239497\n",
      "t      0.250000\n",
      "v     15.500000\n",
      "dtype: float64\n",
      "x    6304.468400\n",
      "t     239.250000\n",
      "v     125.333333\n",
      "dtype: float64\n"
     ]
    },
    {
     "name": "stderr",
     "output_type": "stream",
     "text": [
      "/var/folders/c0/2gmfm5qd4tl9nzl882r0xr040000gn/T/ipykernel_74463/1568644145.py:33: FutureWarning: Series.__getitem__ treating keys as positions is deprecated. In a future version, integer keys will always be treated as labels (consistent with DataFrame behavior). To access a value by position, use `ser.iloc[pos]`\n",
      "  datapoints = [(row[0], row[1], row[2]) for index, row in data1.iterrows()]\n"
     ]
    },
    {
     "name": "stdout",
     "output_type": "stream",
     "text": [
      "Contains NaN: False\n",
      "Contains Inf: False\n",
      "finished\n",
      "no_incident_camera_baseRWS01_MONIBAS_0150vwn0594ra_2020-03-10 01:43:46.csv\n",
      "minimum x for incident no_incident_camera_baseRWS01_MONIBAS_0150vwn0594ra_2020-03-10 01:43:46.csv is 3000.0\n",
      "maximum x for incident no_incident_camera_baseRWS01_MONIBAS_0150vwn0594ra_2020-03-10 01:43:46.csv is 7829.770981522573\n",
      "x    3000.000000\n",
      "t       0.233333\n",
      "v      34.500000\n",
      "dtype: float64\n",
      "x    7829.770982\n",
      "t     239.233333\n",
      "v     129.500000\n",
      "dtype: float64\n"
     ]
    },
    {
     "name": "stderr",
     "output_type": "stream",
     "text": [
      "/var/folders/c0/2gmfm5qd4tl9nzl882r0xr040000gn/T/ipykernel_74463/4187144941.py:18: FutureWarning: The behavior of DataFrame concatenation with empty or all-NA entries is deprecated. In a future version, this will no longer exclude empty or all-NA columns when determining the result dtypes. To retain the old behavior, exclude the relevant entries before the concat operation.\n",
      "  min_max_df = pd.concat([min_max_df, pd.DataFrame({\n",
      "/var/folders/c0/2gmfm5qd4tl9nzl882r0xr040000gn/T/ipykernel_74463/1568644145.py:33: FutureWarning: Series.__getitem__ treating keys as positions is deprecated. In a future version, integer keys will always be treated as labels (consistent with DataFrame behavior). To access a value by position, use `ser.iloc[pos]`\n",
      "  datapoints = [(row[0], row[1], row[2]) for index, row in data1.iterrows()]\n"
     ]
    },
    {
     "name": "stdout",
     "output_type": "stream",
     "text": [
      "Contains NaN: False\n",
      "Contains Inf: False\n",
      "finished\n",
      "no_incident_camera_baseRWS01_MONIBAS_0150vws0507ra_2020-03-10 19:44:02.csv\n",
      "minimum x for incident no_incident_camera_baseRWS01_MONIBAS_0150vws0507ra_2020-03-10 19:44:02.csv is 725.0619709119824\n",
      "maximum x for incident no_incident_camera_baseRWS01_MONIBAS_0150vws0507ra_2020-03-10 19:44:02.csv is 5458.955875199852\n",
      "x    725.061971\n",
      "t      0.966667\n",
      "v     23.333333\n",
      "dtype: float64\n",
      "x    5458.955875\n",
      "t     239.966667\n",
      "v     139.000000\n",
      "dtype: float64\n"
     ]
    },
    {
     "name": "stderr",
     "output_type": "stream",
     "text": [
      "/var/folders/c0/2gmfm5qd4tl9nzl882r0xr040000gn/T/ipykernel_74463/1568644145.py:33: FutureWarning: Series.__getitem__ treating keys as positions is deprecated. In a future version, integer keys will always be treated as labels (consistent with DataFrame behavior). To access a value by position, use `ser.iloc[pos]`\n",
      "  datapoints = [(row[0], row[1], row[2]) for index, row in data1.iterrows()]\n"
     ]
    },
    {
     "name": "stdout",
     "output_type": "stream",
     "text": [
      "Contains NaN: False\n",
      "Contains Inf: False\n",
      "finished\n",
      "no_incident_camera_baseRWS01_MONICA_10D01002F400B8200007_2020-03-09 12:45:23.csv\n",
      "minimum x for incident no_incident_camera_baseRWS01_MONICA_10D01002F400B8200007_2020-03-09 12:45:23.csv is 1298.6502411816257\n",
      "maximum x for incident no_incident_camera_baseRWS01_MONICA_10D01002F400B8200007_2020-03-09 12:45:23.csv is 6358.708547755443\n",
      "x    1298.650241\n",
      "t       0.616667\n",
      "v       0.000000\n",
      "dtype: float64\n",
      "x    6358.708548\n",
      "t     239.616667\n",
      "v     129.000000\n",
      "dtype: float64\n"
     ]
    },
    {
     "name": "stderr",
     "output_type": "stream",
     "text": [
      "/var/folders/c0/2gmfm5qd4tl9nzl882r0xr040000gn/T/ipykernel_74463/1568644145.py:33: FutureWarning: Series.__getitem__ treating keys as positions is deprecated. In a future version, integer keys will always be treated as labels (consistent with DataFrame behavior). To access a value by position, use `ser.iloc[pos]`\n",
      "  datapoints = [(row[0], row[1], row[2]) for index, row in data1.iterrows()]\n"
     ]
    },
    {
     "name": "stdout",
     "output_type": "stream",
     "text": [
      "Contains NaN: False\n",
      "Contains Inf: False\n",
      "finished\n",
      "no_incident_camera_baseRWS01_MONIBAS_0160vwx0193ra_2020-03-09 02:07:17.csv\n",
      "minimum x for incident no_incident_camera_baseRWS01_MONIBAS_0160vwx0193ra_2020-03-09 02:07:17.csv is 407.44839244929426\n",
      "maximum x for incident no_incident_camera_baseRWS01_MONIBAS_0160vwx0193ra_2020-03-09 02:07:17.csv is 4479.8323923520575\n",
      "x    407.448392\n",
      "t      0.716667\n",
      "v      0.000000\n",
      "dtype: float64\n",
      "x    4479.832392\n",
      "t     239.716667\n",
      "v     158.000000\n",
      "dtype: float64\n"
     ]
    },
    {
     "name": "stderr",
     "output_type": "stream",
     "text": [
      "/var/folders/c0/2gmfm5qd4tl9nzl882r0xr040000gn/T/ipykernel_74463/1568644145.py:33: FutureWarning: Series.__getitem__ treating keys as positions is deprecated. In a future version, integer keys will always be treated as labels (consistent with DataFrame behavior). To access a value by position, use `ser.iloc[pos]`\n",
      "  datapoints = [(row[0], row[1], row[2]) for index, row in data1.iterrows()]\n"
     ]
    },
    {
     "name": "stdout",
     "output_type": "stream",
     "text": [
      "Contains NaN: False\n",
      "Contains Inf: False\n",
      "finished\n",
      "no_incident_camera_baseRWS01_MONIBAS_0201hrr0319ra_2020-03-10 02:42:35.csv\n",
      "minimum x for incident no_incident_camera_baseRWS01_MONIBAS_0201hrr0319ra_2020-03-10 02:42:35.csv is 431.0565900799224\n",
      "maximum x for incident no_incident_camera_baseRWS01_MONIBAS_0201hrr0319ra_2020-03-10 02:42:35.csv is 6311.120786673314\n",
      "x    431.056590\n",
      "t      0.416667\n",
      "v      5.666667\n",
      "dtype: float64\n",
      "x    6311.120787\n",
      "t     239.416667\n",
      "v     114.666667\n",
      "dtype: float64\n"
     ]
    },
    {
     "name": "stderr",
     "output_type": "stream",
     "text": [
      "/var/folders/c0/2gmfm5qd4tl9nzl882r0xr040000gn/T/ipykernel_74463/1568644145.py:33: FutureWarning: Series.__getitem__ treating keys as positions is deprecated. In a future version, integer keys will always be treated as labels (consistent with DataFrame behavior). To access a value by position, use `ser.iloc[pos]`\n",
      "  datapoints = [(row[0], row[1], row[2]) for index, row in data1.iterrows()]\n"
     ]
    },
    {
     "name": "stdout",
     "output_type": "stream",
     "text": [
      "Contains NaN: False\n",
      "Contains Inf: False\n",
      "finished\n",
      "no_incident_camera_baseRWS01_MONIBAS_0201hrr0343ra_2020-03-13 02:43:10.csv\n",
      "minimum x for incident no_incident_camera_baseRWS01_MONIBAS_0201hrr0343ra_2020-03-13 02:43:10.csv is 443.2394970173473\n",
      "maximum x for incident no_incident_camera_baseRWS01_MONIBAS_0201hrr0343ra_2020-03-13 02:43:10.csv is 6304.468399547873\n",
      "x    443.239497\n",
      "t      0.833333\n",
      "v     14.333333\n",
      "dtype: float64\n",
      "x    6304.468400\n",
      "t     239.833333\n",
      "v     129.333333\n",
      "dtype: float64\n"
     ]
    },
    {
     "name": "stderr",
     "output_type": "stream",
     "text": [
      "/var/folders/c0/2gmfm5qd4tl9nzl882r0xr040000gn/T/ipykernel_74463/1568644145.py:33: FutureWarning: Series.__getitem__ treating keys as positions is deprecated. In a future version, integer keys will always be treated as labels (consistent with DataFrame behavior). To access a value by position, use `ser.iloc[pos]`\n",
      "  datapoints = [(row[0], row[1], row[2]) for index, row in data1.iterrows()]\n"
     ]
    },
    {
     "name": "stdout",
     "output_type": "stream",
     "text": [
      "Contains NaN: False\n",
      "Contains Inf: False\n",
      "finished\n",
      "no_incident_camera_baseRWS01_MONIBAS_0201hrr0319ra_2020-03-09 03:58:22.csv\n",
      "minimum x for incident no_incident_camera_baseRWS01_MONIBAS_0201hrr0319ra_2020-03-09 03:58:22.csv is 431.0565900799224\n",
      "maximum x for incident no_incident_camera_baseRWS01_MONIBAS_0201hrr0319ra_2020-03-09 03:58:22.csv is 6311.120786673314\n",
      "x    431.056590\n",
      "t      0.633333\n",
      "v     16.000000\n",
      "dtype: float64\n",
      "x    6311.120787\n",
      "t     239.633333\n",
      "v     114.000000\n",
      "dtype: float64\n"
     ]
    },
    {
     "name": "stderr",
     "output_type": "stream",
     "text": [
      "/var/folders/c0/2gmfm5qd4tl9nzl882r0xr040000gn/T/ipykernel_74463/1568644145.py:33: FutureWarning: Series.__getitem__ treating keys as positions is deprecated. In a future version, integer keys will always be treated as labels (consistent with DataFrame behavior). To access a value by position, use `ser.iloc[pos]`\n",
      "  datapoints = [(row[0], row[1], row[2]) for index, row in data1.iterrows()]\n"
     ]
    },
    {
     "name": "stdout",
     "output_type": "stream",
     "text": [
      "Contains NaN: False\n",
      "Contains Inf: False\n",
      "finished\n",
      "no_incident_camera_baseRWS01_MONIBAS_0150vws0507ra_2020-03-08 11:30:14.csv\n",
      "minimum x for incident no_incident_camera_baseRWS01_MONIBAS_0150vws0507ra_2020-03-08 11:30:14.csv is 55.52589440530437\n",
      "maximum x for incident no_incident_camera_baseRWS01_MONIBAS_0150vws0507ra_2020-03-08 11:30:14.csv is 5993.323397221873\n",
      "x    55.525894\n",
      "t     0.766667\n",
      "v    49.000000\n",
      "dtype: float64\n",
      "x    5993.323397\n",
      "t     239.766667\n",
      "v     137.000000\n",
      "dtype: float64\n"
     ]
    },
    {
     "name": "stderr",
     "output_type": "stream",
     "text": [
      "/var/folders/c0/2gmfm5qd4tl9nzl882r0xr040000gn/T/ipykernel_74463/1568644145.py:33: FutureWarning: Series.__getitem__ treating keys as positions is deprecated. In a future version, integer keys will always be treated as labels (consistent with DataFrame behavior). To access a value by position, use `ser.iloc[pos]`\n",
      "  datapoints = [(row[0], row[1], row[2]) for index, row in data1.iterrows()]\n"
     ]
    },
    {
     "name": "stdout",
     "output_type": "stream",
     "text": [
      "Contains NaN: False\n",
      "Contains Inf: False\n",
      "finished\n",
      "no_incident_camera_baseRWS01_MONIBAS_0201hrr0319ra_2020-03-10 03:18:55.csv\n",
      "minimum x for incident no_incident_camera_baseRWS01_MONIBAS_0201hrr0319ra_2020-03-10 03:18:55.csv is 431.0565900799224\n",
      "maximum x for incident no_incident_camera_baseRWS01_MONIBAS_0201hrr0319ra_2020-03-10 03:18:55.csv is 6311.120786673314\n",
      "x    431.056590\n",
      "t      0.083333\n",
      "v      5.666667\n",
      "dtype: float64\n",
      "x    6311.120787\n",
      "t     239.083333\n",
      "v     114.666667\n",
      "dtype: float64\n"
     ]
    },
    {
     "name": "stderr",
     "output_type": "stream",
     "text": [
      "/var/folders/c0/2gmfm5qd4tl9nzl882r0xr040000gn/T/ipykernel_74463/1568644145.py:33: FutureWarning: Series.__getitem__ treating keys as positions is deprecated. In a future version, integer keys will always be treated as labels (consistent with DataFrame behavior). To access a value by position, use `ser.iloc[pos]`\n",
      "  datapoints = [(row[0], row[1], row[2]) for index, row in data1.iterrows()]\n"
     ]
    },
    {
     "name": "stdout",
     "output_type": "stream",
     "text": [
      "Contains NaN: False\n",
      "Contains Inf: False\n",
      "finished\n",
      "no_incident_camera_baseRWS01_MONIBAS_0150vws0507ra_2020-03-09 03:18:23.csv\n",
      "minimum x for incident no_incident_camera_baseRWS01_MONIBAS_0150vws0507ra_2020-03-09 03:18:23.csv is 725.0619709119824\n",
      "maximum x for incident no_incident_camera_baseRWS01_MONIBAS_0150vws0507ra_2020-03-09 03:18:23.csv is 5458.955875199852\n",
      "x    725.061971\n",
      "t      0.616667\n",
      "v     13.400000\n",
      "dtype: float64\n",
      "x    5458.955875\n",
      "t     239.616667\n",
      "v     172.000000\n",
      "dtype: float64\n"
     ]
    },
    {
     "name": "stderr",
     "output_type": "stream",
     "text": [
      "/var/folders/c0/2gmfm5qd4tl9nzl882r0xr040000gn/T/ipykernel_74463/1568644145.py:33: FutureWarning: Series.__getitem__ treating keys as positions is deprecated. In a future version, integer keys will always be treated as labels (consistent with DataFrame behavior). To access a value by position, use `ser.iloc[pos]`\n",
      "  datapoints = [(row[0], row[1], row[2]) for index, row in data1.iterrows()]\n"
     ]
    },
    {
     "name": "stdout",
     "output_type": "stream",
     "text": [
      "Contains NaN: False\n",
      "Contains Inf: False\n",
      "finished\n",
      "no_incident_camera_baseRWS01_MONIBAS_0201hrr0343ra_2020-03-10 00:08:33.csv\n",
      "minimum x for incident no_incident_camera_baseRWS01_MONIBAS_0201hrr0343ra_2020-03-10 00:08:33.csv is 443.2394970173473\n",
      "maximum x for incident no_incident_camera_baseRWS01_MONIBAS_0201hrr0343ra_2020-03-10 00:08:33.csv is 6304.468399547873\n",
      "x    443.239497\n",
      "t      0.450000\n",
      "v     13.250000\n",
      "dtype: float64\n",
      "x    6304.4684\n",
      "t     239.4500\n",
      "v     125.5000\n",
      "dtype: float64\n"
     ]
    },
    {
     "name": "stderr",
     "output_type": "stream",
     "text": [
      "/var/folders/c0/2gmfm5qd4tl9nzl882r0xr040000gn/T/ipykernel_74463/1568644145.py:49: RuntimeWarning: More than 20 figures have been opened. Figures created through the pyplot interface (`matplotlib.pyplot.figure`) are retained until explicitly closed and may consume too much memory. (To control this warning, see the rcParam `figure.max_open_warning`). Consider using `matplotlib.pyplot.close()`.\n",
      "  plt.figure(figsize=(15, 8))\n",
      "/var/folders/c0/2gmfm5qd4tl9nzl882r0xr040000gn/T/ipykernel_74463/1568644145.py:33: FutureWarning: Series.__getitem__ treating keys as positions is deprecated. In a future version, integer keys will always be treated as labels (consistent with DataFrame behavior). To access a value by position, use `ser.iloc[pos]`\n",
      "  datapoints = [(row[0], row[1], row[2]) for index, row in data1.iterrows()]\n"
     ]
    },
    {
     "name": "stdout",
     "output_type": "stream",
     "text": [
      "Contains NaN: False\n",
      "Contains Inf: False\n",
      "finished\n",
      "no_incident_camera_baseRWS01_MONIBAS_0150vws0507ra_2020-03-10 05:24:56.csv\n",
      "minimum x for incident no_incident_camera_baseRWS01_MONIBAS_0150vws0507ra_2020-03-10 05:24:56.csv is 55.52589440530437\n",
      "maximum x for incident no_incident_camera_baseRWS01_MONIBAS_0150vws0507ra_2020-03-10 05:24:56.csv is 5993.323397221873\n",
      "x    55.525894\n",
      "t     0.066667\n",
      "v     4.666667\n",
      "dtype: float64\n",
      "x    5993.323397\n",
      "t     239.066667\n",
      "v     136.000000\n",
      "dtype: float64\n"
     ]
    },
    {
     "name": "stderr",
     "output_type": "stream",
     "text": [
      "/var/folders/c0/2gmfm5qd4tl9nzl882r0xr040000gn/T/ipykernel_74463/1568644145.py:33: FutureWarning: Series.__getitem__ treating keys as positions is deprecated. In a future version, integer keys will always be treated as labels (consistent with DataFrame behavior). To access a value by position, use `ser.iloc[pos]`\n",
      "  datapoints = [(row[0], row[1], row[2]) for index, row in data1.iterrows()]\n"
     ]
    },
    {
     "name": "stdout",
     "output_type": "stream",
     "text": [
      "Contains NaN: False\n",
      "Contains Inf: False\n",
      "finished\n",
      "no_incident_camera_baseRWS01_MONIBAS_0150vwn0594ra_2020-03-11 04:22:53.csv\n",
      "minimum x for incident no_incident_camera_baseRWS01_MONIBAS_0150vwn0594ra_2020-03-11 04:22:53.csv is 3000.0\n",
      "maximum x for incident no_incident_camera_baseRWS01_MONIBAS_0150vwn0594ra_2020-03-11 04:22:53.csv is 7829.770981522573\n",
      "x    3000.000000\n",
      "t       0.116667\n",
      "v       7.000000\n",
      "dtype: float64\n",
      "x    7829.770982\n",
      "t     239.116667\n",
      "v     138.000000\n",
      "dtype: float64\n"
     ]
    },
    {
     "name": "stderr",
     "output_type": "stream",
     "text": [
      "/var/folders/c0/2gmfm5qd4tl9nzl882r0xr040000gn/T/ipykernel_74463/1568644145.py:33: FutureWarning: Series.__getitem__ treating keys as positions is deprecated. In a future version, integer keys will always be treated as labels (consistent with DataFrame behavior). To access a value by position, use `ser.iloc[pos]`\n",
      "  datapoints = [(row[0], row[1], row[2]) for index, row in data1.iterrows()]\n"
     ]
    },
    {
     "name": "stdout",
     "output_type": "stream",
     "text": [
      "Contains NaN: False\n",
      "Contains Inf: False\n",
      "finished\n",
      "no_incident_camera_baseRWS01_MONIBAS_0150vws0507ra_2020-03-09 02:53:34.csv\n",
      "minimum x for incident no_incident_camera_baseRWS01_MONIBAS_0150vws0507ra_2020-03-09 02:53:34.csv is 725.0619709119824\n",
      "maximum x for incident no_incident_camera_baseRWS01_MONIBAS_0150vws0507ra_2020-03-09 02:53:34.csv is 5458.955875199852\n",
      "x    725.061971\n",
      "t      0.433333\n",
      "v     13.400000\n",
      "dtype: float64\n",
      "x    5458.955875\n",
      "t     239.433333\n",
      "v     185.000000\n",
      "dtype: float64\n"
     ]
    },
    {
     "name": "stderr",
     "output_type": "stream",
     "text": [
      "/var/folders/c0/2gmfm5qd4tl9nzl882r0xr040000gn/T/ipykernel_74463/1568644145.py:33: FutureWarning: Series.__getitem__ treating keys as positions is deprecated. In a future version, integer keys will always be treated as labels (consistent with DataFrame behavior). To access a value by position, use `ser.iloc[pos]`\n",
      "  datapoints = [(row[0], row[1], row[2]) for index, row in data1.iterrows()]\n"
     ]
    },
    {
     "name": "stdout",
     "output_type": "stream",
     "text": [
      "Contains NaN: False\n",
      "Contains Inf: False\n",
      "finished\n",
      "no_incident_camera_baseRWS01_MONICA_10D01002F400B8200007_2020-03-20 11:13:31.csv\n",
      "minimum x for incident no_incident_camera_baseRWS01_MONICA_10D01002F400B8200007_2020-03-20 11:13:31.csv is 1298.6502411816257\n",
      "maximum x for incident no_incident_camera_baseRWS01_MONICA_10D01002F400B8200007_2020-03-20 11:13:31.csv is 6358.708547755443\n",
      "x    1298.650241\n",
      "t       0.483333\n",
      "v       0.000000\n",
      "dtype: float64\n",
      "x    6358.708548\n",
      "t     239.483333\n",
      "v     164.000000\n",
      "dtype: float64\n"
     ]
    },
    {
     "name": "stderr",
     "output_type": "stream",
     "text": [
      "/var/folders/c0/2gmfm5qd4tl9nzl882r0xr040000gn/T/ipykernel_74463/4187144941.py:18: FutureWarning: The behavior of DataFrame concatenation with empty or all-NA entries is deprecated. In a future version, this will no longer exclude empty or all-NA columns when determining the result dtypes. To retain the old behavior, exclude the relevant entries before the concat operation.\n",
      "  min_max_df = pd.concat([min_max_df, pd.DataFrame({\n",
      "/var/folders/c0/2gmfm5qd4tl9nzl882r0xr040000gn/T/ipykernel_74463/1568644145.py:33: FutureWarning: Series.__getitem__ treating keys as positions is deprecated. In a future version, integer keys will always be treated as labels (consistent with DataFrame behavior). To access a value by position, use `ser.iloc[pos]`\n",
      "  datapoints = [(row[0], row[1], row[2]) for index, row in data1.iterrows()]\n"
     ]
    },
    {
     "name": "stdout",
     "output_type": "stream",
     "text": [
      "Contains NaN: False\n",
      "Contains Inf: False\n",
      "finished\n",
      "no_incident_camera_baseRWS01_MONICA_10D01002F400B8200007_2020-03-20 13:12:18.csv\n",
      "minimum x for incident no_incident_camera_baseRWS01_MONICA_10D01002F400B8200007_2020-03-20 13:12:18.csv is 1298.6502411816257\n",
      "maximum x for incident no_incident_camera_baseRWS01_MONICA_10D01002F400B8200007_2020-03-20 13:12:18.csv is 6358.708547755443\n",
      "x    1298.650241\n",
      "t       0.700000\n",
      "v       0.000000\n",
      "dtype: float64\n",
      "x    6358.708548\n",
      "t     239.700000\n",
      "v     141.000000\n",
      "dtype: float64\n"
     ]
    },
    {
     "name": "stderr",
     "output_type": "stream",
     "text": [
      "/var/folders/c0/2gmfm5qd4tl9nzl882r0xr040000gn/T/ipykernel_74463/1568644145.py:33: FutureWarning: Series.__getitem__ treating keys as positions is deprecated. In a future version, integer keys will always be treated as labels (consistent with DataFrame behavior). To access a value by position, use `ser.iloc[pos]`\n",
      "  datapoints = [(row[0], row[1], row[2]) for index, row in data1.iterrows()]\n"
     ]
    },
    {
     "name": "stdout",
     "output_type": "stream",
     "text": [
      "Contains NaN: False\n",
      "Contains Inf: False\n",
      "finished\n",
      "no_incident_camera_baseRWS01_MONICA_10D01002F400B8200007_2020-03-20 20:49:35.csv\n",
      "minimum x for incident no_incident_camera_baseRWS01_MONICA_10D01002F400B8200007_2020-03-20 20:49:35.csv is 1298.6502411816257\n",
      "maximum x for incident no_incident_camera_baseRWS01_MONICA_10D01002F400B8200007_2020-03-20 20:49:35.csv is 6358.708547755443\n",
      "x    1298.650241\n",
      "t       0.416667\n",
      "v       0.000000\n",
      "dtype: float64\n",
      "x    6358.708548\n",
      "t     239.416667\n",
      "v     170.000000\n",
      "dtype: float64\n"
     ]
    },
    {
     "name": "stderr",
     "output_type": "stream",
     "text": [
      "/var/folders/c0/2gmfm5qd4tl9nzl882r0xr040000gn/T/ipykernel_74463/1568644145.py:33: FutureWarning: Series.__getitem__ treating keys as positions is deprecated. In a future version, integer keys will always be treated as labels (consistent with DataFrame behavior). To access a value by position, use `ser.iloc[pos]`\n",
      "  datapoints = [(row[0], row[1], row[2]) for index, row in data1.iterrows()]\n"
     ]
    },
    {
     "name": "stdout",
     "output_type": "stream",
     "text": [
      "Contains NaN: False\n",
      "Contains Inf: False\n",
      "finished\n",
      "no_incident_camera_baseRWS01_MONIBAS_0150vwn0594ra_2020-03-17 06:34:44.csv\n",
      "minimum x for incident no_incident_camera_baseRWS01_MONIBAS_0150vwn0594ra_2020-03-17 06:34:44.csv is 3000.0\n",
      "maximum x for incident no_incident_camera_baseRWS01_MONIBAS_0150vwn0594ra_2020-03-17 06:34:44.csv is 7829.770981522573\n",
      "x    3000.000000\n",
      "t       0.266667\n",
      "v      47.000000\n",
      "dtype: float64\n",
      "x    7829.770982\n",
      "t     239.266667\n",
      "v     109.500000\n",
      "dtype: float64\n"
     ]
    },
    {
     "name": "stderr",
     "output_type": "stream",
     "text": [
      "/var/folders/c0/2gmfm5qd4tl9nzl882r0xr040000gn/T/ipykernel_74463/1568644145.py:33: FutureWarning: Series.__getitem__ treating keys as positions is deprecated. In a future version, integer keys will always be treated as labels (consistent with DataFrame behavior). To access a value by position, use `ser.iloc[pos]`\n",
      "  datapoints = [(row[0], row[1], row[2]) for index, row in data1.iterrows()]\n"
     ]
    },
    {
     "name": "stdout",
     "output_type": "stream",
     "text": [
      "Contains NaN: False\n",
      "Contains Inf: False\n",
      "finished\n",
      "no_incident_camera_baseRWS01_MONIBAS_0150vwy0553ra_2020-03-19 03:39:09.csv\n",
      "minimum x for incident no_incident_camera_baseRWS01_MONIBAS_0150vwy0553ra_2020-03-19 03:39:09.csv is 1428.2844442510773\n",
      "maximum x for incident no_incident_camera_baseRWS01_MONIBAS_0150vwy0553ra_2020-03-19 03:39:09.csv is 7872.301196693836\n",
      "x    1428.284444\n",
      "t       0.850000\n",
      "v      18.500000\n",
      "dtype: float64\n",
      "x    7872.301197\n",
      "t     239.850000\n",
      "v     134.000000\n",
      "dtype: float64\n"
     ]
    },
    {
     "name": "stderr",
     "output_type": "stream",
     "text": [
      "/var/folders/c0/2gmfm5qd4tl9nzl882r0xr040000gn/T/ipykernel_74463/1568644145.py:33: FutureWarning: Series.__getitem__ treating keys as positions is deprecated. In a future version, integer keys will always be treated as labels (consistent with DataFrame behavior). To access a value by position, use `ser.iloc[pos]`\n",
      "  datapoints = [(row[0], row[1], row[2]) for index, row in data1.iterrows()]\n"
     ]
    },
    {
     "name": "stdout",
     "output_type": "stream",
     "text": [
      "Contains NaN: False\n",
      "Contains Inf: False\n",
      "finished\n",
      "no_incident_camera_baseRWS01_MONIBAS_0150vwn0594ra_2020-03-15 07:51:04.csv\n",
      "minimum x for incident no_incident_camera_baseRWS01_MONIBAS_0150vwn0594ra_2020-03-15 07:51:04.csv is 3000.0\n",
      "maximum x for incident no_incident_camera_baseRWS01_MONIBAS_0150vwn0594ra_2020-03-15 07:51:04.csv is 7829.770981522573\n",
      "x    3000.000000\n",
      "t       1.933333\n",
      "v      37.500000\n",
      "dtype: float64\n",
      "x    7829.770982\n",
      "t     239.933333\n",
      "v     170.000000\n",
      "dtype: float64\n"
     ]
    },
    {
     "name": "stderr",
     "output_type": "stream",
     "text": [
      "/var/folders/c0/2gmfm5qd4tl9nzl882r0xr040000gn/T/ipykernel_74463/1568644145.py:33: FutureWarning: Series.__getitem__ treating keys as positions is deprecated. In a future version, integer keys will always be treated as labels (consistent with DataFrame behavior). To access a value by position, use `ser.iloc[pos]`\n",
      "  datapoints = [(row[0], row[1], row[2]) for index, row in data1.iterrows()]\n"
     ]
    },
    {
     "name": "stdout",
     "output_type": "stream",
     "text": [
      "Contains NaN: False\n",
      "Contains Inf: False\n",
      "finished\n",
      "no_incident_camera_baseRWS01_MONIBAS_0150vws0507ra_2020-03-20 01:19:59.csv\n",
      "minimum x for incident no_incident_camera_baseRWS01_MONIBAS_0150vws0507ra_2020-03-20 01:19:59.csv is 725.0619709119824\n",
      "maximum x for incident no_incident_camera_baseRWS01_MONIBAS_0150vws0507ra_2020-03-20 01:19:59.csv is 5458.955875199852\n",
      "x    725.061971\n",
      "t      0.016667\n",
      "v     15.800000\n",
      "dtype: float64\n",
      "x    5458.955875\n",
      "t     239.016667\n",
      "v     189.000000\n",
      "dtype: float64\n"
     ]
    },
    {
     "name": "stderr",
     "output_type": "stream",
     "text": [
      "/var/folders/c0/2gmfm5qd4tl9nzl882r0xr040000gn/T/ipykernel_74463/1568644145.py:33: FutureWarning: Series.__getitem__ treating keys as positions is deprecated. In a future version, integer keys will always be treated as labels (consistent with DataFrame behavior). To access a value by position, use `ser.iloc[pos]`\n",
      "  datapoints = [(row[0], row[1], row[2]) for index, row in data1.iterrows()]\n"
     ]
    },
    {
     "name": "stdout",
     "output_type": "stream",
     "text": [
      "Contains NaN: False\n",
      "Contains Inf: False\n",
      "finished\n",
      "no_incident_camera_baseRWS01_MONIBAS_0160vwx0193ra_2020-03-18 04:22:12.csv\n",
      "minimum x for incident no_incident_camera_baseRWS01_MONIBAS_0160vwx0193ra_2020-03-18 04:22:12.csv is 407.44839244929426\n",
      "maximum x for incident no_incident_camera_baseRWS01_MONIBAS_0160vwx0193ra_2020-03-18 04:22:12.csv is 4479.8323923520575\n",
      "x    407.448392\n",
      "t      0.800000\n",
      "v      0.000000\n",
      "dtype: float64\n",
      "x    4479.832392\n",
      "t     239.800000\n",
      "v     148.000000\n",
      "dtype: float64\n"
     ]
    },
    {
     "name": "stderr",
     "output_type": "stream",
     "text": [
      "/var/folders/c0/2gmfm5qd4tl9nzl882r0xr040000gn/T/ipykernel_74463/1568644145.py:33: FutureWarning: Series.__getitem__ treating keys as positions is deprecated. In a future version, integer keys will always be treated as labels (consistent with DataFrame behavior). To access a value by position, use `ser.iloc[pos]`\n",
      "  datapoints = [(row[0], row[1], row[2]) for index, row in data1.iterrows()]\n"
     ]
    },
    {
     "name": "stdout",
     "output_type": "stream",
     "text": [
      "Contains NaN: False\n",
      "Contains Inf: False\n",
      "finished\n",
      "no_incident_camera_baseRWS01_MONIBAS_0150vwy0553ra_2020-03-20 00:49:06.csv\n",
      "minimum x for incident no_incident_camera_baseRWS01_MONIBAS_0150vwy0553ra_2020-03-20 00:49:06.csv is 1428.2844442510773\n",
      "maximum x for incident no_incident_camera_baseRWS01_MONIBAS_0150vwy0553ra_2020-03-20 00:49:06.csv is 7872.301196693836\n",
      "x    1428.284444\n",
      "t       0.900000\n",
      "v      17.750000\n",
      "dtype: float64\n",
      "x    7872.301197\n",
      "t     239.900000\n",
      "v     136.000000\n",
      "dtype: float64\n"
     ]
    },
    {
     "name": "stderr",
     "output_type": "stream",
     "text": [
      "/var/folders/c0/2gmfm5qd4tl9nzl882r0xr040000gn/T/ipykernel_74463/1568644145.py:33: FutureWarning: Series.__getitem__ treating keys as positions is deprecated. In a future version, integer keys will always be treated as labels (consistent with DataFrame behavior). To access a value by position, use `ser.iloc[pos]`\n",
      "  datapoints = [(row[0], row[1], row[2]) for index, row in data1.iterrows()]\n"
     ]
    },
    {
     "name": "stdout",
     "output_type": "stream",
     "text": [
      "Contains NaN: False\n",
      "Contains Inf: False\n",
      "finished\n",
      "no_incident_camera_baseRWS01_MONIBAS_0150vwy0553ra_2020-03-19 16:19:10.csv\n",
      "minimum x for incident no_incident_camera_baseRWS01_MONIBAS_0150vwy0553ra_2020-03-19 16:19:10.csv is 1428.2844442510773\n",
      "maximum x for incident no_incident_camera_baseRWS01_MONIBAS_0150vwy0553ra_2020-03-19 16:19:10.csv is 7872.301196693836\n",
      "x    1428.284444\n",
      "t       0.833333\n",
      "v      47.000000\n",
      "dtype: float64\n",
      "x    7872.301197\n",
      "t     239.833333\n",
      "v     124.250000\n",
      "dtype: float64\n"
     ]
    },
    {
     "name": "stderr",
     "output_type": "stream",
     "text": [
      "/var/folders/c0/2gmfm5qd4tl9nzl882r0xr040000gn/T/ipykernel_74463/1568644145.py:33: FutureWarning: Series.__getitem__ treating keys as positions is deprecated. In a future version, integer keys will always be treated as labels (consistent with DataFrame behavior). To access a value by position, use `ser.iloc[pos]`\n",
      "  datapoints = [(row[0], row[1], row[2]) for index, row in data1.iterrows()]\n"
     ]
    },
    {
     "name": "stdout",
     "output_type": "stream",
     "text": [
      "Contains NaN: False\n",
      "Contains Inf: False\n",
      "finished\n",
      "no_incident_camera_baseRWS01_MONIBAS_0160vwx0193ra_2020-03-17 08:06:06.csv\n",
      "minimum x for incident no_incident_camera_baseRWS01_MONIBAS_0160vwx0193ra_2020-03-17 08:06:06.csv is 407.44839244929426\n",
      "maximum x for incident no_incident_camera_baseRWS01_MONIBAS_0160vwx0193ra_2020-03-17 08:06:06.csv is 4479.8323923520575\n",
      "x    407.448392\n",
      "t      0.900000\n",
      "v      0.000000\n",
      "dtype: float64\n",
      "x    4479.832392\n",
      "t     239.900000\n",
      "v     150.000000\n",
      "dtype: float64\n"
     ]
    },
    {
     "name": "stderr",
     "output_type": "stream",
     "text": [
      "/var/folders/c0/2gmfm5qd4tl9nzl882r0xr040000gn/T/ipykernel_74463/1568644145.py:33: FutureWarning: Series.__getitem__ treating keys as positions is deprecated. In a future version, integer keys will always be treated as labels (consistent with DataFrame behavior). To access a value by position, use `ser.iloc[pos]`\n",
      "  datapoints = [(row[0], row[1], row[2]) for index, row in data1.iterrows()]\n"
     ]
    },
    {
     "name": "stdout",
     "output_type": "stream",
     "text": [
      "Contains NaN: False\n",
      "Contains Inf: False\n",
      "finished\n",
      "no_incident_camera_baseRWS01_MONICA_10D01002F400B8200007_2020-03-16 05:49:18.csv\n",
      "minimum x for incident no_incident_camera_baseRWS01_MONICA_10D01002F400B8200007_2020-03-16 05:49:18.csv is 1298.6502411816257\n",
      "maximum x for incident no_incident_camera_baseRWS01_MONICA_10D01002F400B8200007_2020-03-16 05:49:18.csv is 6358.708547755443\n",
      "x    1298.650241\n",
      "t       0.700000\n",
      "v       0.000000\n",
      "dtype: float64\n",
      "x    6358.708548\n",
      "t     239.700000\n",
      "v     161.000000\n",
      "dtype: float64\n"
     ]
    },
    {
     "name": "stderr",
     "output_type": "stream",
     "text": [
      "/var/folders/c0/2gmfm5qd4tl9nzl882r0xr040000gn/T/ipykernel_74463/1568644145.py:33: FutureWarning: Series.__getitem__ treating keys as positions is deprecated. In a future version, integer keys will always be treated as labels (consistent with DataFrame behavior). To access a value by position, use `ser.iloc[pos]`\n",
      "  datapoints = [(row[0], row[1], row[2]) for index, row in data1.iterrows()]\n"
     ]
    },
    {
     "name": "stdout",
     "output_type": "stream",
     "text": [
      "Contains NaN: False\n",
      "Contains Inf: False\n",
      "finished\n",
      "no_incident_camera_baseRWS01_MONIBAS_0160vwx0193ra_2020-03-15 06:59:11.csv\n",
      "minimum x for incident no_incident_camera_baseRWS01_MONIBAS_0160vwx0193ra_2020-03-15 06:59:11.csv is 407.44839244929426\n",
      "maximum x for incident no_incident_camera_baseRWS01_MONIBAS_0160vwx0193ra_2020-03-15 06:59:11.csv is 4479.8323923520575\n",
      "x    407.448392\n",
      "t      0.816667\n",
      "v      0.000000\n",
      "dtype: float64\n",
      "x    4479.832392\n",
      "t     239.816667\n",
      "v     170.000000\n",
      "dtype: float64\n"
     ]
    },
    {
     "name": "stderr",
     "output_type": "stream",
     "text": [
      "/var/folders/c0/2gmfm5qd4tl9nzl882r0xr040000gn/T/ipykernel_74463/1568644145.py:33: FutureWarning: Series.__getitem__ treating keys as positions is deprecated. In a future version, integer keys will always be treated as labels (consistent with DataFrame behavior). To access a value by position, use `ser.iloc[pos]`\n",
      "  datapoints = [(row[0], row[1], row[2]) for index, row in data1.iterrows()]\n"
     ]
    },
    {
     "name": "stdout",
     "output_type": "stream",
     "text": [
      "Contains NaN: False\n",
      "Contains Inf: False\n",
      "finished\n",
      "no_incident_camera_baseRWS01_MONIBAS_0201hrr0343ra_2020-03-19 09:20:55.csv\n",
      "minimum x for incident no_incident_camera_baseRWS01_MONIBAS_0201hrr0343ra_2020-03-19 09:20:55.csv is 443.2394970173473\n",
      "maximum x for incident no_incident_camera_baseRWS01_MONIBAS_0201hrr0343ra_2020-03-19 09:20:55.csv is 6304.468399547873\n",
      "x    443.239497\n",
      "t      0.083333\n",
      "v     24.666667\n",
      "dtype: float64\n",
      "x    6304.468400\n",
      "t     239.083333\n",
      "v     119.000000\n",
      "dtype: float64\n"
     ]
    },
    {
     "name": "stderr",
     "output_type": "stream",
     "text": [
      "/var/folders/c0/2gmfm5qd4tl9nzl882r0xr040000gn/T/ipykernel_74463/1568644145.py:33: FutureWarning: Series.__getitem__ treating keys as positions is deprecated. In a future version, integer keys will always be treated as labels (consistent with DataFrame behavior). To access a value by position, use `ser.iloc[pos]`\n",
      "  datapoints = [(row[0], row[1], row[2]) for index, row in data1.iterrows()]\n"
     ]
    },
    {
     "name": "stdout",
     "output_type": "stream",
     "text": [
      "Contains NaN: False\n",
      "Contains Inf: False\n",
      "finished\n",
      "no_incident_camera_baseRWS01_MONIBAS_0150vwn0594ra_2020-03-15 11:21:45.csv\n",
      "minimum x for incident no_incident_camera_baseRWS01_MONIBAS_0150vwn0594ra_2020-03-15 11:21:45.csv is 3000.0\n",
      "maximum x for incident no_incident_camera_baseRWS01_MONIBAS_0150vwn0594ra_2020-03-15 11:21:45.csv is 7829.770981522573\n",
      "x    3000.00\n",
      "t       0.25\n",
      "v      41.50\n",
      "dtype: float64\n",
      "x    7829.770982\n",
      "t     239.250000\n",
      "v     132.000000\n",
      "dtype: float64\n"
     ]
    },
    {
     "name": "stderr",
     "output_type": "stream",
     "text": [
      "/var/folders/c0/2gmfm5qd4tl9nzl882r0xr040000gn/T/ipykernel_74463/1568644145.py:33: FutureWarning: Series.__getitem__ treating keys as positions is deprecated. In a future version, integer keys will always be treated as labels (consistent with DataFrame behavior). To access a value by position, use `ser.iloc[pos]`\n",
      "  datapoints = [(row[0], row[1], row[2]) for index, row in data1.iterrows()]\n"
     ]
    },
    {
     "name": "stdout",
     "output_type": "stream",
     "text": [
      "Contains NaN: False\n",
      "Contains Inf: False\n",
      "finished\n",
      "no_incident_camera_baseRWS01_MONIBAS_0160vwx0193ra_2020-03-15 19:05:09.csv\n",
      "minimum x for incident no_incident_camera_baseRWS01_MONIBAS_0160vwx0193ra_2020-03-15 19:05:09.csv is 407.44839244929426\n",
      "maximum x for incident no_incident_camera_baseRWS01_MONIBAS_0160vwx0193ra_2020-03-15 19:05:09.csv is 4479.8323923520575\n",
      "x    407.448392\n",
      "t      0.850000\n",
      "v      0.000000\n",
      "dtype: float64\n",
      "x    4479.832392\n",
      "t     239.850000\n",
      "v     153.000000\n",
      "dtype: float64\n"
     ]
    },
    {
     "name": "stderr",
     "output_type": "stream",
     "text": [
      "/var/folders/c0/2gmfm5qd4tl9nzl882r0xr040000gn/T/ipykernel_74463/1568644145.py:33: FutureWarning: Series.__getitem__ treating keys as positions is deprecated. In a future version, integer keys will always be treated as labels (consistent with DataFrame behavior). To access a value by position, use `ser.iloc[pos]`\n",
      "  datapoints = [(row[0], row[1], row[2]) for index, row in data1.iterrows()]\n"
     ]
    },
    {
     "name": "stdout",
     "output_type": "stream",
     "text": [
      "Contains NaN: False\n",
      "Contains Inf: False\n",
      "finished\n",
      "no_incident_camera_baseRWS01_MONIBAS_0201hrr0319ra_2020-03-25 07:26:02.csv\n",
      "minimum x for incident no_incident_camera_baseRWS01_MONIBAS_0201hrr0319ra_2020-03-25 07:26:02.csv is 431.0565900799224\n",
      "maximum x for incident no_incident_camera_baseRWS01_MONIBAS_0201hrr0319ra_2020-03-25 07:26:02.csv is 6311.120786673314\n",
      "x    431.056590\n",
      "t      0.966667\n",
      "v     36.500000\n",
      "dtype: float64\n",
      "x    6311.120787\n",
      "t     239.966667\n",
      "v     107.333333\n",
      "dtype: float64\n"
     ]
    },
    {
     "name": "stderr",
     "output_type": "stream",
     "text": [
      "/var/folders/c0/2gmfm5qd4tl9nzl882r0xr040000gn/T/ipykernel_74463/4187144941.py:18: FutureWarning: The behavior of DataFrame concatenation with empty or all-NA entries is deprecated. In a future version, this will no longer exclude empty or all-NA columns when determining the result dtypes. To retain the old behavior, exclude the relevant entries before the concat operation.\n",
      "  min_max_df = pd.concat([min_max_df, pd.DataFrame({\n",
      "/var/folders/c0/2gmfm5qd4tl9nzl882r0xr040000gn/T/ipykernel_74463/1568644145.py:33: FutureWarning: Series.__getitem__ treating keys as positions is deprecated. In a future version, integer keys will always be treated as labels (consistent with DataFrame behavior). To access a value by position, use `ser.iloc[pos]`\n",
      "  datapoints = [(row[0], row[1], row[2]) for index, row in data1.iterrows()]\n"
     ]
    },
    {
     "name": "stdout",
     "output_type": "stream",
     "text": [
      "Contains NaN: False\n",
      "Contains Inf: False\n",
      "finished\n",
      "no_incident_camera_baseRWS01_MONIBAS_0150vwn0594ra_2020-03-24 20:42:34.csv\n",
      "minimum x for incident no_incident_camera_baseRWS01_MONIBAS_0150vwn0594ra_2020-03-24 20:42:34.csv is 3000.0\n",
      "maximum x for incident no_incident_camera_baseRWS01_MONIBAS_0150vwn0594ra_2020-03-24 20:42:34.csv is 7829.770981522573\n",
      "x    3000.000000\n",
      "t       0.433333\n",
      "v      39.000000\n",
      "dtype: float64\n",
      "x    7829.770982\n",
      "t     239.433333\n",
      "v     134.000000\n",
      "dtype: float64\n"
     ]
    },
    {
     "name": "stderr",
     "output_type": "stream",
     "text": [
      "/var/folders/c0/2gmfm5qd4tl9nzl882r0xr040000gn/T/ipykernel_74463/1568644145.py:33: FutureWarning: Series.__getitem__ treating keys as positions is deprecated. In a future version, integer keys will always be treated as labels (consistent with DataFrame behavior). To access a value by position, use `ser.iloc[pos]`\n",
      "  datapoints = [(row[0], row[1], row[2]) for index, row in data1.iterrows()]\n"
     ]
    },
    {
     "name": "stdout",
     "output_type": "stream",
     "text": [
      "Contains NaN: False\n",
      "Contains Inf: False\n",
      "finished\n",
      "no_incident_camera_baseRWS01_MONIBAS_0150vwn0594ra_2020-03-27 20:19:13.csv\n",
      "minimum x for incident no_incident_camera_baseRWS01_MONIBAS_0150vwn0594ra_2020-03-27 20:19:13.csv is 3000.0\n",
      "maximum x for incident no_incident_camera_baseRWS01_MONIBAS_0150vwn0594ra_2020-03-27 20:19:13.csv is 7829.770981522573\n",
      "x    3000.000000\n",
      "t       0.783333\n",
      "v      39.500000\n",
      "dtype: float64\n",
      "x    7829.770982\n",
      "t     239.783333\n",
      "v     148.000000\n",
      "dtype: float64\n"
     ]
    },
    {
     "name": "stderr",
     "output_type": "stream",
     "text": [
      "/var/folders/c0/2gmfm5qd4tl9nzl882r0xr040000gn/T/ipykernel_74463/1568644145.py:33: FutureWarning: Series.__getitem__ treating keys as positions is deprecated. In a future version, integer keys will always be treated as labels (consistent with DataFrame behavior). To access a value by position, use `ser.iloc[pos]`\n",
      "  datapoints = [(row[0], row[1], row[2]) for index, row in data1.iterrows()]\n"
     ]
    },
    {
     "name": "stdout",
     "output_type": "stream",
     "text": [
      "Contains NaN: False\n",
      "Contains Inf: False\n",
      "finished\n",
      "no_incident_camera_baseRWS01_MONICA_10D01002F400B8200007_2020-03-28 01:09:42.csv\n",
      "minimum x for incident no_incident_camera_baseRWS01_MONICA_10D01002F400B8200007_2020-03-28 01:09:42.csv is 1298.6502411816257\n",
      "maximum x for incident no_incident_camera_baseRWS01_MONICA_10D01002F400B8200007_2020-03-28 01:09:42.csv is 6358.708547755443\n",
      "x    1298.650241\n",
      "t       0.300000\n",
      "v       0.000000\n",
      "dtype: float64\n",
      "x    6358.708548\n",
      "t     239.300000\n",
      "v     184.000000\n",
      "dtype: float64\n"
     ]
    },
    {
     "name": "stderr",
     "output_type": "stream",
     "text": [
      "/var/folders/c0/2gmfm5qd4tl9nzl882r0xr040000gn/T/ipykernel_74463/1568644145.py:33: FutureWarning: Series.__getitem__ treating keys as positions is deprecated. In a future version, integer keys will always be treated as labels (consistent with DataFrame behavior). To access a value by position, use `ser.iloc[pos]`\n",
      "  datapoints = [(row[0], row[1], row[2]) for index, row in data1.iterrows()]\n"
     ]
    },
    {
     "name": "stdout",
     "output_type": "stream",
     "text": [
      "Contains NaN: False\n",
      "Contains Inf: False\n",
      "finished\n",
      "no_incident_camera_baseRWS01_MONIBAS_0150vws0507ra_2020-03-24 00:08:14.csv\n",
      "minimum x for incident no_incident_camera_baseRWS01_MONIBAS_0150vws0507ra_2020-03-24 00:08:14.csv is 55.52589440530437\n",
      "maximum x for incident no_incident_camera_baseRWS01_MONIBAS_0150vws0507ra_2020-03-24 00:08:14.csv is 5993.323397221873\n",
      "x    55.525894\n",
      "t     0.766667\n",
      "v    15.000000\n",
      "dtype: float64\n",
      "x    5993.323397\n",
      "t     239.766667\n",
      "v     189.000000\n",
      "dtype: float64\n"
     ]
    },
    {
     "name": "stderr",
     "output_type": "stream",
     "text": [
      "/var/folders/c0/2gmfm5qd4tl9nzl882r0xr040000gn/T/ipykernel_74463/1568644145.py:33: FutureWarning: Series.__getitem__ treating keys as positions is deprecated. In a future version, integer keys will always be treated as labels (consistent with DataFrame behavior). To access a value by position, use `ser.iloc[pos]`\n",
      "  datapoints = [(row[0], row[1], row[2]) for index, row in data1.iterrows()]\n"
     ]
    },
    {
     "name": "stdout",
     "output_type": "stream",
     "text": [
      "Contains NaN: False\n",
      "Contains Inf: False\n",
      "finished\n",
      "no_incident_camera_baseRWS01_MONIBAS_0150vws0507ra_2020-03-23 03:27:14.csv\n",
      "minimum x for incident no_incident_camera_baseRWS01_MONIBAS_0150vws0507ra_2020-03-23 03:27:14.csv is 725.0619709119824\n",
      "maximum x for incident no_incident_camera_baseRWS01_MONIBAS_0150vws0507ra_2020-03-23 03:27:14.csv is 5458.955875199852\n",
      "x    725.061971\n",
      "t      0.766667\n",
      "v     13.800000\n",
      "dtype: float64\n",
      "x    5458.955875\n",
      "t     239.766667\n",
      "v     185.000000\n",
      "dtype: float64\n"
     ]
    },
    {
     "name": "stderr",
     "output_type": "stream",
     "text": [
      "/var/folders/c0/2gmfm5qd4tl9nzl882r0xr040000gn/T/ipykernel_74463/1568644145.py:33: FutureWarning: Series.__getitem__ treating keys as positions is deprecated. In a future version, integer keys will always be treated as labels (consistent with DataFrame behavior). To access a value by position, use `ser.iloc[pos]`\n",
      "  datapoints = [(row[0], row[1], row[2]) for index, row in data1.iterrows()]\n"
     ]
    }
   ],
   "source": [
    "for folder_to_generate in folders_to_generate:\n",
    "    # create all the spatio diagrams for the incidents\n",
    "    # get incident data from ./incidentInterpolationData folder and create spatio diagrams\n",
    "    min_max_df = pd.DataFrame(columns=['incident_id', 'min_x', 'max_x'])\n",
    "\n",
    "    for filename in os.listdir(folder_to_generate):\n",
    "        if filename.endswith(\".csv\"):\n",
    "            print(filename)\n",
    "            # get full path to the file\n",
    "            filepath = folder_to_generate + \"/\" + filename\n",
    "            df = pd.read_csv(filepath)\n",
    "            min_x = df['x'].min()\n",
    "            max_x = df['x'].max()\n",
    "            print(f\"minimum x for incident {filename} is {min_x}\")\n",
    "            print(f\"maximum x for incident {filename} is {max_x}\")\n",
    "\n",
    "            # Add to min_max_df\n",
    "            min_max_df = pd.concat([min_max_df, pd.DataFrame({\n",
    "                'incident_id': [filename.split('.')[0]],\n",
    "                'min_x': [min_x],\n",
    "                'max_x': [max_x]\n",
    "            })], ignore_index=True)\n",
    "            \n",
    "            \n",
    "            incident_id = filename.split('.')[0]\n",
    "            # set to filepath\n",
    "            x_t_v_data_path = folder_to_generate + \"/\" + filename\n",
    "            \n",
    "            if max_x < 6000:\n",
    "                create_spatio_diagram(x_t_v_data_path, incident_id, max_x)\n",
    "            else:\n",
    "                create_spatio_diagram(x_t_v_data_path, incident_id)\n",
    "            print(\"finished\")\n",
    "        else:\n",
    "            continue\n",
    "        \n",
    "\n",
    "# say program finished\n",
    "os.system('say \"full spatio finished\"')"
   ]
  },
  {
   "cell_type": "markdown",
   "metadata": {},
   "source": [
    "Creating maps without interpolation below"
   ]
  },
  {
   "cell_type": "code",
   "execution_count": null,
   "metadata": {},
   "outputs": [],
   "source": [
    "\n",
    "# # show map without extrapolating the data, just the traces of the cameras\n",
    "\n",
    "# def spatiotemporal_unique(datapoints):\n",
    "#     # Create a grid for the spatiotemporal map\n",
    "#     spatio_map = np.zeros((int(minutes / minute_steps)+2, int(meters / meter_steps)+2))\n",
    "    \n",
    "#     # per location the datapoints are added chronologically, therefore we can use here the minutesteps as well\n",
    "#     for i in range(0, len(datapoints), minute_steps):\n",
    "#         spatio_x_axis = int(datapoints[i][1]/minute_steps)\n",
    "#         spatio_y_axis = int(datapoints[i][0]/meter_steps)\n",
    "#         print(\"spatio x axis: \", spatio_x_axis, \"for i = \", i)\n",
    "#         print(\"spatio y axis: \", spatio_y_axis, \"for i = \", i)\n",
    "#         spatio_map[spatio_x_axis, spatio_y_axis] = V(datapoints[i][0], datapoints[i][1], datapoints, sigma, tau)\n",
    "        \n",
    "#     return spatio_map\n",
    "\n",
    "\n",
    "# # Example synthetic data (xi, ti, vi)\n",
    "# # datapoints = [(np.random.randint(0, meters), np.random.randint(0, minutes), np.random.uniform(20, 120)) for _ in range(100)]\n",
    "\n",
    "# # Load the data\n",
    "# data = pd.read_csv(x_t_v_data_path)\n",
    "# datapoints = [(row[0], row[1], row[2]) for index, row in data.iterrows()]\n",
    "\n",
    "# # Generate the spatiotemporal map\n",
    "# spatio_map = spatiotemporal_unique(datapoints)\n",
    "\n",
    "# # Define the axes\n",
    "# y = np.linspace(0, meters, spatio_map.shape[1])  # Location axis for the y-axis\n",
    "# x = np.linspace(0, minutes, spatio_map.shape[0])  # Time axis for the x-axis\n",
    "\n",
    "# # Create the meshgrid for plotting, now with time on the x-axis and location on the y-axis\n",
    "# T, Y = np.meshgrid(x, y)\n",
    "\n",
    "# # Visualize the spatiotemporal map with location on the y-axis and time on the x-axis\n",
    "# plt.figure(figsize=(15, 8))\n",
    "# cp = plt.contourf(T, Y, spatio_map.T, levels=np.linspace(spatio_map.min(), spatio_map.max(), 100), cmap='viridis')\n",
    "# plt.colorbar(cp, label='V (km/h)')\n",
    "\n",
    "# # Set the labels correctly\n",
    "# plt.xlabel('Time (minutes from 7 AM)')\n",
    "# plt.ylabel('Location (km)')\n",
    "# plt.title('Spatiotemporal Traffic Data Visualization')\n",
    "\n",
    "# #save figure to ./spatiodiagrams_traces folder, with random name\n",
    "# plt.savefig('./spatiodiagrams_traces/spatiotemporal' + str(random) + '.png')\n",
    "\n",
    "# plt.show()      \n",
    "\n",
    "# os.system('say \"your program has finished\"')\n",
    "        \n",
    "        \n"
   ]
  },
  {
   "cell_type": "code",
   "execution_count": null,
   "metadata": {},
   "outputs": [],
   "source": [
    "# import os\n",
    "# # For macOS\n",
    "# os.system('say \"your program has finished\"')\n",
    "\n",
    "\n"
   ]
  }
 ],
 "metadata": {
  "kernelspec": {
   "display_name": "base",
   "language": "python",
   "name": "python3"
  },
  "language_info": {
   "codemirror_mode": {
    "name": "ipython",
    "version": 3
   },
   "file_extension": ".py",
   "mimetype": "text/x-python",
   "name": "python",
   "nbconvert_exporter": "python",
   "pygments_lexer": "ipython3",
   "version": "3.11.7"
  }
 },
 "nbformat": 4,
 "nbformat_minor": 2
}
