{
 "cells": [
  {
   "cell_type": "markdown",
   "metadata": {},
   "source": [
    "This create one spatiotemporal diagram for one incident"
   ]
  },
  {
   "cell_type": "code",
   "execution_count": 26,
   "metadata": {},
   "outputs": [],
   "source": [
    "import numpy as np\n",
    "import matplotlib.pyplot as plt\n",
    "import pandas as pd\n",
    "import os"
   ]
  },
  {
   "cell_type": "code",
   "execution_count": 27,
   "metadata": {},
   "outputs": [],
   "source": [
    "# could later set global variables here\n",
    "minutes = 240  # 20 hours\n",
    "meters = 6000 # 10 km\n",
    "\n",
    "minute_steps = 10 \n",
    "meter_steps = 100\n",
    "\n",
    "sigma = 200 # standard was 45\n",
    "tau = 45 # standard was 45"
   ]
  },
  {
   "cell_type": "code",
   "execution_count": 28,
   "metadata": {},
   "outputs": [
    {
     "data": {
      "text/plain": [
       "0"
      ]
     },
     "execution_count": 28,
     "metadata": {},
     "output_type": "execute_result"
    }
   ],
   "source": [
    "def phi_0(x, t, xi, ti, sigma, tau):\n",
    "    return np.exp(- (np.abs(x - xi) / sigma + np.abs(t - ti) / tau))\n",
    "\n",
    "def N(x, t, datapoints, sigma, tau):\n",
    "    return sum(phi_0(x, t, xi, ti, sigma, tau) for xi, ti, _ in datapoints)\n",
    "\n",
    "def V(x, t, datapoints, sigma, tau):\n",
    "    normalization_factor = N(x, t, datapoints, sigma, tau)\n",
    "    return sum(phi_0(x, t, xi, ti, sigma, tau) * vi for xi, ti, vi in datapoints) / normalization_factor\n",
    "\n",
    "def spatiotemporal(datapoints):\n",
    "    \n",
    "\n",
    "    # Create a grid for the spatiotemporal map\n",
    "    spatio_map = np.zeros((int(minutes / minute_steps), int(meters / meter_steps)))\n",
    "\n",
    "    for i in range(0, minutes, minute_steps):\n",
    "        for j in range(0, meters, meter_steps):\n",
    "            spatio_map[int(i / minute_steps), int(j / meter_steps)] = V(j, i, datapoints, sigma, tau)\n",
    "\n",
    "    return spatio_map\n",
    "\n",
    "# Example synthetic data (xi, ti, vi)\n",
    "# datapoints = [(np.random.randint(0, meters), np.random.randint(0, minutes), np.random.uniform(20, 120)) for _ in range(100)]\n",
    "def create_spatio_diagram(x_t_v_data_path, incident_id):\n",
    "\n",
    "    data1  =pd.read_csv(x_t_v_data_path)\n",
    "\n",
    "    # print minimum of values of the data for each column\n",
    "    print(data1.min())\n",
    "    print(data1.max())\n",
    "\n",
    "    datapoints = [(row[0], row[1], row[2]) for index, row in data1.iterrows()]\n",
    "\n",
    "    # Generate the spatiotemporal map\n",
    "    spatio_map = spatiotemporal(datapoints)\n",
    "\n",
    "    print(\"Contains NaN:\", np.isnan(spatio_map).any())\n",
    "    print(\"Contains Inf:\", np.isinf(spatio_map).any())\n",
    "\n",
    "    # Define the axes\n",
    "    y = np.linspace(0, meters, spatio_map.shape[1])  # Location axis for the y-axis\n",
    "    x = np.linspace(0, minutes, spatio_map.shape[0])  # Time axis for the x-axis\n",
    "\n",
    "    # Create the meshgrid for plotting, now with time on the x-axis and location on the y-axis\n",
    "    T, Y = np.meshgrid(x, y)\n",
    "\n",
    "    # Visualize the spatiotemporal map with location on the y-axis and time on the x-axis\n",
    "    plt.figure(figsize=(15, 8))\n",
    "    cp = plt.contourf(T, Y, spatio_map.T, levels=np.linspace(spatio_map.min(), spatio_map.max(), 100), cmap='viridis')\n",
    "    plt.colorbar(cp, label='V (km/h)')\n",
    "\n",
    "\n",
    "\n",
    "    # Set the labels correctly\n",
    "    plt.xlabel('Time (minutes)')\n",
    "    plt.ylabel('Location (meters)')\n",
    "    plt.title('Spatiotemporal Traffic Data Visualization')\n",
    "    # set in the subtitle the settings for sigma and tau\n",
    "    plt.suptitle(f'Sigma = {sigma}, Tau = {tau}')\n",
    "    # safe figure to ./spatiodiagrams folder, with random name\n",
    "\n",
    "    plt.savefig('/Users/vree/GithubRepos/DataScience/basFiles/3hoursFromIncidentToInterpolationData copy/diagramsForModelTraining/' + incident_id + '.png')\n",
    "\n",
    "\n",
    "\n",
    "os.system('say \"full spatio finished\"')\n",
    "\n",
    "\n"
   ]
  },
  {
   "cell_type": "code",
   "execution_count": 29,
   "metadata": {},
   "outputs": [
    {
     "name": "stdout",
     "output_type": "stream",
     "text": [
      "RWS02_0000167475_167475.csv\n",
      "minimum x for incident RWS02_0000167475_167475.csv is 1170.1615982696133\n",
      "maximum x for incident RWS02_0000167475_167475.csv is 4707.251707281296\n",
      "x    1170.161598\n",
      "t       0.533333\n",
      "v      21.444444\n",
      "dtype: float64\n",
      "x    4707.251707\n",
      "t     239.533333\n",
      "v     111.500000\n",
      "dtype: float64\n"
     ]
    },
    {
     "name": "stderr",
     "output_type": "stream",
     "text": [
      "/var/folders/c0/2gmfm5qd4tl9nzl882r0xr040000gn/T/ipykernel_46394/2174492482.py:17: FutureWarning: The behavior of DataFrame concatenation with empty or all-NA entries is deprecated. In a future version, this will no longer exclude empty or all-NA columns when determining the result dtypes. To retain the old behavior, exclude the relevant entries before the concat operation.\n",
      "  min_max_df = pd.concat([min_max_df, pd.DataFrame({\n",
      "/var/folders/c0/2gmfm5qd4tl9nzl882r0xr040000gn/T/ipykernel_46394/3590372041.py:33: FutureWarning: Series.__getitem__ treating keys as positions is deprecated. In a future version, integer keys will always be treated as labels (consistent with DataFrame behavior). To access a value by position, use `ser.iloc[pos]`\n",
      "  datapoints = [(row[0], row[1], row[2]) for index, row in data1.iterrows()]\n"
     ]
    },
    {
     "name": "stdout",
     "output_type": "stream",
     "text": [
      "Contains NaN: False\n",
      "Contains Inf: False\n",
      "finished\n",
      "RWS02_0000166350_166350.csv\n",
      "minimum x for incident RWS02_0000166350_166350.csv is 1146.1288462966631\n",
      "maximum x for incident RWS02_0000166350_166350.csv is 4679.193209912745\n",
      "x    1146.128846\n",
      "t       0.533333\n",
      "v       4.500000\n",
      "dtype: float64\n",
      "x    4679.193210\n",
      "t     239.533333\n",
      "v     114.500000\n",
      "dtype: float64\n"
     ]
    },
    {
     "name": "stderr",
     "output_type": "stream",
     "text": [
      "/var/folders/c0/2gmfm5qd4tl9nzl882r0xr040000gn/T/ipykernel_46394/3590372041.py:33: FutureWarning: Series.__getitem__ treating keys as positions is deprecated. In a future version, integer keys will always be treated as labels (consistent with DataFrame behavior). To access a value by position, use `ser.iloc[pos]`\n",
      "  datapoints = [(row[0], row[1], row[2]) for index, row in data1.iterrows()]\n"
     ]
    },
    {
     "name": "stdout",
     "output_type": "stream",
     "text": [
      "Contains NaN: False\n",
      "Contains Inf: False\n",
      "finished\n",
      "RWS03_822837_1.csv\n",
      "minimum x for incident RWS03_822837_1.csv is 1171.3451323176407\n",
      "maximum x for incident RWS03_822837_1.csv is 4709.954945912482\n",
      "x    1171.345132\n",
      "t       0.900000\n",
      "v       9.555556\n",
      "dtype: float64\n",
      "x    4709.954946\n",
      "t     239.900000\n",
      "v     134.000000\n",
      "dtype: float64\n"
     ]
    },
    {
     "name": "stderr",
     "output_type": "stream",
     "text": [
      "/var/folders/c0/2gmfm5qd4tl9nzl882r0xr040000gn/T/ipykernel_46394/3590372041.py:33: FutureWarning: Series.__getitem__ treating keys as positions is deprecated. In a future version, integer keys will always be treated as labels (consistent with DataFrame behavior). To access a value by position, use `ser.iloc[pos]`\n",
      "  datapoints = [(row[0], row[1], row[2]) for index, row in data1.iterrows()]\n"
     ]
    },
    {
     "name": "stdout",
     "output_type": "stream",
     "text": [
      "Contains NaN: False\n",
      "Contains Inf: False\n",
      "finished\n",
      "RWS02_0000166715_166715.csv\n",
      "minimum x for incident RWS02_0000166715_166715.csv is 2286.604563097712\n",
      "maximum x for incident RWS02_0000166715_166715.csv is 6167.004401071239\n",
      "x    2286.604563\n",
      "t       0.533333\n",
      "v       0.000000\n",
      "dtype: float64\n",
      "x    6167.004401\n",
      "t     239.533333\n",
      "v     130.000000\n",
      "dtype: float64\n"
     ]
    },
    {
     "name": "stderr",
     "output_type": "stream",
     "text": [
      "/var/folders/c0/2gmfm5qd4tl9nzl882r0xr040000gn/T/ipykernel_46394/3590372041.py:33: FutureWarning: Series.__getitem__ treating keys as positions is deprecated. In a future version, integer keys will always be treated as labels (consistent with DataFrame behavior). To access a value by position, use `ser.iloc[pos]`\n",
      "  datapoints = [(row[0], row[1], row[2]) for index, row in data1.iterrows()]\n"
     ]
    },
    {
     "name": "stdout",
     "output_type": "stream",
     "text": [
      "Contains NaN: False\n",
      "Contains Inf: False\n",
      "finished\n",
      "RWS02_0000165577_165577.csv\n",
      "minimum x for incident RWS02_0000165577_165577.csv is 2534.068443042045\n",
      "maximum x for incident RWS02_0000165577_165577.csv is 7870.12723830826\n",
      "x    2534.068443\n",
      "t       0.033333\n",
      "v      18.000000\n",
      "dtype: float64\n",
      "x    7870.127238\n",
      "t     239.033333\n",
      "v     184.000000\n",
      "dtype: float64\n"
     ]
    },
    {
     "name": "stderr",
     "output_type": "stream",
     "text": [
      "/var/folders/c0/2gmfm5qd4tl9nzl882r0xr040000gn/T/ipykernel_46394/3590372041.py:33: FutureWarning: Series.__getitem__ treating keys as positions is deprecated. In a future version, integer keys will always be treated as labels (consistent with DataFrame behavior). To access a value by position, use `ser.iloc[pos]`\n",
      "  datapoints = [(row[0], row[1], row[2]) for index, row in data1.iterrows()]\n"
     ]
    },
    {
     "name": "stdout",
     "output_type": "stream",
     "text": [
      "Contains NaN: False\n",
      "Contains Inf: False\n",
      "finished\n",
      "NLRWS_NLSIT002755295_1.csv\n",
      "minimum x for incident NLRWS_NLSIT002755295_1.csv is 1006.7230992877752\n",
      "maximum x for incident NLRWS_NLSIT002755295_1.csv is 7286.585663795384\n",
      "x    1006.723099\n",
      "t       0.000000\n",
      "v      38.750000\n",
      "dtype: float64\n",
      "x    7286.585664\n",
      "t     240.000000\n",
      "v     123.500000\n",
      "dtype: float64\n"
     ]
    },
    {
     "name": "stderr",
     "output_type": "stream",
     "text": [
      "/var/folders/c0/2gmfm5qd4tl9nzl882r0xr040000gn/T/ipykernel_46394/3590372041.py:33: FutureWarning: Series.__getitem__ treating keys as positions is deprecated. In a future version, integer keys will always be treated as labels (consistent with DataFrame behavior). To access a value by position, use `ser.iloc[pos]`\n",
      "  datapoints = [(row[0], row[1], row[2]) for index, row in data1.iterrows()]\n"
     ]
    },
    {
     "name": "stdout",
     "output_type": "stream",
     "text": [
      "Contains NaN: False\n",
      "Contains Inf: False\n",
      "finished\n",
      "RWS02_0000167088_167088.csv\n",
      "minimum x for incident RWS02_0000167088_167088.csv is 1320.365042364344\n",
      "maximum x for incident RWS02_0000167088_167088.csv is 7929.305242276045\n",
      "x    1320.365042\n",
      "t       0.033333\n",
      "v       0.250000\n",
      "dtype: float64\n",
      "x    7929.305242\n",
      "t     239.033333\n",
      "v     131.500000\n",
      "dtype: float64\n"
     ]
    },
    {
     "name": "stderr",
     "output_type": "stream",
     "text": [
      "/var/folders/c0/2gmfm5qd4tl9nzl882r0xr040000gn/T/ipykernel_46394/3590372041.py:33: FutureWarning: Series.__getitem__ treating keys as positions is deprecated. In a future version, integer keys will always be treated as labels (consistent with DataFrame behavior). To access a value by position, use `ser.iloc[pos]`\n",
      "  datapoints = [(row[0], row[1], row[2]) for index, row in data1.iterrows()]\n"
     ]
    },
    {
     "name": "stdout",
     "output_type": "stream",
     "text": [
      "Contains NaN: False\n",
      "Contains Inf: False\n",
      "finished\n",
      "RWS02_0000166846_166846.csv\n",
      "minimum x for incident RWS02_0000166846_166846.csv is 1482.6548858990143\n",
      "maximum x for incident RWS02_0000166846_166846.csv is 7865.668640518325\n",
      "x    1482.654886\n",
      "t       0.033333\n",
      "v       0.000000\n",
      "dtype: float64\n",
      "x    7865.668641\n",
      "t     239.033333\n",
      "v     119.000000\n",
      "dtype: float64\n"
     ]
    },
    {
     "name": "stderr",
     "output_type": "stream",
     "text": [
      "/var/folders/c0/2gmfm5qd4tl9nzl882r0xr040000gn/T/ipykernel_46394/3590372041.py:33: FutureWarning: Series.__getitem__ treating keys as positions is deprecated. In a future version, integer keys will always be treated as labels (consistent with DataFrame behavior). To access a value by position, use `ser.iloc[pos]`\n",
      "  datapoints = [(row[0], row[1], row[2]) for index, row in data1.iterrows()]\n"
     ]
    },
    {
     "name": "stdout",
     "output_type": "stream",
     "text": [
      "Contains NaN: False\n",
      "Contains Inf: False\n",
      "finished\n",
      "RWS03_822503_1.csv\n",
      "minimum x for incident RWS03_822503_1.csv is 1027.9168925602391\n",
      "maximum x for incident RWS03_822503_1.csv is 7752.231989165728\n",
      "x    1027.916893\n",
      "t       0.250000\n",
      "v      24.000000\n",
      "dtype: float64\n",
      "x    7752.231989\n",
      "t     239.250000\n",
      "v     127.500000\n",
      "dtype: float64\n"
     ]
    },
    {
     "name": "stderr",
     "output_type": "stream",
     "text": [
      "/var/folders/c0/2gmfm5qd4tl9nzl882r0xr040000gn/T/ipykernel_46394/3590372041.py:33: FutureWarning: Series.__getitem__ treating keys as positions is deprecated. In a future version, integer keys will always be treated as labels (consistent with DataFrame behavior). To access a value by position, use `ser.iloc[pos]`\n",
      "  datapoints = [(row[0], row[1], row[2]) for index, row in data1.iterrows()]\n"
     ]
    },
    {
     "name": "stdout",
     "output_type": "stream",
     "text": [
      "Contains NaN: False\n",
      "Contains Inf: False\n",
      "finished\n",
      "NLRWS_NLSIT002755289_1.csv\n",
      "minimum x for incident NLRWS_NLSIT002755289_1.csv is 1293.2067451448058\n",
      "maximum x for incident NLRWS_NLSIT002755289_1.csv is 7726.4142277947885\n",
      "x    1293.206745\n",
      "t       0.000000\n",
      "v      37.500000\n",
      "dtype: float64\n",
      "x    7726.414228\n",
      "t     240.000000\n",
      "v     118.000000\n",
      "dtype: float64\n"
     ]
    },
    {
     "name": "stderr",
     "output_type": "stream",
     "text": [
      "/var/folders/c0/2gmfm5qd4tl9nzl882r0xr040000gn/T/ipykernel_46394/3590372041.py:33: FutureWarning: Series.__getitem__ treating keys as positions is deprecated. In a future version, integer keys will always be treated as labels (consistent with DataFrame behavior). To access a value by position, use `ser.iloc[pos]`\n",
      "  datapoints = [(row[0], row[1], row[2]) for index, row in data1.iterrows()]\n"
     ]
    },
    {
     "name": "stdout",
     "output_type": "stream",
     "text": [
      "Contains NaN: False\n",
      "Contains Inf: False\n",
      "finished\n",
      "RWS02_0000166496_166496.csv\n",
      "minimum x for incident RWS02_0000166496_166496.csv is 1072.319314396111\n",
      "maximum x for incident RWS02_0000166496_166496.csv is 7896.215283078425\n",
      "x    1072.319314\n",
      "t       0.033333\n",
      "v      19.250000\n",
      "dtype: float64\n",
      "x    7896.215283\n",
      "t     239.033333\n",
      "v     169.000000\n",
      "dtype: float64\n"
     ]
    },
    {
     "name": "stderr",
     "output_type": "stream",
     "text": [
      "/var/folders/c0/2gmfm5qd4tl9nzl882r0xr040000gn/T/ipykernel_46394/3590372041.py:33: FutureWarning: Series.__getitem__ treating keys as positions is deprecated. In a future version, integer keys will always be treated as labels (consistent with DataFrame behavior). To access a value by position, use `ser.iloc[pos]`\n",
      "  datapoints = [(row[0], row[1], row[2]) for index, row in data1.iterrows()]\n"
     ]
    }
   ],
   "source": [
    "# create all the spatio diagrams for the incidents\n",
    "# get incident data from ./incidentInterpolationData folder and create spatio diagrams\n",
    "min_max_df = pd.DataFrame(columns=['incident_id', 'min_x', 'max_x'])\n",
    "\n",
    "for filename in os.listdir('/Users/vree/GithubRepos/DataScience/basFiles/3hoursFromIncidentToInterpolationData copy/incidentInterpolationData'):\n",
    "    if filename.endswith(\".csv\"):\n",
    "        print(filename)\n",
    "        # get full path to the file\n",
    "        filepath = '/Users/vree/GithubRepos/DataScience/basFiles/3hoursFromIncidentToInterpolationData copy/incidentInterpolationData/' + filename\n",
    "        df = pd.read_csv(filepath)\n",
    "        min_x = df['x'].min()\n",
    "        max_x = df['x'].max()\n",
    "        print(f\"minimum x for incident {filename} is {min_x}\")\n",
    "        print(f\"maximum x for incident {filename} is {max_x}\")\n",
    "\n",
    "        # Add to min_max_df\n",
    "        min_max_df = pd.concat([min_max_df, pd.DataFrame({\n",
    "            'incident_id': [filename.split('.')[0]],\n",
    "            'min_x': [min_x],\n",
    "            'max_x': [max_x]\n",
    "        })], ignore_index=True)\n",
    "        \n",
    "        \n",
    "        incident_id = filename.split('.')[0]\n",
    "        # set to filepath\n",
    "        x_t_v_data_path = '/Users/vree/GithubRepos/DataScience/basFiles/3hoursFromIncidentToInterpolationData copy/incidentInterpolationData/' + filename\n",
    "        create_spatio_diagram(x_t_v_data_path, incident_id)\n",
    "        print(\"finished\")\n",
    "    else:\n",
    "        continue"
   ]
  },
  {
   "cell_type": "markdown",
   "metadata": {},
   "source": [
    "Creating maps without interpolation below"
   ]
  },
  {
   "cell_type": "code",
   "execution_count": null,
   "metadata": {},
   "outputs": [],
   "source": [
    "\n",
    "# # show map without extrapolating the data, just the traces of the cameras\n",
    "\n",
    "# def spatiotemporal_unique(datapoints):\n",
    "#     # Create a grid for the spatiotemporal map\n",
    "#     spatio_map = np.zeros((int(minutes / minute_steps)+2, int(meters / meter_steps)+2))\n",
    "    \n",
    "#     # per location the datapoints are added chronologically, therefore we can use here the minutesteps as well\n",
    "#     for i in range(0, len(datapoints), minute_steps):\n",
    "#         spatio_x_axis = int(datapoints[i][1]/minute_steps)\n",
    "#         spatio_y_axis = int(datapoints[i][0]/meter_steps)\n",
    "#         print(\"spatio x axis: \", spatio_x_axis, \"for i = \", i)\n",
    "#         print(\"spatio y axis: \", spatio_y_axis, \"for i = \", i)\n",
    "#         spatio_map[spatio_x_axis, spatio_y_axis] = V(datapoints[i][0], datapoints[i][1], datapoints, sigma, tau)\n",
    "        \n",
    "#     return spatio_map\n",
    "\n",
    "\n",
    "# # Example synthetic data (xi, ti, vi)\n",
    "# # datapoints = [(np.random.randint(0, meters), np.random.randint(0, minutes), np.random.uniform(20, 120)) for _ in range(100)]\n",
    "\n",
    "# # Load the data\n",
    "# data = pd.read_csv(x_t_v_data_path)\n",
    "# datapoints = [(row[0], row[1], row[2]) for index, row in data.iterrows()]\n",
    "\n",
    "# # Generate the spatiotemporal map\n",
    "# spatio_map = spatiotemporal_unique(datapoints)\n",
    "\n",
    "# # Define the axes\n",
    "# y = np.linspace(0, meters, spatio_map.shape[1])  # Location axis for the y-axis\n",
    "# x = np.linspace(0, minutes, spatio_map.shape[0])  # Time axis for the x-axis\n",
    "\n",
    "# # Create the meshgrid for plotting, now with time on the x-axis and location on the y-axis\n",
    "# T, Y = np.meshgrid(x, y)\n",
    "\n",
    "# # Visualize the spatiotemporal map with location on the y-axis and time on the x-axis\n",
    "# plt.figure(figsize=(15, 8))\n",
    "# cp = plt.contourf(T, Y, spatio_map.T, levels=np.linspace(spatio_map.min(), spatio_map.max(), 100), cmap='viridis')\n",
    "# plt.colorbar(cp, label='V (km/h)')\n",
    "\n",
    "# # Set the labels correctly\n",
    "# plt.xlabel('Time (minutes from 7 AM)')\n",
    "# plt.ylabel('Location (km)')\n",
    "# plt.title('Spatiotemporal Traffic Data Visualization')\n",
    "\n",
    "# #save figure to ./spatiodiagrams_traces folder, with random name\n",
    "# plt.savefig('./spatiodiagrams_traces/spatiotemporal' + str(random) + '.png')\n",
    "\n",
    "# plt.show()      \n",
    "\n",
    "# os.system('say \"your program has finished\"')\n",
    "        \n",
    "        \n"
   ]
  },
  {
   "cell_type": "code",
   "execution_count": null,
   "metadata": {},
   "outputs": [],
   "source": [
    "# import os\n",
    "# # For macOS\n",
    "# os.system('say \"your program has finished\"')\n",
    "\n",
    "\n"
   ]
  }
 ],
 "metadata": {
  "kernelspec": {
   "display_name": "base",
   "language": "python",
   "name": "python3"
  },
  "language_info": {
   "codemirror_mode": {
    "name": "ipython",
    "version": 3
   },
   "file_extension": ".py",
   "mimetype": "text/x-python",
   "name": "python",
   "nbconvert_exporter": "python",
   "pygments_lexer": "ipython3",
   "version": "3.11.7"
  }
 },
 "nbformat": 4,
 "nbformat_minor": 2
}
